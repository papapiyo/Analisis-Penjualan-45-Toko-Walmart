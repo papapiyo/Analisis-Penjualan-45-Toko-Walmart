{
  "cells": [
    {
      "cell_type": "code",
      "source": [
        "from google.colab import drive\n",
        "drive.mount('/content/drive')"
      ],
      "metadata": {
        "id": "fVxlaWOLsP5H",
        "colab": {
          "base_uri": "https://localhost:8080/"
        },
        "outputId": "820b0104-bab9-4dbd-81cd-16c4533bb765"
      },
      "id": "fVxlaWOLsP5H",
      "execution_count": 1,
      "outputs": [
        {
          "output_type": "stream",
          "name": "stdout",
          "text": [
            "Drive already mounted at /content/drive; to attempt to forcibly remount, call drive.mount(\"/content/drive\", force_remount=True).\n"
          ]
        }
      ]
    },
    {
      "cell_type": "code",
      "execution_count": 2,
      "id": "d5a5536c",
      "metadata": {
        "execution": {
          "iopub.execute_input": "2022-01-22T20:34:42.563346Z",
          "iopub.status.busy": "2022-01-22T20:34:42.562611Z",
          "iopub.status.idle": "2022-01-22T20:34:43.885248Z",
          "shell.execute_reply": "2022-01-22T20:34:43.884699Z",
          "shell.execute_reply.started": "2022-01-22T20:25:09.208666Z"
        },
        "papermill": {
          "duration": 1.341555,
          "end_time": "2022-01-22T20:34:43.885360",
          "exception": false,
          "start_time": "2022-01-22T20:34:42.543805",
          "status": "completed"
        },
        "tags": [],
        "id": "d5a5536c"
      },
      "outputs": [],
      "source": [
        "# Import Library\n",
        "import numpy as np\n",
        "import pandas as pd\n",
        "import matplotlib.pyplot as plt\n",
        "import seaborn as sns\n",
        "plt.style.use('ggplot')\n",
        "from scipy.stats import expon\n",
        "from scipy.stats import norm\n",
        "from statsmodels.stats.proportion import proportions_ztest\n",
        "from scipy.stats import f\n",
        "from scipy.stats import t\n",
        "from scipy.stats import ttest_1samp"
      ]
    },
    {
      "cell_type": "code",
      "execution_count": 3,
      "id": "db883035",
      "metadata": {
        "execution": {
          "iopub.execute_input": "2022-01-22T20:34:43.924262Z",
          "iopub.status.busy": "2022-01-22T20:34:43.923643Z",
          "iopub.status.idle": "2022-01-22T20:34:43.952935Z",
          "shell.execute_reply": "2022-01-22T20:34:43.953395Z",
          "shell.execute_reply.started": "2022-01-22T20:25:12.942546Z"
        },
        "papermill": {
          "duration": 0.05076,
          "end_time": "2022-01-22T20:34:43.953534",
          "exception": false,
          "start_time": "2022-01-22T20:34:43.902774",
          "status": "completed"
        },
        "tags": [],
        "id": "db883035"
      },
      "outputs": [],
      "source": [
        "# Membaca file csv\n",
        "wal = pd.read_csv('/content/drive/MyDrive/Pacmann/Project/202305 - Project 03 - Probability/walmart-sales-dataset-of-45stores.csv')"
      ]
    },
    {
      "cell_type": "code",
      "source": [
        "# Lima data teratas dari dataframe wal\n",
        "wal.head()"
      ],
      "metadata": {
        "colab": {
          "base_uri": "https://localhost:8080/",
          "height": 206
        },
        "id": "5S691pqNvOJJ",
        "outputId": "25f01573-ad08-4931-903f-a577da8438c2"
      },
      "id": "5S691pqNvOJJ",
      "execution_count": 4,
      "outputs": [
        {
          "output_type": "execute_result",
          "data": {
            "text/plain": [
              "   Store        Date  Weekly_Sales  Holiday_Flag  Temperature  Fuel_Price  \\\n",
              "0      1  05-02-2010    1643690.90             0        42.31       2.572   \n",
              "1      1  12-02-2010    1641957.44             1        38.51       2.548   \n",
              "2      1  19-02-2010    1611968.17             0        39.93       2.514   \n",
              "3      1  26-02-2010    1409727.59             0        46.63       2.561   \n",
              "4      1  05-03-2010    1554806.68             0        46.50       2.625   \n",
              "\n",
              "          CPI  Unemployment  \n",
              "0  211.096358         8.106  \n",
              "1  211.242170         8.106  \n",
              "2  211.289143         8.106  \n",
              "3  211.319643         8.106  \n",
              "4  211.350143         8.106  "
            ],
            "text/html": [
              "\n",
              "  <div id=\"df-e8495545-4d14-44ac-ac09-3aa2121ccd13\">\n",
              "    <div class=\"colab-df-container\">\n",
              "      <div>\n",
              "<style scoped>\n",
              "    .dataframe tbody tr th:only-of-type {\n",
              "        vertical-align: middle;\n",
              "    }\n",
              "\n",
              "    .dataframe tbody tr th {\n",
              "        vertical-align: top;\n",
              "    }\n",
              "\n",
              "    .dataframe thead th {\n",
              "        text-align: right;\n",
              "    }\n",
              "</style>\n",
              "<table border=\"1\" class=\"dataframe\">\n",
              "  <thead>\n",
              "    <tr style=\"text-align: right;\">\n",
              "      <th></th>\n",
              "      <th>Store</th>\n",
              "      <th>Date</th>\n",
              "      <th>Weekly_Sales</th>\n",
              "      <th>Holiday_Flag</th>\n",
              "      <th>Temperature</th>\n",
              "      <th>Fuel_Price</th>\n",
              "      <th>CPI</th>\n",
              "      <th>Unemployment</th>\n",
              "    </tr>\n",
              "  </thead>\n",
              "  <tbody>\n",
              "    <tr>\n",
              "      <th>0</th>\n",
              "      <td>1</td>\n",
              "      <td>05-02-2010</td>\n",
              "      <td>1643690.90</td>\n",
              "      <td>0</td>\n",
              "      <td>42.31</td>\n",
              "      <td>2.572</td>\n",
              "      <td>211.096358</td>\n",
              "      <td>8.106</td>\n",
              "    </tr>\n",
              "    <tr>\n",
              "      <th>1</th>\n",
              "      <td>1</td>\n",
              "      <td>12-02-2010</td>\n",
              "      <td>1641957.44</td>\n",
              "      <td>1</td>\n",
              "      <td>38.51</td>\n",
              "      <td>2.548</td>\n",
              "      <td>211.242170</td>\n",
              "      <td>8.106</td>\n",
              "    </tr>\n",
              "    <tr>\n",
              "      <th>2</th>\n",
              "      <td>1</td>\n",
              "      <td>19-02-2010</td>\n",
              "      <td>1611968.17</td>\n",
              "      <td>0</td>\n",
              "      <td>39.93</td>\n",
              "      <td>2.514</td>\n",
              "      <td>211.289143</td>\n",
              "      <td>8.106</td>\n",
              "    </tr>\n",
              "    <tr>\n",
              "      <th>3</th>\n",
              "      <td>1</td>\n",
              "      <td>26-02-2010</td>\n",
              "      <td>1409727.59</td>\n",
              "      <td>0</td>\n",
              "      <td>46.63</td>\n",
              "      <td>2.561</td>\n",
              "      <td>211.319643</td>\n",
              "      <td>8.106</td>\n",
              "    </tr>\n",
              "    <tr>\n",
              "      <th>4</th>\n",
              "      <td>1</td>\n",
              "      <td>05-03-2010</td>\n",
              "      <td>1554806.68</td>\n",
              "      <td>0</td>\n",
              "      <td>46.50</td>\n",
              "      <td>2.625</td>\n",
              "      <td>211.350143</td>\n",
              "      <td>8.106</td>\n",
              "    </tr>\n",
              "  </tbody>\n",
              "</table>\n",
              "</div>\n",
              "      <button class=\"colab-df-convert\" onclick=\"convertToInteractive('df-e8495545-4d14-44ac-ac09-3aa2121ccd13')\"\n",
              "              title=\"Convert this dataframe to an interactive table.\"\n",
              "              style=\"display:none;\">\n",
              "        \n",
              "  <svg xmlns=\"http://www.w3.org/2000/svg\" height=\"24px\"viewBox=\"0 0 24 24\"\n",
              "       width=\"24px\">\n",
              "    <path d=\"M0 0h24v24H0V0z\" fill=\"none\"/>\n",
              "    <path d=\"M18.56 5.44l.94 2.06.94-2.06 2.06-.94-2.06-.94-.94-2.06-.94 2.06-2.06.94zm-11 1L8.5 8.5l.94-2.06 2.06-.94-2.06-.94L8.5 2.5l-.94 2.06-2.06.94zm10 10l.94 2.06.94-2.06 2.06-.94-2.06-.94-.94-2.06-.94 2.06-2.06.94z\"/><path d=\"M17.41 7.96l-1.37-1.37c-.4-.4-.92-.59-1.43-.59-.52 0-1.04.2-1.43.59L10.3 9.45l-7.72 7.72c-.78.78-.78 2.05 0 2.83L4 21.41c.39.39.9.59 1.41.59.51 0 1.02-.2 1.41-.59l7.78-7.78 2.81-2.81c.8-.78.8-2.07 0-2.86zM5.41 20L4 18.59l7.72-7.72 1.47 1.35L5.41 20z\"/>\n",
              "  </svg>\n",
              "      </button>\n",
              "      \n",
              "  <style>\n",
              "    .colab-df-container {\n",
              "      display:flex;\n",
              "      flex-wrap:wrap;\n",
              "      gap: 12px;\n",
              "    }\n",
              "\n",
              "    .colab-df-convert {\n",
              "      background-color: #E8F0FE;\n",
              "      border: none;\n",
              "      border-radius: 50%;\n",
              "      cursor: pointer;\n",
              "      display: none;\n",
              "      fill: #1967D2;\n",
              "      height: 32px;\n",
              "      padding: 0 0 0 0;\n",
              "      width: 32px;\n",
              "    }\n",
              "\n",
              "    .colab-df-convert:hover {\n",
              "      background-color: #E2EBFA;\n",
              "      box-shadow: 0px 1px 2px rgba(60, 64, 67, 0.3), 0px 1px 3px 1px rgba(60, 64, 67, 0.15);\n",
              "      fill: #174EA6;\n",
              "    }\n",
              "\n",
              "    [theme=dark] .colab-df-convert {\n",
              "      background-color: #3B4455;\n",
              "      fill: #D2E3FC;\n",
              "    }\n",
              "\n",
              "    [theme=dark] .colab-df-convert:hover {\n",
              "      background-color: #434B5C;\n",
              "      box-shadow: 0px 1px 3px 1px rgba(0, 0, 0, 0.15);\n",
              "      filter: drop-shadow(0px 1px 2px rgba(0, 0, 0, 0.3));\n",
              "      fill: #FFFFFF;\n",
              "    }\n",
              "  </style>\n",
              "\n",
              "      <script>\n",
              "        const buttonEl =\n",
              "          document.querySelector('#df-e8495545-4d14-44ac-ac09-3aa2121ccd13 button.colab-df-convert');\n",
              "        buttonEl.style.display =\n",
              "          google.colab.kernel.accessAllowed ? 'block' : 'none';\n",
              "\n",
              "        async function convertToInteractive(key) {\n",
              "          const element = document.querySelector('#df-e8495545-4d14-44ac-ac09-3aa2121ccd13');\n",
              "          const dataTable =\n",
              "            await google.colab.kernel.invokeFunction('convertToInteractive',\n",
              "                                                     [key], {});\n",
              "          if (!dataTable) return;\n",
              "\n",
              "          const docLinkHtml = 'Like what you see? Visit the ' +\n",
              "            '<a target=\"_blank\" href=https://colab.research.google.com/notebooks/data_table.ipynb>data table notebook</a>'\n",
              "            + ' to learn more about interactive tables.';\n",
              "          element.innerHTML = '';\n",
              "          dataTable['output_type'] = 'display_data';\n",
              "          await google.colab.output.renderOutput(dataTable, element);\n",
              "          const docLink = document.createElement('div');\n",
              "          docLink.innerHTML = docLinkHtml;\n",
              "          element.appendChild(docLink);\n",
              "        }\n",
              "      </script>\n",
              "    </div>\n",
              "  </div>\n",
              "  "
            ]
          },
          "metadata": {},
          "execution_count": 4
        }
      ]
    },
    {
      "cell_type": "code",
      "source": [
        "# Memeriksa missing values pada dataframe\n",
        "wal.isna().sum().to_frame().reset_index().rename(columns={\"index\":\"column_name\", 0:\"value\"})"
      ],
      "metadata": {
        "colab": {
          "base_uri": "https://localhost:8080/",
          "height": 300
        },
        "id": "zclrRWW2xZw0",
        "outputId": "29bfc171-0a7b-4450-b513-d67962826417"
      },
      "id": "zclrRWW2xZw0",
      "execution_count": 5,
      "outputs": [
        {
          "output_type": "execute_result",
          "data": {
            "text/plain": [
              "    column_name  value\n",
              "0         Store      0\n",
              "1          Date      0\n",
              "2  Weekly_Sales      0\n",
              "3  Holiday_Flag      0\n",
              "4   Temperature      0\n",
              "5    Fuel_Price      0\n",
              "6           CPI      0\n",
              "7  Unemployment      0"
            ],
            "text/html": [
              "\n",
              "  <div id=\"df-12de0642-a3e1-4afe-9199-06c9aca1447f\">\n",
              "    <div class=\"colab-df-container\">\n",
              "      <div>\n",
              "<style scoped>\n",
              "    .dataframe tbody tr th:only-of-type {\n",
              "        vertical-align: middle;\n",
              "    }\n",
              "\n",
              "    .dataframe tbody tr th {\n",
              "        vertical-align: top;\n",
              "    }\n",
              "\n",
              "    .dataframe thead th {\n",
              "        text-align: right;\n",
              "    }\n",
              "</style>\n",
              "<table border=\"1\" class=\"dataframe\">\n",
              "  <thead>\n",
              "    <tr style=\"text-align: right;\">\n",
              "      <th></th>\n",
              "      <th>column_name</th>\n",
              "      <th>value</th>\n",
              "    </tr>\n",
              "  </thead>\n",
              "  <tbody>\n",
              "    <tr>\n",
              "      <th>0</th>\n",
              "      <td>Store</td>\n",
              "      <td>0</td>\n",
              "    </tr>\n",
              "    <tr>\n",
              "      <th>1</th>\n",
              "      <td>Date</td>\n",
              "      <td>0</td>\n",
              "    </tr>\n",
              "    <tr>\n",
              "      <th>2</th>\n",
              "      <td>Weekly_Sales</td>\n",
              "      <td>0</td>\n",
              "    </tr>\n",
              "    <tr>\n",
              "      <th>3</th>\n",
              "      <td>Holiday_Flag</td>\n",
              "      <td>0</td>\n",
              "    </tr>\n",
              "    <tr>\n",
              "      <th>4</th>\n",
              "      <td>Temperature</td>\n",
              "      <td>0</td>\n",
              "    </tr>\n",
              "    <tr>\n",
              "      <th>5</th>\n",
              "      <td>Fuel_Price</td>\n",
              "      <td>0</td>\n",
              "    </tr>\n",
              "    <tr>\n",
              "      <th>6</th>\n",
              "      <td>CPI</td>\n",
              "      <td>0</td>\n",
              "    </tr>\n",
              "    <tr>\n",
              "      <th>7</th>\n",
              "      <td>Unemployment</td>\n",
              "      <td>0</td>\n",
              "    </tr>\n",
              "  </tbody>\n",
              "</table>\n",
              "</div>\n",
              "      <button class=\"colab-df-convert\" onclick=\"convertToInteractive('df-12de0642-a3e1-4afe-9199-06c9aca1447f')\"\n",
              "              title=\"Convert this dataframe to an interactive table.\"\n",
              "              style=\"display:none;\">\n",
              "        \n",
              "  <svg xmlns=\"http://www.w3.org/2000/svg\" height=\"24px\"viewBox=\"0 0 24 24\"\n",
              "       width=\"24px\">\n",
              "    <path d=\"M0 0h24v24H0V0z\" fill=\"none\"/>\n",
              "    <path d=\"M18.56 5.44l.94 2.06.94-2.06 2.06-.94-2.06-.94-.94-2.06-.94 2.06-2.06.94zm-11 1L8.5 8.5l.94-2.06 2.06-.94-2.06-.94L8.5 2.5l-.94 2.06-2.06.94zm10 10l.94 2.06.94-2.06 2.06-.94-2.06-.94-.94-2.06-.94 2.06-2.06.94z\"/><path d=\"M17.41 7.96l-1.37-1.37c-.4-.4-.92-.59-1.43-.59-.52 0-1.04.2-1.43.59L10.3 9.45l-7.72 7.72c-.78.78-.78 2.05 0 2.83L4 21.41c.39.39.9.59 1.41.59.51 0 1.02-.2 1.41-.59l7.78-7.78 2.81-2.81c.8-.78.8-2.07 0-2.86zM5.41 20L4 18.59l7.72-7.72 1.47 1.35L5.41 20z\"/>\n",
              "  </svg>\n",
              "      </button>\n",
              "      \n",
              "  <style>\n",
              "    .colab-df-container {\n",
              "      display:flex;\n",
              "      flex-wrap:wrap;\n",
              "      gap: 12px;\n",
              "    }\n",
              "\n",
              "    .colab-df-convert {\n",
              "      background-color: #E8F0FE;\n",
              "      border: none;\n",
              "      border-radius: 50%;\n",
              "      cursor: pointer;\n",
              "      display: none;\n",
              "      fill: #1967D2;\n",
              "      height: 32px;\n",
              "      padding: 0 0 0 0;\n",
              "      width: 32px;\n",
              "    }\n",
              "\n",
              "    .colab-df-convert:hover {\n",
              "      background-color: #E2EBFA;\n",
              "      box-shadow: 0px 1px 2px rgba(60, 64, 67, 0.3), 0px 1px 3px 1px rgba(60, 64, 67, 0.15);\n",
              "      fill: #174EA6;\n",
              "    }\n",
              "\n",
              "    [theme=dark] .colab-df-convert {\n",
              "      background-color: #3B4455;\n",
              "      fill: #D2E3FC;\n",
              "    }\n",
              "\n",
              "    [theme=dark] .colab-df-convert:hover {\n",
              "      background-color: #434B5C;\n",
              "      box-shadow: 0px 1px 3px 1px rgba(0, 0, 0, 0.15);\n",
              "      filter: drop-shadow(0px 1px 2px rgba(0, 0, 0, 0.3));\n",
              "      fill: #FFFFFF;\n",
              "    }\n",
              "  </style>\n",
              "\n",
              "      <script>\n",
              "        const buttonEl =\n",
              "          document.querySelector('#df-12de0642-a3e1-4afe-9199-06c9aca1447f button.colab-df-convert');\n",
              "        buttonEl.style.display =\n",
              "          google.colab.kernel.accessAllowed ? 'block' : 'none';\n",
              "\n",
              "        async function convertToInteractive(key) {\n",
              "          const element = document.querySelector('#df-12de0642-a3e1-4afe-9199-06c9aca1447f');\n",
              "          const dataTable =\n",
              "            await google.colab.kernel.invokeFunction('convertToInteractive',\n",
              "                                                     [key], {});\n",
              "          if (!dataTable) return;\n",
              "\n",
              "          const docLinkHtml = 'Like what you see? Visit the ' +\n",
              "            '<a target=\"_blank\" href=https://colab.research.google.com/notebooks/data_table.ipynb>data table notebook</a>'\n",
              "            + ' to learn more about interactive tables.';\n",
              "          element.innerHTML = '';\n",
              "          dataTable['output_type'] = 'display_data';\n",
              "          await google.colab.output.renderOutput(dataTable, element);\n",
              "          const docLink = document.createElement('div');\n",
              "          docLink.innerHTML = docLinkHtml;\n",
              "          element.appendChild(docLink);\n",
              "        }\n",
              "      </script>\n",
              "    </div>\n",
              "  </div>\n",
              "  "
            ]
          },
          "metadata": {},
          "execution_count": 5
        }
      ]
    },
    {
      "cell_type": "code",
      "source": [
        "# Memeriksa outlier pada kolom Weekly_Sales, Fuel_Price, dan CPI\n",
        "fig, axs = plt.subplots(ncols=3, figsize=(15,4))\n",
        "sns.boxplot(x=wal['Weekly_Sales'], ax=axs[0])\n",
        "sns.boxplot(x=wal['Fuel_Price'], ax=axs[1])\n",
        "sns.boxplot(x=wal['CPI'], ax=axs[2])\n",
        "\n",
        "# Menampilkan boxplot\n",
        "plt.show()"
      ],
      "metadata": {
        "colab": {
          "base_uri": "https://localhost:8080/",
          "height": 392
        },
        "id": "VJo5YPQBc08a",
        "outputId": "c2d89014-bcf9-489c-ff57-46ddbbd59e07"
      },
      "id": "VJo5YPQBc08a",
      "execution_count": 6,
      "outputs": [
        {
          "output_type": "display_data",
          "data": {
            "text/plain": [
              "<Figure size 1500x400 with 3 Axes>"
            ],
            "image/png": "[encoded data removed]"
          },
          "metadata": {}
        }
      ]
    },
    {
      "cell_type": "code",
      "source": [
        "# Remove outliers pada data Weekly_Sales\n",
        "Q1_sales = wal['Weekly_Sales'].quantile(0.25)\n",
        "Q3_sales = wal['Weekly_Sales'].quantile(0.75)\n",
        "\n",
        "IQR = Q3_sales - Q1_sales\n",
        "\n",
        "batas_bawah = Q1_sales - 1.5 * IQR\n",
        "batas_atas = Q3_sales + 1.5 * IQR"
      ],
      "metadata": {
        "id": "iWQdhgFvuFr7"
      },
      "id": "iWQdhgFvuFr7",
      "execution_count": 7,
      "outputs": []
    },
    {
      "cell_type": "code",
      "source": [
        "# Dataframe tanpa outliers\n",
        "wal_new = wal[(wal['Weekly_Sales'] > batas_bawah) & (wal['Weekly_Sales'] < batas_atas)]\n",
        "wal_new.head()"
      ],
      "metadata": {
        "colab": {
          "base_uri": "https://localhost:8080/",
          "height": 206
        },
        "id": "oU8TaedxuMTF",
        "outputId": "3bf790f4-ea29-483e-c8b7-f5a702d1487a"
      },
      "id": "oU8TaedxuMTF",
      "execution_count": 8,
      "outputs": [
        {
          "output_type": "execute_result",
          "data": {
            "text/plain": [
              "   Store        Date  Weekly_Sales  Holiday_Flag  Temperature  Fuel_Price  \\\n",
              "0      1  05-02-2010    1643690.90             0        42.31       2.572   \n",
              "1      1  12-02-2010    1641957.44             1        38.51       2.548   \n",
              "2      1  19-02-2010    1611968.17             0        39.93       2.514   \n",
              "3      1  26-02-2010    1409727.59             0        46.63       2.561   \n",
              "4      1  05-03-2010    1554806.68             0        46.50       2.625   \n",
              "\n",
              "          CPI  Unemployment  \n",
              "0  211.096358         8.106  \n",
              "1  211.242170         8.106  \n",
              "2  211.289143         8.106  \n",
              "3  211.319643         8.106  \n",
              "4  211.350143         8.106  "
            ],
            "text/html": [
              "\n",
              "  <div id=\"df-918445cb-759c-43f0-a758-a18e41245978\">\n",
              "    <div class=\"colab-df-container\">\n",
              "      <div>\n",
              "<style scoped>\n",
              "    .dataframe tbody tr th:only-of-type {\n",
              "        vertical-align: middle;\n",
              "    }\n",
              "\n",
              "    .dataframe tbody tr th {\n",
              "        vertical-align: top;\n",
              "    }\n",
              "\n",
              "    .dataframe thead th {\n",
              "        text-align: right;\n",
              "    }\n",
              "</style>\n",
              "<table border=\"1\" class=\"dataframe\">\n",
              "  <thead>\n",
              "    <tr style=\"text-align: right;\">\n",
              "      <th></th>\n",
              "      <th>Store</th>\n",
              "      <th>Date</th>\n",
              "      <th>Weekly_Sales</th>\n",
              "      <th>Holiday_Flag</th>\n",
              "      <th>Temperature</th>\n",
              "      <th>Fuel_Price</th>\n",
              "      <th>CPI</th>\n",
              "      <th>Unemployment</th>\n",
              "    </tr>\n",
              "  </thead>\n",
              "  <tbody>\n",
              "    <tr>\n",
              "      <th>0</th>\n",
              "      <td>1</td>\n",
              "      <td>05-02-2010</td>\n",
              "      <td>1643690.90</td>\n",
              "      <td>0</td>\n",
              "      <td>42.31</td>\n",
              "      <td>2.572</td>\n",
              "      <td>211.096358</td>\n",
              "      <td>8.106</td>\n",
              "    </tr>\n",
              "    <tr>\n",
              "      <th>1</th>\n",
              "      <td>1</td>\n",
              "      <td>12-02-2010</td>\n",
              "      <td>1641957.44</td>\n",
              "      <td>1</td>\n",
              "      <td>38.51</td>\n",
              "      <td>2.548</td>\n",
              "      <td>211.242170</td>\n",
              "      <td>8.106</td>\n",
              "    </tr>\n",
              "    <tr>\n",
              "      <th>2</th>\n",
              "      <td>1</td>\n",
              "      <td>19-02-2010</td>\n",
              "      <td>1611968.17</td>\n",
              "      <td>0</td>\n",
              "      <td>39.93</td>\n",
              "      <td>2.514</td>\n",
              "      <td>211.289143</td>\n",
              "      <td>8.106</td>\n",
              "    </tr>\n",
              "    <tr>\n",
              "      <th>3</th>\n",
              "      <td>1</td>\n",
              "      <td>26-02-2010</td>\n",
              "      <td>1409727.59</td>\n",
              "      <td>0</td>\n",
              "      <td>46.63</td>\n",
              "      <td>2.561</td>\n",
              "      <td>211.319643</td>\n",
              "      <td>8.106</td>\n",
              "    </tr>\n",
              "    <tr>\n",
              "      <th>4</th>\n",
              "      <td>1</td>\n",
              "      <td>05-03-2010</td>\n",
              "      <td>1554806.68</td>\n",
              "      <td>0</td>\n",
              "      <td>46.50</td>\n",
              "      <td>2.625</td>\n",
              "      <td>211.350143</td>\n",
              "      <td>8.106</td>\n",
              "    </tr>\n",
              "  </tbody>\n",
              "</table>\n",
              "</div>\n",
              "      <button class=\"colab-df-convert\" onclick=\"convertToInteractive('df-918445cb-759c-43f0-a758-a18e41245978')\"\n",
              "              title=\"Convert this dataframe to an interactive table.\"\n",
              "              style=\"display:none;\">\n",
              "        \n",
              "  <svg xmlns=\"http://www.w3.org/2000/svg\" height=\"24px\"viewBox=\"0 0 24 24\"\n",
              "       width=\"24px\">\n",
              "    <path d=\"M0 0h24v24H0V0z\" fill=\"none\"/>\n",
              "    <path d=\"M18.56 5.44l.94 2.06.94-2.06 2.06-.94-2.06-.94-.94-2.06-.94 2.06-2.06.94zm-11 1L8.5 8.5l.94-2.06 2.06-.94-2.06-.94L8.5 2.5l-.94 2.06-2.06.94zm10 10l.94 2.06.94-2.06 2.06-.94-2.06-.94-.94-2.06-.94 2.06-2.06.94z\"/><path d=\"M17.41 7.96l-1.37-1.37c-.4-.4-.92-.59-1.43-.59-.52 0-1.04.2-1.43.59L10.3 9.45l-7.72 7.72c-.78.78-.78 2.05 0 2.83L4 21.41c.39.39.9.59 1.41.59.51 0 1.02-.2 1.41-.59l7.78-7.78 2.81-2.81c.8-.78.8-2.07 0-2.86zM5.41 20L4 18.59l7.72-7.72 1.47 1.35L5.41 20z\"/>\n",
              "  </svg>\n",
              "      </button>\n",
              "      \n",
              "  <style>\n",
              "    .colab-df-container {\n",
              "      display:flex;\n",
              "      flex-wrap:wrap;\n",
              "      gap: 12px;\n",
              "    }\n",
              "\n",
              "    .colab-df-convert {\n",
              "      background-color: #E8F0FE;\n",
              "      border: none;\n",
              "      border-radius: 50%;\n",
              "      cursor: pointer;\n",
              "      display: none;\n",
              "      fill: #1967D2;\n",
              "      height: 32px;\n",
              "      padding: 0 0 0 0;\n",
              "      width: 32px;\n",
              "    }\n",
              "\n",
              "    .colab-df-convert:hover {\n",
              "      background-color: #E2EBFA;\n",
              "      box-shadow: 0px 1px 2px rgba(60, 64, 67, 0.3), 0px 1px 3px 1px rgba(60, 64, 67, 0.15);\n",
              "      fill: #174EA6;\n",
              "    }\n",
              "\n",
              "    [theme=dark] .colab-df-convert {\n",
              "      background-color: #3B4455;\n",
              "      fill: #D2E3FC;\n",
              "    }\n",
              "\n",
              "    [theme=dark] .colab-df-convert:hover {\n",
              "      background-color: #434B5C;\n",
              "      box-shadow: 0px 1px 3px 1px rgba(0, 0, 0, 0.15);\n",
              "      filter: drop-shadow(0px 1px 2px rgba(0, 0, 0, 0.3));\n",
              "      fill: #FFFFFF;\n",
              "    }\n",
              "  </style>\n",
              "\n",
              "      <script>\n",
              "        const buttonEl =\n",
              "          document.querySelector('#df-918445cb-759c-43f0-a758-a18e41245978 button.colab-df-convert');\n",
              "        buttonEl.style.display =\n",
              "          google.colab.kernel.accessAllowed ? 'block' : 'none';\n",
              "\n",
              "        async function convertToInteractive(key) {\n",
              "          const element = document.querySelector('#df-918445cb-759c-43f0-a758-a18e41245978');\n",
              "          const dataTable =\n",
              "            await google.colab.kernel.invokeFunction('convertToInteractive',\n",
              "                                                     [key], {});\n",
              "          if (!dataTable) return;\n",
              "\n",
              "          const docLinkHtml = 'Like what you see? Visit the ' +\n",
              "            '<a target=\"_blank\" href=https://colab.research.google.com/notebooks/data_table.ipynb>data table notebook</a>'\n",
              "            + ' to learn more about interactive tables.';\n",
              "          element.innerHTML = '';\n",
              "          dataTable['output_type'] = 'display_data';\n",
              "          await google.colab.output.renderOutput(dataTable, element);\n",
              "          const docLink = document.createElement('div');\n",
              "          docLink.innerHTML = docLinkHtml;\n",
              "          element.appendChild(docLink);\n",
              "        }\n",
              "      </script>\n",
              "    </div>\n",
              "  </div>\n",
              "  "
            ]
          },
          "metadata": {},
          "execution_count": 8
        }
      ]
    },
    {
      "cell_type": "code",
      "source": [
        "# Memastikan kembali tidak ada outlier pada dataframe\n",
        "sns.boxplot(x = wal_new['Weekly_Sales'])"
      ],
      "metadata": {
        "colab": {
          "base_uri": "https://localhost:8080/",
          "height": 471
        },
        "id": "CKKzwngrujHs",
        "outputId": "5c629fbc-e96d-42ce-e6a7-7efd5bd8d837"
      },
      "id": "CKKzwngrujHs",
      "execution_count": 9,
      "outputs": [
        {
          "output_type": "execute_result",
          "data": {
            "text/plain": [
              "<Axes: xlabel='Weekly_Sales'>"
            ]
          },
          "metadata": {},
          "execution_count": 9
        },
        {
          "output_type": "display_data",
          "data": {
            "text/plain": [
              "<Figure size 640x480 with 1 Axes>"
            ],
            "image/png": "[encoded data removed]"
          },
          "metadata": {}
        }
      ]
    },
    {
      "cell_type": "code",
      "source": [
        "# Memeriksa inkonsistensi format pada dataframe\n",
        "wal_new.info()"
      ],
      "metadata": {
        "colab": {
          "base_uri": "https://localhost:8080/"
        },
        "id": "OaiD7vRZe6-q",
        "outputId": "51d35027-ae89-4bb5-93dc-bee1e6e177f7"
      },
      "id": "OaiD7vRZe6-q",
      "execution_count": 10,
      "outputs": [
        {
          "output_type": "stream",
          "name": "stdout",
          "text": [
            "<class 'pandas.core.frame.DataFrame'>\n",
            "Int64Index: 6401 entries, 0 to 6434\n",
            "Data columns (total 8 columns):\n",
            " #   Column        Non-Null Count  Dtype  \n",
            "---  ------        --------------  -----  \n",
            " 0   Store         6401 non-null   int64  \n",
            " 1   Date          6401 non-null   object \n",
            " 2   Weekly_Sales  6401 non-null   float64\n",
            " 3   Holiday_Flag  6401 non-null   int64  \n",
            " 4   Temperature   6401 non-null   float64\n",
            " 5   Fuel_Price    6401 non-null   float64\n",
            " 6   CPI           6401 non-null   float64\n",
            " 7   Unemployment  6401 non-null   float64\n",
            "dtypes: float64(5), int64(2), object(1)\n",
            "memory usage: 450.1+ KB\n"
          ]
        }
      ]
    },
    {
      "cell_type": "code",
      "source": [
        "# Mengubah tipe data kolom tanggal menjadi tipe data Date (dd-mm-yyyy)\n",
        "wal_new.loc[:, 'Date'] = pd.to_datetime(wal_new['Date'], format='%d-%m-%Y')\n",
        "\n",
        "# Menampilkan tipe data kolom tanggal\n",
        "wal_new.info()"
      ],
      "metadata": {
        "colab": {
          "base_uri": "https://localhost:8080/"
        },
        "id": "JNt12sdghZKG",
        "outputId": "02904cb3-f954-4c7e-b5df-ec6e6af56aaa"
      },
      "id": "JNt12sdghZKG",
      "execution_count": 11,
      "outputs": [
        {
          "output_type": "stream",
          "name": "stdout",
          "text": [
            "<class 'pandas.core.frame.DataFrame'>\n",
            "Int64Index: 6401 entries, 0 to 6434\n",
            "Data columns (total 8 columns):\n",
            " #   Column        Non-Null Count  Dtype         \n",
            "---  ------        --------------  -----         \n",
            " 0   Store         6401 non-null   int64         \n",
            " 1   Date          6401 non-null   datetime64[ns]\n",
            " 2   Weekly_Sales  6401 non-null   float64       \n",
            " 3   Holiday_Flag  6401 non-null   int64         \n",
            " 4   Temperature   6401 non-null   float64       \n",
            " 5   Fuel_Price    6401 non-null   float64       \n",
            " 6   CPI           6401 non-null   float64       \n",
            " 7   Unemployment  6401 non-null   float64       \n",
            "dtypes: datetime64[ns](1), float64(5), int64(2)\n",
            "memory usage: 450.1 KB\n"
          ]
        },
        {
          "output_type": "stream",
          "name": "stderr",
          "text": [
            "<ipython-input-11-661bcc22ecc4>:2: SettingWithCopyWarning: \n",
            "A value is trying to be set on a copy of a slice from a DataFrame.\n",
            "Try using .loc[row_indexer,col_indexer] = value instead\n",
            "\n",
            "See the caveats in the documentation: https://pandas.pydata.org/pandas-docs/stable/user_guide/indexing.html#returning-a-view-versus-a-copy\n",
            "  wal_new.loc[:, 'Date'] = pd.to_datetime(wal_new['Date'], format='%d-%m-%Y')\n",
            "<ipython-input-11-661bcc22ecc4>:2: DeprecationWarning: In a future version, `df.iloc[:, i] = newvals` will attempt to set the values inplace instead of always setting a new array. To retain the old behavior, use either `df[df.columns[i]] = newvals` or, if columns are non-unique, `df.isetitem(i, newvals)`\n",
            "  wal_new.loc[:, 'Date'] = pd.to_datetime(wal_new['Date'], format='%d-%m-%Y')\n"
          ]
        }
      ]
    },
    {
      "cell_type": "markdown",
      "source": [
        "### Statistika Deskriptif 45 toko"
      ],
      "metadata": {
        "id": "15FdhKBLyMKR"
      },
      "id": "15FdhKBLyMKR"
    },
    {
      "cell_type": "code",
      "source": [
        "# Statistika deskriptif\n",
        "wal_new.describe()"
      ],
      "metadata": {
        "colab": {
          "base_uri": "https://localhost:8080/",
          "height": 300
        },
        "id": "0bcXyJgOyVfF",
        "outputId": "ae3b50eb-3efc-4127-ab80-8d7aded339d0"
      },
      "id": "0bcXyJgOyVfF",
      "execution_count": 12,
      "outputs": [
        {
          "output_type": "execute_result",
          "data": {
            "text/plain": [
              "             Store  Weekly_Sales  Holiday_Flag  Temperature   Fuel_Price  \\\n",
              "count  6401.000000  6.401000e+03   6401.000000  6401.000000  6401.000000   \n",
              "mean     23.054210  1.036130e+06      0.068895    60.772042     3.359634   \n",
              "std      12.991284  5.451961e+05      0.253296    18.417068     0.459696   \n",
              "min       1.000000  2.099862e+05      0.000000    -2.060000     2.472000   \n",
              "25%      12.000000  5.517431e+05      0.000000    47.660000     2.933000   \n",
              "50%      23.000000  9.572983e+05      0.000000    62.860000     3.452000   \n",
              "75%      34.000000  1.414565e+06      0.000000    75.000000     3.737000   \n",
              "max      45.000000  2.685352e+06      1.000000   100.140000     4.468000   \n",
              "\n",
              "               CPI  Unemployment  \n",
              "count  6401.000000   6401.000000  \n",
              "mean    171.642219      8.002298  \n",
              "std      39.359852      1.878705  \n",
              "min     126.064000      3.879000  \n",
              "25%     131.784000      6.891000  \n",
              "50%     182.658578      7.874000  \n",
              "75%     212.833640      8.622000  \n",
              "max     227.232807     14.313000  "
            ],
            "text/html": [
              "\n",
              "  <div id=\"df-17410e0b-4c37-470b-a2c4-db264a843671\">\n",
              "    <div class=\"colab-df-container\">\n",
              "      <div>\n",
              "<style scoped>\n",
              "    .dataframe tbody tr th:only-of-type {\n",
              "        vertical-align: middle;\n",
              "    }\n",
              "\n",
              "    .dataframe tbody tr th {\n",
              "        vertical-align: top;\n",
              "    }\n",
              "\n",
              "    .dataframe thead th {\n",
              "        text-align: right;\n",
              "    }\n",
              "</style>\n",
              "<table border=\"1\" class=\"dataframe\">\n",
              "  <thead>\n",
              "    <tr style=\"text-align: right;\">\n",
              "      <th></th>\n",
              "      <th>Store</th>\n",
              "      <th>Weekly_Sales</th>\n",
              "      <th>Holiday_Flag</th>\n",
              "      <th>Temperature</th>\n",
              "      <th>Fuel_Price</th>\n",
              "      <th>CPI</th>\n",
              "      <th>Unemployment</th>\n",
              "    </tr>\n",
              "  </thead>\n",
              "  <tbody>\n",
              "    <tr>\n",
              "      <th>count</th>\n",
              "      <td>6401.000000</td>\n",
              "      <td>6.401000e+03</td>\n",
              "      <td>6401.000000</td>\n",
              "      <td>6401.000000</td>\n",
              "      <td>6401.000000</td>\n",
              "      <td>6401.000000</td>\n",
              "      <td>6401.000000</td>\n",
              "    </tr>\n",
              "    <tr>\n",
              "      <th>mean</th>\n",
              "      <td>23.054210</td>\n",
              "      <td>1.036130e+06</td>\n",
              "      <td>0.068895</td>\n",
              "      <td>60.772042</td>\n",
              "      <td>3.359634</td>\n",
              "      <td>171.642219</td>\n",
              "      <td>8.002298</td>\n",
              "    </tr>\n",
              "    <tr>\n",
              "      <th>std</th>\n",
              "      <td>12.991284</td>\n",
              "      <td>5.451961e+05</td>\n",
              "      <td>0.253296</td>\n",
              "      <td>18.417068</td>\n",
              "      <td>0.459696</td>\n",
              "      <td>39.359852</td>\n",
              "      <td>1.878705</td>\n",
              "    </tr>\n",
              "    <tr>\n",
              "      <th>min</th>\n",
              "      <td>1.000000</td>\n",
              "      <td>2.099862e+05</td>\n",
              "      <td>0.000000</td>\n",
              "      <td>-2.060000</td>\n",
              "      <td>2.472000</td>\n",
              "      <td>126.064000</td>\n",
              "      <td>3.879000</td>\n",
              "    </tr>\n",
              "    <tr>\n",
              "      <th>25%</th>\n",
              "      <td>12.000000</td>\n",
              "      <td>5.517431e+05</td>\n",
              "      <td>0.000000</td>\n",
              "      <td>47.660000</td>\n",
              "      <td>2.933000</td>\n",
              "      <td>131.784000</td>\n",
              "      <td>6.891000</td>\n",
              "    </tr>\n",
              "    <tr>\n",
              "      <th>50%</th>\n",
              "      <td>23.000000</td>\n",
              "      <td>9.572983e+05</td>\n",
              "      <td>0.000000</td>\n",
              "      <td>62.860000</td>\n",
              "      <td>3.452000</td>\n",
              "      <td>182.658578</td>\n",
              "      <td>7.874000</td>\n",
              "    </tr>\n",
              "    <tr>\n",
              "      <th>75%</th>\n",
              "      <td>34.000000</td>\n",
              "      <td>1.414565e+06</td>\n",
              "      <td>0.000000</td>\n",
              "      <td>75.000000</td>\n",
              "      <td>3.737000</td>\n",
              "      <td>212.833640</td>\n",
              "      <td>8.622000</td>\n",
              "    </tr>\n",
              "    <tr>\n",
              "      <th>max</th>\n",
              "      <td>45.000000</td>\n",
              "      <td>2.685352e+06</td>\n",
              "      <td>1.000000</td>\n",
              "      <td>100.140000</td>\n",
              "      <td>4.468000</td>\n",
              "      <td>227.232807</td>\n",
              "      <td>14.313000</td>\n",
              "    </tr>\n",
              "  </tbody>\n",
              "</table>\n",
              "</div>\n",
              "      <button class=\"colab-df-convert\" onclick=\"convertToInteractive('df-17410e0b-4c37-470b-a2c4-db264a843671')\"\n",
              "              title=\"Convert this dataframe to an interactive table.\"\n",
              "              style=\"display:none;\">\n",
              "        \n",
              "  <svg xmlns=\"http://www.w3.org/2000/svg\" height=\"24px\"viewBox=\"0 0 24 24\"\n",
              "       width=\"24px\">\n",
              "    <path d=\"M0 0h24v24H0V0z\" fill=\"none\"/>\n",
              "    <path d=\"M18.56 5.44l.94 2.06.94-2.06 2.06-.94-2.06-.94-.94-2.06-.94 2.06-2.06.94zm-11 1L8.5 8.5l.94-2.06 2.06-.94-2.06-.94L8.5 2.5l-.94 2.06-2.06.94zm10 10l.94 2.06.94-2.06 2.06-.94-2.06-.94-.94-2.06-.94 2.06-2.06.94z\"/><path d=\"M17.41 7.96l-1.37-1.37c-.4-.4-.92-.59-1.43-.59-.52 0-1.04.2-1.43.59L10.3 9.45l-7.72 7.72c-.78.78-.78 2.05 0 2.83L4 21.41c.39.39.9.59 1.41.59.51 0 1.02-.2 1.41-.59l7.78-7.78 2.81-2.81c.8-.78.8-2.07 0-2.86zM5.41 20L4 18.59l7.72-7.72 1.47 1.35L5.41 20z\"/>\n",
              "  </svg>\n",
              "      </button>\n",
              "      \n",
              "  <style>\n",
              "    .colab-df-container {\n",
              "      display:flex;\n",
              "      flex-wrap:wrap;\n",
              "      gap: 12px;\n",
              "    }\n",
              "\n",
              "    .colab-df-convert {\n",
              "      background-color: #E8F0FE;\n",
              "      border: none;\n",
              "      border-radius: 50%;\n",
              "      cursor: pointer;\n",
              "      display: none;\n",
              "      fill: #1967D2;\n",
              "      height: 32px;\n",
              "      padding: 0 0 0 0;\n",
              "      width: 32px;\n",
              "    }\n",
              "\n",
              "    .colab-df-convert:hover {\n",
              "      background-color: #E2EBFA;\n",
              "      box-shadow: 0px 1px 2px rgba(60, 64, 67, 0.3), 0px 1px 3px 1px rgba(60, 64, 67, 0.15);\n",
              "      fill: #174EA6;\n",
              "    }\n",
              "\n",
              "    [theme=dark] .colab-df-convert {\n",
              "      background-color: #3B4455;\n",
              "      fill: #D2E3FC;\n",
              "    }\n",
              "\n",
              "    [theme=dark] .colab-df-convert:hover {\n",
              "      background-color: #434B5C;\n",
              "      box-shadow: 0px 1px 3px 1px rgba(0, 0, 0, 0.15);\n",
              "      filter: drop-shadow(0px 1px 2px rgba(0, 0, 0, 0.3));\n",
              "      fill: #FFFFFF;\n",
              "    }\n",
              "  </style>\n",
              "\n",
              "      <script>\n",
              "        const buttonEl =\n",
              "          document.querySelector('#df-17410e0b-4c37-470b-a2c4-db264a843671 button.colab-df-convert');\n",
              "        buttonEl.style.display =\n",
              "          google.colab.kernel.accessAllowed ? 'block' : 'none';\n",
              "\n",
              "        async function convertToInteractive(key) {\n",
              "          const element = document.querySelector('#df-17410e0b-4c37-470b-a2c4-db264a843671');\n",
              "          const dataTable =\n",
              "            await google.colab.kernel.invokeFunction('convertToInteractive',\n",
              "                                                     [key], {});\n",
              "          if (!dataTable) return;\n",
              "\n",
              "          const docLinkHtml = 'Like what you see? Visit the ' +\n",
              "            '<a target=\"_blank\" href=https://colab.research.google.com/notebooks/data_table.ipynb>data table notebook</a>'\n",
              "            + ' to learn more about interactive tables.';\n",
              "          element.innerHTML = '';\n",
              "          dataTable['output_type'] = 'display_data';\n",
              "          await google.colab.output.renderOutput(dataTable, element);\n",
              "          const docLink = document.createElement('div');\n",
              "          docLink.innerHTML = docLinkHtml;\n",
              "          element.appendChild(docLink);\n",
              "        }\n",
              "      </script>\n",
              "    </div>\n",
              "  </div>\n",
              "  "
            ]
          },
          "metadata": {},
          "execution_count": 12
        }
      ]
    },
    {
      "cell_type": "code",
      "source": [
        "# Memeriksa distribusi data weekly sales\n",
        "sns.displot(wal_new['Weekly_Sales'])\n",
        "\n",
        "mean = np.mean(wal_new['Weekly_Sales'])\n",
        "median = np.median(wal_new['Weekly_Sales'])\n",
        "std = np.std(wal_new['Weekly_Sales'])\n",
        "\n",
        "plt.axvline(mean, color='r', linestyle='--', label='Mean')\n",
        "plt.axvline(median, color='g', linestyle='--', label='Median')\n",
        "plt.axvline(std, color='b', linestyle='--', label='Median')\n",
        "\n",
        "plt.legend()\n",
        "\n",
        "plt.show()"
      ],
      "metadata": {
        "colab": {
          "base_uri": "https://localhost:8080/",
          "height": 507
        },
        "id": "M2-AsnoTWurp",
        "outputId": "92f6a739-6007-4df2-f11e-57738d69131f"
      },
      "id": "M2-AsnoTWurp",
      "execution_count": 13,
      "outputs": [
        {
          "output_type": "display_data",
          "data": {
            "text/plain": [
              "<Figure size 500x500 with 1 Axes>"
            ],
            "image/png": "[encoded data removed]"
          },
          "metadata": {}
        }
      ]
    },
    {
      "cell_type": "code",
      "source": [
        "print(f\"Mean = {mean}, Median = {median}, StDev = {std}\")"
      ],
      "metadata": {
        "colab": {
          "base_uri": "https://localhost:8080/"
        },
        "id": "oJcZLT3prgW4",
        "outputId": "06887863-b772-4d95-c114-c4bcadee4b56"
      },
      "id": "oJcZLT3prgW4",
      "execution_count": 14,
      "outputs": [
        {
          "output_type": "stream",
          "name": "stdout",
          "text": [
            "Mean = 1036130.3535369473, Median = 957298.26, StDev = 545153.4674786476\n"
          ]
        }
      ]
    },
    {
      "cell_type": "code",
      "source": [
        "# Memeriksa distribusi data Fuel Price\n",
        "sns.displot(wal_new['Fuel_Price'])\n",
        "\n",
        "mean = np.mean(wal_new['Fuel_Price'])\n",
        "median = np.median(wal_new['Fuel_Price'])\n",
        "\n",
        "plt.axvline(mean, color='r', linestyle='--', label='Mean')\n",
        "plt.axvline(median, color='g', linestyle='--', label='Median')\n",
        "\n",
        "plt.legend()\n",
        "\n",
        "plt.show()"
      ],
      "metadata": {
        "colab": {
          "base_uri": "https://localhost:8080/",
          "height": 506
        },
        "id": "Bngjka98oddn",
        "outputId": "87462ede-bb83-400e-8e4c-c5cf36649d4a"
      },
      "id": "Bngjka98oddn",
      "execution_count": 15,
      "outputs": [
        {
          "output_type": "display_data",
          "data": {
            "text/plain": [
              "<Figure size 500x500 with 1 Axes>"
            ],
            "image/png": "[encoded data removed]"
          },
          "metadata": {}
        }
      ]
    },
    {
      "cell_type": "code",
      "source": [
        "# Memeriksa distribusi data CPI\n",
        "sns.displot(wal_new['CPI'])\n",
        "\n",
        "mean = np.mean(wal_new['CPI'])\n",
        "median = np.median(wal_new['CPI'])\n",
        "\n",
        "plt.axvline(mean, color='r', linestyle='--', label='Mean')\n",
        "plt.axvline(median, color='g', linestyle='--', label='Median')\n",
        "\n",
        "plt.legend()\n",
        "\n",
        "plt.show()"
      ],
      "metadata": {
        "id": "L41bqOR5pNKQ",
        "outputId": "ad4cf84e-8760-419b-afef-6d431fd2f23a",
        "colab": {
          "base_uri": "https://localhost:8080/",
          "height": 506
        }
      },
      "id": "L41bqOR5pNKQ",
      "execution_count": 16,
      "outputs": [
        {
          "output_type": "display_data",
          "data": {
            "text/plain": [
              "<Figure size 500x500 with 1 Axes>"
            ],
            "image/png": "[encoded data removed]"
          },
          "metadata": {}
        }
      ]
    },
    {
      "cell_type": "markdown",
      "source": [
        "## Analisis Peluang pada Variable Diskrit"
      ],
      "metadata": {
        "id": "4eKse3X4iOOK"
      },
      "id": "4eKse3X4iOOK"
    },
    {
      "cell_type": "markdown",
      "source": [
        "### Peluang toko memiliki rata-rata weekly sales > rata-rata weekly sales nasional (45 toko)"
      ],
      "metadata": {
        "id": "jQTW7Vm7-VFQ"
      },
      "id": "jQTW7Vm7-VFQ"
    },
    {
      "cell_type": "code",
      "source": [
        "mean_sales_toko = wal_new.groupby('Store')['Weekly_Sales'].mean()"
      ],
      "metadata": {
        "id": "Gxc8etS-VSHT"
      },
      "id": "Gxc8etS-VSHT",
      "execution_count": 17,
      "outputs": []
    },
    {
      "cell_type": "code",
      "source": [
        "# Rata-rata weekly sales seluruh toko\n",
        "mean_sales_all = wal_new['Weekly_Sales'].mean()\n",
        "\n",
        "# Rata-rata weekly sales setiap toko\n",
        "mean_sales_toko = wal_new.groupby('Store')['Weekly_Sales'].mean()\n",
        "\n",
        "# Subset DataFrame untuk toko-toko dengan rata-rata weekly sales lebih tinggi dari rata-rata weekly sales setiap toko\n",
        "high_sales_toko = mean_sales_toko[mean_sales_toko > mean_sales_all]\n",
        "\n",
        "# Peluang toko memiliki rata-rata weekly sales lebih tinggi dari rata-rata weekly sales setiap toko\n",
        "peluang = len(high_sales_toko) / len(mean_sales_toko)\n",
        "print(\"*Rata-rata weekly sales seluruh toko: \", mean_sales_all)\n",
        "print(\"**Peluang toko memiliki rata-rata weekly sales lebih tinggi dari rata-rata weekly sales seluruh toko: \", peluang)"
      ],
      "metadata": {
        "colab": {
          "base_uri": "https://localhost:8080/"
        },
        "id": "93-v-Q1yyguq",
        "outputId": "f3a6bfda-b5d0-428b-a347-b83dac10d932"
      },
      "id": "93-v-Q1yyguq",
      "execution_count": 18,
      "outputs": [
        {
          "output_type": "stream",
          "name": "stdout",
          "text": [
            "*Rata-rata weekly sales seluruh toko:  1036130.3535369473\n",
            "**Peluang toko memiliki rata-rata weekly sales lebih tinggi dari rata-rata weekly sales seluruh toko:  0.4222222222222222\n"
          ]
        }
      ]
    },
    {
      "cell_type": "code",
      "source": [
        "# Jumlah toko yang memiliki rata-rata weekly sales > rata-rata weekly sales nasional (45 toko)\n",
        "jumlah_toko = len(high_sales_toko)\n",
        "print(f\"Jumlah toko yang memiliki rata-rata weekly sales > rata-rata weekly sales nasional adalah {jumlah_toko} toko\")"
      ],
      "metadata": {
        "colab": {
          "base_uri": "https://localhost:8080/"
        },
        "id": "MiReZL7i_EEC",
        "outputId": "11f626a0-09f7-47b3-a427-0810ccd7869c"
      },
      "id": "MiReZL7i_EEC",
      "execution_count": 19,
      "outputs": [
        {
          "output_type": "stream",
          "name": "stdout",
          "text": [
            "Jumlah toko yang memiliki rata-rata weekly sales > rata-rata weekly sales nasional adalah 19 toko\n"
          ]
        }
      ]
    },
    {
      "cell_type": "markdown",
      "source": [
        "### Analisis pada Toko-1"
      ],
      "metadata": {
        "id": "sPklPrxmovL8"
      },
      "id": "sPklPrxmovL8"
    },
    {
      "cell_type": "markdown",
      "source": [
        "### Fokus analisis pada Toko-1"
      ],
      "metadata": {
        "id": "lfryptZ4xl-q"
      },
      "id": "lfryptZ4xl-q"
    },
    {
      "cell_type": "code",
      "source": [
        "store_1 = wal_new[wal_new['Store'] == 1]"
      ],
      "metadata": {
        "id": "68b-4h85HtBv"
      },
      "id": "68b-4h85HtBv",
      "execution_count": 20,
      "outputs": []
    },
    {
      "cell_type": "code",
      "execution_count": 21,
      "id": "59333623",
      "metadata": {
        "execution": {
          "iopub.execute_input": "2022-01-22T20:34:43.992771Z",
          "iopub.status.busy": "2022-01-22T20:34:43.991460Z",
          "iopub.status.idle": "2022-01-22T20:34:44.021291Z",
          "shell.execute_reply": "2022-01-22T20:34:44.021690Z",
          "shell.execute_reply.started": "2022-01-22T20:25:19.816984Z"
        },
        "papermill": {
          "duration": 0.05137,
          "end_time": "2022-01-22T20:34:44.021829",
          "exception": false,
          "start_time": "2022-01-22T20:34:43.970459",
          "status": "completed"
        },
        "tags": [],
        "id": "59333623",
        "outputId": "124a050a-964a-420b-8853-ea90d93b4bfc",
        "colab": {
          "base_uri": "https://localhost:8080/"
        }
      },
      "outputs": [
        {
          "output_type": "stream",
          "name": "stdout",
          "text": [
            "<class 'pandas.core.frame.DataFrame'>\n",
            "Int64Index: 143 entries, 0 to 142\n",
            "Data columns (total 8 columns):\n",
            " #   Column        Non-Null Count  Dtype         \n",
            "---  ------        --------------  -----         \n",
            " 0   Store         143 non-null    int64         \n",
            " 1   Date          143 non-null    datetime64[ns]\n",
            " 2   Weekly_Sales  143 non-null    float64       \n",
            " 3   Holiday_Flag  143 non-null    int64         \n",
            " 4   Temperature   143 non-null    float64       \n",
            " 5   Fuel_Price    143 non-null    float64       \n",
            " 6   CPI           143 non-null    float64       \n",
            " 7   Unemployment  143 non-null    float64       \n",
            "dtypes: datetime64[ns](1), float64(5), int64(2)\n",
            "memory usage: 10.1 KB\n"
          ]
        }
      ],
      "source": [
        "store_1.info()"
      ]
    },
    {
      "cell_type": "code",
      "source": [
        "# Memeriksa statistika deskriptif\n",
        "store_1_stats = store_1.describe()\n",
        "\n",
        "# Print statistika deskriptif Store 1\n",
        "print(\"Descriptive Statistics for Store 1:\")\n",
        "print(store_1_stats)"
      ],
      "metadata": {
        "colab": {
          "base_uri": "https://localhost:8080/"
        },
        "id": "NChXs8EDIy1H",
        "outputId": "351429ce-8f2d-4c88-88a1-60e18a7772ac"
      },
      "id": "NChXs8EDIy1H",
      "execution_count": 22,
      "outputs": [
        {
          "output_type": "stream",
          "name": "stdout",
          "text": [
            "Descriptive Statistics for Store 1:\n",
            "       Store  Weekly_Sales  Holiday_Flag  Temperature  Fuel_Price         CPI  \\\n",
            "count  143.0  1.430000e+02    143.000000   143.000000  143.000000  143.000000   \n",
            "mean     1.0  1.555264e+06      0.069930    68.306783    3.219699  215.996892   \n",
            "std      0.0  1.559808e+05      0.255926    14.250486    0.427313    4.350890   \n",
            "min      1.0  1.316899e+06      0.000000    35.400000    2.514000  210.337426   \n",
            "25%      1.0  1.458105e+06      0.000000    58.265000    2.764500  211.549277   \n",
            "50%      1.0  1.534850e+06      0.000000    69.640000    3.290000  215.459905   \n",
            "75%      1.0  1.614892e+06      0.000000    80.485000    3.594000  220.531330   \n",
            "max      1.0  2.387950e+06      1.000000    91.650000    3.907000  223.444251   \n",
            "\n",
            "       Unemployment  \n",
            "count    143.000000  \n",
            "mean       7.610420  \n",
            "std        0.383749  \n",
            "min        6.573000  \n",
            "25%        7.348000  \n",
            "50%        7.787000  \n",
            "75%        7.838000  \n",
            "max        8.106000  \n"
          ]
        }
      ]
    },
    {
      "cell_type": "code",
      "source": [
        "# Memeriksa outlier pada kolom Weekly_Sales\n",
        "sns.boxplot(x=store_1['Weekly_Sales'])"
      ],
      "metadata": {
        "colab": {
          "base_uri": "https://localhost:8080/",
          "height": 471
        },
        "id": "4-dtPIASUtGQ",
        "outputId": "fd789cae-7143-4614-f4fd-8114f81593c7"
      },
      "id": "4-dtPIASUtGQ",
      "execution_count": 23,
      "outputs": [
        {
          "output_type": "execute_result",
          "data": {
            "text/plain": [
              "<Axes: xlabel='Weekly_Sales'>"
            ]
          },
          "metadata": {},
          "execution_count": 23
        },
        {
          "output_type": "display_data",
          "data": {
            "text/plain": [
              "<Figure size 640x480 with 1 Axes>"
            ],
            "image/png": "[encoded data removed]"
          },
          "metadata": {}
        }
      ]
    },
    {
      "cell_type": "code",
      "source": [
        "# Remove outliers\n",
        "# Terdapat outlier pada data Weekly_Sales\n",
        "Q1_sales = store_1['Weekly_Sales'].quantile(0.25)\n",
        "Q3_sales = store_1['Weekly_Sales'].quantile(0.75)\n",
        "\n",
        "IQR = Q3_sales - Q1_sales\n",
        "\n",
        "batas_bawah = Q1_sales - 1.5 * IQR\n",
        "batas_atas = Q3_sales + 1.5 * IQR"
      ],
      "metadata": {
        "id": "X3VScVcPVLeU"
      },
      "id": "X3VScVcPVLeU",
      "execution_count": 24,
      "outputs": []
    },
    {
      "cell_type": "code",
      "source": [
        "# Dataframe tanpa outliers\n",
        "store_1_new = store_1[(store_1['Weekly_Sales'] > batas_bawah) & (store_1['Weekly_Sales'] < batas_atas)]\n",
        "store_1_new.head()"
      ],
      "metadata": {
        "colab": {
          "base_uri": "https://localhost:8080/",
          "height": 206
        },
        "id": "VGuhoITTVpNt",
        "outputId": "fbac49bb-3179-4bc2-a0e5-2f4d6c1cb02d"
      },
      "id": "VGuhoITTVpNt",
      "execution_count": 25,
      "outputs": [
        {
          "output_type": "execute_result",
          "data": {
            "text/plain": [
              "   Store       Date  Weekly_Sales  Holiday_Flag  Temperature  Fuel_Price  \\\n",
              "0      1 2010-02-05    1643690.90             0        42.31       2.572   \n",
              "1      1 2010-02-12    1641957.44             1        38.51       2.548   \n",
              "2      1 2010-02-19    1611968.17             0        39.93       2.514   \n",
              "3      1 2010-02-26    1409727.59             0        46.63       2.561   \n",
              "4      1 2010-03-05    1554806.68             0        46.50       2.625   \n",
              "\n",
              "          CPI  Unemployment  \n",
              "0  211.096358         8.106  \n",
              "1  211.242170         8.106  \n",
              "2  211.289143         8.106  \n",
              "3  211.319643         8.106  \n",
              "4  211.350143         8.106  "
            ],
            "text/html": [
              "\n",
              "  <div id=\"df-03f7924e-f4d0-4cc1-ac15-0d96798afd75\">\n",
              "    <div class=\"colab-df-container\">\n",
              "      <div>\n",
              "<style scoped>\n",
              "    .dataframe tbody tr th:only-of-type {\n",
              "        vertical-align: middle;\n",
              "    }\n",
              "\n",
              "    .dataframe tbody tr th {\n",
              "        vertical-align: top;\n",
              "    }\n",
              "\n",
              "    .dataframe thead th {\n",
              "        text-align: right;\n",
              "    }\n",
              "</style>\n",
              "<table border=\"1\" class=\"dataframe\">\n",
              "  <thead>\n",
              "    <tr style=\"text-align: right;\">\n",
              "      <th></th>\n",
              "      <th>Store</th>\n",
              "      <th>Date</th>\n",
              "      <th>Weekly_Sales</th>\n",
              "      <th>Holiday_Flag</th>\n",
              "      <th>Temperature</th>\n",
              "      <th>Fuel_Price</th>\n",
              "      <th>CPI</th>\n",
              "      <th>Unemployment</th>\n",
              "    </tr>\n",
              "  </thead>\n",
              "  <tbody>\n",
              "    <tr>\n",
              "      <th>0</th>\n",
              "      <td>1</td>\n",
              "      <td>2010-02-05</td>\n",
              "      <td>1643690.90</td>\n",
              "      <td>0</td>\n",
              "      <td>42.31</td>\n",
              "      <td>2.572</td>\n",
              "      <td>211.096358</td>\n",
              "      <td>8.106</td>\n",
              "    </tr>\n",
              "    <tr>\n",
              "      <th>1</th>\n",
              "      <td>1</td>\n",
              "      <td>2010-02-12</td>\n",
              "      <td>1641957.44</td>\n",
              "      <td>1</td>\n",
              "      <td>38.51</td>\n",
              "      <td>2.548</td>\n",
              "      <td>211.242170</td>\n",
              "      <td>8.106</td>\n",
              "    </tr>\n",
              "    <tr>\n",
              "      <th>2</th>\n",
              "      <td>1</td>\n",
              "      <td>2010-02-19</td>\n",
              "      <td>1611968.17</td>\n",
              "      <td>0</td>\n",
              "      <td>39.93</td>\n",
              "      <td>2.514</td>\n",
              "      <td>211.289143</td>\n",
              "      <td>8.106</td>\n",
              "    </tr>\n",
              "    <tr>\n",
              "      <th>3</th>\n",
              "      <td>1</td>\n",
              "      <td>2010-02-26</td>\n",
              "      <td>1409727.59</td>\n",
              "      <td>0</td>\n",
              "      <td>46.63</td>\n",
              "      <td>2.561</td>\n",
              "      <td>211.319643</td>\n",
              "      <td>8.106</td>\n",
              "    </tr>\n",
              "    <tr>\n",
              "      <th>4</th>\n",
              "      <td>1</td>\n",
              "      <td>2010-03-05</td>\n",
              "      <td>1554806.68</td>\n",
              "      <td>0</td>\n",
              "      <td>46.50</td>\n",
              "      <td>2.625</td>\n",
              "      <td>211.350143</td>\n",
              "      <td>8.106</td>\n",
              "    </tr>\n",
              "  </tbody>\n",
              "</table>\n",
              "</div>\n",
              "      <button class=\"colab-df-convert\" onclick=\"convertToInteractive('df-03f7924e-f4d0-4cc1-ac15-0d96798afd75')\"\n",
              "              title=\"Convert this dataframe to an interactive table.\"\n",
              "              style=\"display:none;\">\n",
              "        \n",
              "  <svg xmlns=\"http://www.w3.org/2000/svg\" height=\"24px\"viewBox=\"0 0 24 24\"\n",
              "       width=\"24px\">\n",
              "    <path d=\"M0 0h24v24H0V0z\" fill=\"none\"/>\n",
              "    <path d=\"M18.56 5.44l.94 2.06.94-2.06 2.06-.94-2.06-.94-.94-2.06-.94 2.06-2.06.94zm-11 1L8.5 8.5l.94-2.06 2.06-.94-2.06-.94L8.5 2.5l-.94 2.06-2.06.94zm10 10l.94 2.06.94-2.06 2.06-.94-2.06-.94-.94-2.06-.94 2.06-2.06.94z\"/><path d=\"M17.41 7.96l-1.37-1.37c-.4-.4-.92-.59-1.43-.59-.52 0-1.04.2-1.43.59L10.3 9.45l-7.72 7.72c-.78.78-.78 2.05 0 2.83L4 21.41c.39.39.9.59 1.41.59.51 0 1.02-.2 1.41-.59l7.78-7.78 2.81-2.81c.8-.78.8-2.07 0-2.86zM5.41 20L4 18.59l7.72-7.72 1.47 1.35L5.41 20z\"/>\n",
              "  </svg>\n",
              "      </button>\n",
              "      \n",
              "  <style>\n",
              "    .colab-df-container {\n",
              "      display:flex;\n",
              "      flex-wrap:wrap;\n",
              "      gap: 12px;\n",
              "    }\n",
              "\n",
              "    .colab-df-convert {\n",
              "      background-color: #E8F0FE;\n",
              "      border: none;\n",
              "      border-radius: 50%;\n",
              "      cursor: pointer;\n",
              "      display: none;\n",
              "      fill: #1967D2;\n",
              "      height: 32px;\n",
              "      padding: 0 0 0 0;\n",
              "      width: 32px;\n",
              "    }\n",
              "\n",
              "    .colab-df-convert:hover {\n",
              "      background-color: #E2EBFA;\n",
              "      box-shadow: 0px 1px 2px rgba(60, 64, 67, 0.3), 0px 1px 3px 1px rgba(60, 64, 67, 0.15);\n",
              "      fill: #174EA6;\n",
              "    }\n",
              "\n",
              "    [theme=dark] .colab-df-convert {\n",
              "      background-color: #3B4455;\n",
              "      fill: #D2E3FC;\n",
              "    }\n",
              "\n",
              "    [theme=dark] .colab-df-convert:hover {\n",
              "      background-color: #434B5C;\n",
              "      box-shadow: 0px 1px 3px 1px rgba(0, 0, 0, 0.15);\n",
              "      filter: drop-shadow(0px 1px 2px rgba(0, 0, 0, 0.3));\n",
              "      fill: #FFFFFF;\n",
              "    }\n",
              "  </style>\n",
              "\n",
              "      <script>\n",
              "        const buttonEl =\n",
              "          document.querySelector('#df-03f7924e-f4d0-4cc1-ac15-0d96798afd75 button.colab-df-convert');\n",
              "        buttonEl.style.display =\n",
              "          google.colab.kernel.accessAllowed ? 'block' : 'none';\n",
              "\n",
              "        async function convertToInteractive(key) {\n",
              "          const element = document.querySelector('#df-03f7924e-f4d0-4cc1-ac15-0d96798afd75');\n",
              "          const dataTable =\n",
              "            await google.colab.kernel.invokeFunction('convertToInteractive',\n",
              "                                                     [key], {});\n",
              "          if (!dataTable) return;\n",
              "\n",
              "          const docLinkHtml = 'Like what you see? Visit the ' +\n",
              "            '<a target=\"_blank\" href=https://colab.research.google.com/notebooks/data_table.ipynb>data table notebook</a>'\n",
              "            + ' to learn more about interactive tables.';\n",
              "          element.innerHTML = '';\n",
              "          dataTable['output_type'] = 'display_data';\n",
              "          await google.colab.output.renderOutput(dataTable, element);\n",
              "          const docLink = document.createElement('div');\n",
              "          docLink.innerHTML = docLinkHtml;\n",
              "          element.appendChild(docLink);\n",
              "        }\n",
              "      </script>\n",
              "    </div>\n",
              "  </div>\n",
              "  "
            ]
          },
          "metadata": {},
          "execution_count": 25
        }
      ]
    },
    {
      "cell_type": "code",
      "source": [
        "# Memastikan kembali tidak ada outlier pada data Store_1\n",
        "sns.boxplot(x=store_1_new['Weekly_Sales'])"
      ],
      "metadata": {
        "colab": {
          "base_uri": "https://localhost:8080/",
          "height": 471
        },
        "id": "-AeEafuUWOUC",
        "outputId": "c537ab5d-ed1c-41cb-d5c5-e0d237ec7d94"
      },
      "id": "-AeEafuUWOUC",
      "execution_count": 26,
      "outputs": [
        {
          "output_type": "execute_result",
          "data": {
            "text/plain": [
              "<Axes: xlabel='Weekly_Sales'>"
            ]
          },
          "metadata": {},
          "execution_count": 26
        },
        {
          "output_type": "display_data",
          "data": {
            "text/plain": [
              "<Figure size 640x480 with 1 Axes>"
            ],
            "image/png": "[encoded data removed]"
          },
          "metadata": {}
        }
      ]
    },
    {
      "cell_type": "code",
      "source": [
        "# Total baris data tanpa outliers\n",
        "len(store_1_new)"
      ],
      "metadata": {
        "colab": {
          "base_uri": "https://localhost:8080/"
        },
        "id": "c9tq5acwWjbi",
        "outputId": "2deeedaa-c69b-438c-ad13-0495de80be74"
      },
      "id": "c9tq5acwWjbi",
      "execution_count": 27,
      "outputs": [
        {
          "output_type": "execute_result",
          "data": {
            "text/plain": [
              "136"
            ]
          },
          "metadata": {},
          "execution_count": 27
        }
      ]
    },
    {
      "cell_type": "code",
      "source": [
        "store_1_correlation = round(store_1_new[store_1_new.columns[2:8]].corr(),3)\n",
        "store_1_correlation"
      ],
      "metadata": {
        "colab": {
          "base_uri": "https://localhost:8080/",
          "height": 238
        },
        "id": "akvVGcyWpMvC",
        "outputId": "5d8dfdfc-16c0-4b62-e1cd-32d72d0556a8"
      },
      "id": "akvVGcyWpMvC",
      "execution_count": 28,
      "outputs": [
        {
          "output_type": "execute_result",
          "data": {
            "text/plain": [
              "              Weekly_Sales  Holiday_Flag  Temperature  Fuel_Price    CPI  \\\n",
              "Weekly_Sales         1.000         0.130       -0.121       0.274  0.366   \n",
              "Holiday_Flag         0.130         1.000       -0.213      -0.066 -0.020   \n",
              "Temperature         -0.121        -0.213        1.000       0.216  0.119   \n",
              "Fuel_Price           0.274        -0.066        0.216       1.000  0.754   \n",
              "CPI                  0.366        -0.020        0.119       0.754  1.000   \n",
              "Unemployment        -0.267         0.059       -0.159      -0.503 -0.829   \n",
              "\n",
              "              Unemployment  \n",
              "Weekly_Sales        -0.267  \n",
              "Holiday_Flag         0.059  \n",
              "Temperature         -0.159  \n",
              "Fuel_Price          -0.503  \n",
              "CPI                 -0.829  \n",
              "Unemployment         1.000  "
            ],
            "text/html": [
              "\n",
              "  <div id=\"df-e3dbffa5-ea2f-41bb-b7eb-6aabd80c9d87\">\n",
              "    <div class=\"colab-df-container\">\n",
              "      <div>\n",
              "<style scoped>\n",
              "    .dataframe tbody tr th:only-of-type {\n",
              "        vertical-align: middle;\n",
              "    }\n",
              "\n",
              "    .dataframe tbody tr th {\n",
              "        vertical-align: top;\n",
              "    }\n",
              "\n",
              "    .dataframe thead th {\n",
              "        text-align: right;\n",
              "    }\n",
              "</style>\n",
              "<table border=\"1\" class=\"dataframe\">\n",
              "  <thead>\n",
              "    <tr style=\"text-align: right;\">\n",
              "      <th></th>\n",
              "      <th>Weekly_Sales</th>\n",
              "      <th>Holiday_Flag</th>\n",
              "      <th>Temperature</th>\n",
              "      <th>Fuel_Price</th>\n",
              "      <th>CPI</th>\n",
              "      <th>Unemployment</th>\n",
              "    </tr>\n",
              "  </thead>\n",
              "  <tbody>\n",
              "    <tr>\n",
              "      <th>Weekly_Sales</th>\n",
              "      <td>1.000</td>\n",
              "      <td>0.130</td>\n",
              "      <td>-0.121</td>\n",
              "      <td>0.274</td>\n",
              "      <td>0.366</td>\n",
              "      <td>-0.267</td>\n",
              "    </tr>\n",
              "    <tr>\n",
              "      <th>Holiday_Flag</th>\n",
              "      <td>0.130</td>\n",
              "      <td>1.000</td>\n",
              "      <td>-0.213</td>\n",
              "      <td>-0.066</td>\n",
              "      <td>-0.020</td>\n",
              "      <td>0.059</td>\n",
              "    </tr>\n",
              "    <tr>\n",
              "      <th>Temperature</th>\n",
              "      <td>-0.121</td>\n",
              "      <td>-0.213</td>\n",
              "      <td>1.000</td>\n",
              "      <td>0.216</td>\n",
              "      <td>0.119</td>\n",
              "      <td>-0.159</td>\n",
              "    </tr>\n",
              "    <tr>\n",
              "      <th>Fuel_Price</th>\n",
              "      <td>0.274</td>\n",
              "      <td>-0.066</td>\n",
              "      <td>0.216</td>\n",
              "      <td>1.000</td>\n",
              "      <td>0.754</td>\n",
              "      <td>-0.503</td>\n",
              "    </tr>\n",
              "    <tr>\n",
              "      <th>CPI</th>\n",
              "      <td>0.366</td>\n",
              "      <td>-0.020</td>\n",
              "      <td>0.119</td>\n",
              "      <td>0.754</td>\n",
              "      <td>1.000</td>\n",
              "      <td>-0.829</td>\n",
              "    </tr>\n",
              "    <tr>\n",
              "      <th>Unemployment</th>\n",
              "      <td>-0.267</td>\n",
              "      <td>0.059</td>\n",
              "      <td>-0.159</td>\n",
              "      <td>-0.503</td>\n",
              "      <td>-0.829</td>\n",
              "      <td>1.000</td>\n",
              "    </tr>\n",
              "  </tbody>\n",
              "</table>\n",
              "</div>\n",
              "      <button class=\"colab-df-convert\" onclick=\"convertToInteractive('df-e3dbffa5-ea2f-41bb-b7eb-6aabd80c9d87')\"\n",
              "              title=\"Convert this dataframe to an interactive table.\"\n",
              "              style=\"display:none;\">\n",
              "        \n",
              "  <svg xmlns=\"http://www.w3.org/2000/svg\" height=\"24px\"viewBox=\"0 0 24 24\"\n",
              "       width=\"24px\">\n",
              "    <path d=\"M0 0h24v24H0V0z\" fill=\"none\"/>\n",
              "    <path d=\"M18.56 5.44l.94 2.06.94-2.06 2.06-.94-2.06-.94-.94-2.06-.94 2.06-2.06.94zm-11 1L8.5 8.5l.94-2.06 2.06-.94-2.06-.94L8.5 2.5l-.94 2.06-2.06.94zm10 10l.94 2.06.94-2.06 2.06-.94-2.06-.94-.94-2.06-.94 2.06-2.06.94z\"/><path d=\"M17.41 7.96l-1.37-1.37c-.4-.4-.92-.59-1.43-.59-.52 0-1.04.2-1.43.59L10.3 9.45l-7.72 7.72c-.78.78-.78 2.05 0 2.83L4 21.41c.39.39.9.59 1.41.59.51 0 1.02-.2 1.41-.59l7.78-7.78 2.81-2.81c.8-.78.8-2.07 0-2.86zM5.41 20L4 18.59l7.72-7.72 1.47 1.35L5.41 20z\"/>\n",
              "  </svg>\n",
              "      </button>\n",
              "      \n",
              "  <style>\n",
              "    .colab-df-container {\n",
              "      display:flex;\n",
              "      flex-wrap:wrap;\n",
              "      gap: 12px;\n",
              "    }\n",
              "\n",
              "    .colab-df-convert {\n",
              "      background-color: #E8F0FE;\n",
              "      border: none;\n",
              "      border-radius: 50%;\n",
              "      cursor: pointer;\n",
              "      display: none;\n",
              "      fill: #1967D2;\n",
              "      height: 32px;\n",
              "      padding: 0 0 0 0;\n",
              "      width: 32px;\n",
              "    }\n",
              "\n",
              "    .colab-df-convert:hover {\n",
              "      background-color: #E2EBFA;\n",
              "      box-shadow: 0px 1px 2px rgba(60, 64, 67, 0.3), 0px 1px 3px 1px rgba(60, 64, 67, 0.15);\n",
              "      fill: #174EA6;\n",
              "    }\n",
              "\n",
              "    [theme=dark] .colab-df-convert {\n",
              "      background-color: #3B4455;\n",
              "      fill: #D2E3FC;\n",
              "    }\n",
              "\n",
              "    [theme=dark] .colab-df-convert:hover {\n",
              "      background-color: #434B5C;\n",
              "      box-shadow: 0px 1px 3px 1px rgba(0, 0, 0, 0.15);\n",
              "      filter: drop-shadow(0px 1px 2px rgba(0, 0, 0, 0.3));\n",
              "      fill: #FFFFFF;\n",
              "    }\n",
              "  </style>\n",
              "\n",
              "      <script>\n",
              "        const buttonEl =\n",
              "          document.querySelector('#df-e3dbffa5-ea2f-41bb-b7eb-6aabd80c9d87 button.colab-df-convert');\n",
              "        buttonEl.style.display =\n",
              "          google.colab.kernel.accessAllowed ? 'block' : 'none';\n",
              "\n",
              "        async function convertToInteractive(key) {\n",
              "          const element = document.querySelector('#df-e3dbffa5-ea2f-41bb-b7eb-6aabd80c9d87');\n",
              "          const dataTable =\n",
              "            await google.colab.kernel.invokeFunction('convertToInteractive',\n",
              "                                                     [key], {});\n",
              "          if (!dataTable) return;\n",
              "\n",
              "          const docLinkHtml = 'Like what you see? Visit the ' +\n",
              "            '<a target=\"_blank\" href=https://colab.research.google.com/notebooks/data_table.ipynb>data table notebook</a>'\n",
              "            + ' to learn more about interactive tables.';\n",
              "          element.innerHTML = '';\n",
              "          dataTable['output_type'] = 'display_data';\n",
              "          await google.colab.output.renderOutput(dataTable, element);\n",
              "          const docLink = document.createElement('div');\n",
              "          docLink.innerHTML = docLinkHtml;\n",
              "          element.appendChild(docLink);\n",
              "        }\n",
              "      </script>\n",
              "    </div>\n",
              "  </div>\n",
              "  "
            ]
          },
          "metadata": {},
          "execution_count": 28
        }
      ]
    },
    {
      "cell_type": "code",
      "source": [
        "sns.heatmap(store_1_correlation,annot=True)\n",
        "plt.title('The Correlations between features and features')\n",
        "plt.xlabel('Features 1')\n",
        "plt.ylabel('Features 2')\n",
        "plt.show()"
      ],
      "metadata": {
        "colab": {
          "base_uri": "https://localhost:8080/",
          "height": 569
        },
        "id": "VUFzZiU5pSXX",
        "outputId": "a49b0483-124e-48e5-8233-87dd2029f604"
      },
      "id": "VUFzZiU5pSXX",
      "execution_count": 29,
      "outputs": [
        {
          "output_type": "display_data",
          "data": {
            "text/plain": [
              "<Figure size 640x480 with 2 Axes>"
            ],
            "image/png": "[encoded data removed]"
          },
          "metadata": {}
        }
      ]
    },
    {
      "cell_type": "code",
      "source": [
        "# Mengambil data weekly sales dan unemployment\n",
        "weekly_sales = store_1_new['Weekly_Sales']\n",
        "unemployment = store_1_new['Unemployment']\n",
        "\n",
        "# Menghitung nilai korelasi\n",
        "corr = np.corrcoef(weekly_sales, unemployment)[0, 1]\n",
        "\n",
        "# Membuat scatter plot\n",
        "plt.scatter(weekly_sales, unemployment)\n",
        "\n",
        "# Menambahkan trendline\n",
        "z = np.polyfit(weekly_sales, unemployment, 1)\n",
        "p = np.poly1d(z)\n",
        "plt.plot(weekly_sales, p(weekly_sales), \"r--\")\n",
        "\n",
        "# Menampilkan nilai korelasi\n",
        "plt.text(min(weekly_sales), max(unemployment), \"Korelasi = {:.2f}\".format(corr), fontsize=12)\n",
        "\n",
        "# Menambahkan label pada sumbu x dan y\n",
        "plt.xlabel(\"Weekly Sales\")\n",
        "plt.ylabel(\"Unemployment\")\n",
        "\n",
        "# Menampilkan plot\n",
        "plt.show()"
      ],
      "metadata": {
        "colab": {
          "base_uri": "https://localhost:8080/",
          "height": 453
        },
        "id": "SDlO-B00oHKl",
        "outputId": "1f8b2d68-de67-4ee5-f1fa-83060693bedc"
      },
      "id": "SDlO-B00oHKl",
      "execution_count": 30,
      "outputs": [
        {
          "output_type": "display_data",
          "data": {
            "text/plain": [
              "<Figure size 640x480 with 1 Axes>"
            ],
            "image/png": "[encoded data removed]"
          },
          "metadata": {}
        }
      ]
    },
    {
      "cell_type": "code",
      "source": [
        "# Mengambil data fuel price dan CPI\n",
        "fuel_price = store_1_new['Fuel_Price']\n",
        "CPI = store_1_new['CPI']\n",
        "\n",
        "# Menghitung nilai korelasi\n",
        "corr = np.corrcoef(fuel_price, CPI)[0, 1]\n",
        "\n",
        "# Membuat scatter plot\n",
        "plt.scatter(fuel_price, CPI)\n",
        "\n",
        "# Menambahkan trendline\n",
        "z = np.polyfit(fuel_price, CPI, 1)\n",
        "p = np.poly1d(z)\n",
        "plt.plot(fuel_price, p(fuel_price), \"r--\")\n",
        "\n",
        "# Menampilkan nilai korelasi\n",
        "plt.text(min(fuel_price), max(CPI), \"Korelasi = {:.2f}\".format(corr), fontsize=12)\n",
        "\n",
        "# Menambahkan label pada sumbu x dan y\n",
        "plt.xlabel(\"fuel_price\")\n",
        "plt.ylabel(\"CPI\")\n",
        "\n",
        "# Menampilkan plot\n",
        "plt.show()"
      ],
      "metadata": {
        "colab": {
          "base_uri": "https://localhost:8080/",
          "height": 457
        },
        "id": "3YTiUytIDPqh",
        "outputId": "661eb193-7f3e-4383-f614-002107d0c0de"
      },
      "id": "3YTiUytIDPqh",
      "execution_count": 31,
      "outputs": [
        {
          "output_type": "display_data",
          "data": {
            "text/plain": [
              "<Figure size 640x480 with 1 Axes>"
            ],
            "image/png": "[encoded data removed]"
          },
          "metadata": {}
        }
      ]
    },
    {
      "cell_type": "markdown",
      "source": [
        "### Peluang week dengan public holiday memiliki sales > rata-rata weekly sales tokonya"
      ],
      "metadata": {
        "id": "GSp3Haf0H8Vu"
      },
      "id": "GSp3Haf0H8Vu"
    },
    {
      "cell_type": "code",
      "source": [
        "# Cari rata-rata sales toko 1\n",
        "mean_sales_toko1 = store_1_new['Weekly_Sales'].mean()\n",
        "\n",
        "# Subset dataframe untuk week dengan public holiday\n",
        "public_holiday_sales = store_1_new[store_1_new['Holiday_Flag'] == 1]['Weekly_Sales']\n",
        "\n",
        "# Cari peluang week dengan public holiday memiliki sales lebih dari rata-rata weekly sales toko 1\n",
        "peluang = len(public_holiday_sales[public_holiday_sales > mean_sales_toko1]) / len(public_holiday_sales)\n",
        "print(f\"Peluang week dengan public holiday memiliki sales lebih dari rata-rata weekly sales toko 1 adalah {peluang}\")"
      ],
      "metadata": {
        "colab": {
          "base_uri": "https://localhost:8080/"
        },
        "id": "aj8YJTNMGhqX",
        "outputId": "9e41c294-b3c0-4b55-eaab-600e0d3a8aec"
      },
      "id": "aj8YJTNMGhqX",
      "execution_count": 32,
      "outputs": [
        {
          "output_type": "stream",
          "name": "stdout",
          "text": [
            "Peluang week dengan public holiday memiliki sales lebih dari rata-rata weekly sales toko 1 adalah 0.625\n"
          ]
        }
      ]
    },
    {
      "cell_type": "code",
      "source": [
        "# Rata-rata weekly sales toko 1\n",
        "print(f\"Rata-rata weekly sales toko 1 adalah {mean_sales_toko1}\")"
      ],
      "metadata": {
        "colab": {
          "base_uri": "https://localhost:8080/"
        },
        "id": "55kk5ytlqrNH",
        "outputId": "8386b91d-4ddc-405d-f547-83f92d07189a"
      },
      "id": "55kk5ytlqrNH",
      "execution_count": 33,
      "outputs": [
        {
          "output_type": "stream",
          "name": "stdout",
          "text": [
            "Rata-rata weekly sales toko 1 adalah 1530028.208897059\n"
          ]
        }
      ]
    },
    {
      "cell_type": "code",
      "source": [
        "# Jumlah week toko 1 dengan public holiday\n",
        "print(f\"Jumlah week toko 1 dengan public holiday adalah {len(public_holiday_sales)}\")"
      ],
      "metadata": {
        "colab": {
          "base_uri": "https://localhost:8080/"
        },
        "id": "IHTVJFAGq2vA",
        "outputId": "37a51a2e-3dbf-4775-8a40-8f06a1a1f3af"
      },
      "id": "IHTVJFAGq2vA",
      "execution_count": 34,
      "outputs": [
        {
          "output_type": "stream",
          "name": "stdout",
          "text": [
            "Jumlah week toko 1 dengan public holiday adalah 8\n"
          ]
        }
      ]
    },
    {
      "cell_type": "code",
      "source": [
        "# Jumlah week toko 1 dengan public holiday & weekly sales lebih dari rata-rata sales\n",
        "print(f\"Jumlah week toko 1 dengan public holiday & weekly sales lebih dari rata-rata sales {len(public_holiday_sales[public_holiday_sales > mean_sales_toko1])}\")"
      ],
      "metadata": {
        "colab": {
          "base_uri": "https://localhost:8080/"
        },
        "id": "9QiMRUBqsC2O",
        "outputId": "bcd3e476-364a-4557-d747-7581774c30ba"
      },
      "id": "9QiMRUBqsC2O",
      "execution_count": 35,
      "outputs": [
        {
          "output_type": "stream",
          "name": "stdout",
          "text": [
            "Jumlah week toko 1 dengan public holiday & weekly sales lebih dari rata-rata sales 5\n"
          ]
        }
      ]
    },
    {
      "cell_type": "markdown",
      "source": [
        "## Analisis Peluang pada Variable Kontinu"
      ],
      "metadata": {
        "id": "OGUjE-dPixpD"
      },
      "id": "OGUjE-dPixpD"
    },
    {
      "cell_type": "markdown",
      "source": [
        "### Wekly Sales"
      ],
      "metadata": {
        "id": "FxU0_3fD6aP7"
      },
      "id": "FxU0_3fD6aP7"
    },
    {
      "cell_type": "code",
      "source": [
        "# Histogram weekly sales Toko 1\n",
        "sns.histplot(data=store_1_new, x=\"Weekly_Sales\")\n",
        "plt.title('Distribusi Weekly Sales Toko-1')\n",
        "plt.xlabel('Weekly Sales')\n",
        "plt.ylabel('Count')"
      ],
      "metadata": {
        "colab": {
          "base_uri": "https://localhost:8080/",
          "height": 494
        },
        "id": "07dfdjmAi3A7",
        "outputId": "9b1a6dee-bdf9-494c-ee2c-7b5d942ad71d"
      },
      "id": "07dfdjmAi3A7",
      "execution_count": 36,
      "outputs": [
        {
          "output_type": "execute_result",
          "data": {
            "text/plain": [
              "Text(0, 0.5, 'Count')"
            ]
          },
          "metadata": {},
          "execution_count": 36
        },
        {
          "output_type": "display_data",
          "data": {
            "text/plain": [
              "<Figure size 640x480 with 1 Axes>"
            ],
            "image/png": "[encoded data removed]"
          },
          "metadata": {}
        }
      ]
    },
    {
      "cell_type": "code",
      "source": [
        "# Statistika Deskriptif\n",
        "store_1_new[\"Weekly_Sales\"].describe()"
      ],
      "metadata": {
        "colab": {
          "base_uri": "https://localhost:8080/"
        },
        "id": "ldOs39d8oh0W",
        "outputId": "60b43224-f057-42e5-dc07-a8ab8536823f"
      },
      "id": "ldOs39d8oh0W",
      "execution_count": 37,
      "outputs": [
        {
          "output_type": "execute_result",
          "data": {
            "text/plain": [
              "count    1.360000e+02\n",
              "mean     1.530028e+06\n",
              "std      1.031847e+05\n",
              "min      1.316899e+06\n",
              "25%      1.455113e+06\n",
              "50%      1.527430e+06\n",
              "75%      1.604955e+06\n",
              "max      1.819870e+06\n",
              "Name: Weekly_Sales, dtype: float64"
            ]
          },
          "metadata": {},
          "execution_count": 37
        }
      ]
    },
    {
      "cell_type": "markdown",
      "source": [
        "Berdasarkan distribusinya, Weekly Sales Toko-1 diketahui mendekati normal dengan $\\mu = 1530028$ dan $\\sigma = 103185.$"
      ],
      "metadata": {
        "id": "f4qSYWf5o-EP"
      },
      "id": "f4qSYWf5o-EP"
    },
    {
      "cell_type": "markdown",
      "source": [
        "![image.png](data:image/png;base64,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)"
      ],
      "metadata": {
        "id": "Yf0H-3GyPU7R"
      },
      "id": "Yf0H-3GyPU7R"
    },
    {
      "cell_type": "markdown",
      "source": [
        "[Source](https://homepage.divms.uiowa.edu/~mbognar/applets/normal.html)"
      ],
      "metadata": {
        "id": "Vti237Po0BYP"
      },
      "id": "Vti237Po0BYP"
    },
    {
      "cell_type": "markdown",
      "source": [
        "Jika Weekly Sales Toko-1 > 1650000 termasuk EXCELLENT, dan < 1450000 termasuk BAD. Mana yang lebih mungkin terjadi, Excellent Weekly Sales atau Bad Weekly Sales?"
      ],
      "metadata": {
        "id": "JO_Ku1MVyrgf"
      },
      "id": "JO_Ku1MVyrgf"
    },
    {
      "cell_type": "code",
      "source": [
        "# Berapa peluang Toko-1 memiliki perolehan Excellent Weekly Sales?\n",
        "excellent_sales = (1-norm.cdf(x=1650000, loc=1530028, scale=103185)) * 100 # karena lebih dari 1750000 maka 1-norm\n",
        "print(f'Peluang Toko-1 memiliki Excellent Weekly Sales adalah {excellent_sales:.2f}%')"
      ],
      "metadata": {
        "colab": {
          "base_uri": "https://localhost:8080/"
        },
        "id": "tHF6OK-FsGcQ",
        "outputId": "6e07b4a3-8b53-41e1-9ace-b613a53b95ad"
      },
      "id": "tHF6OK-FsGcQ",
      "execution_count": 38,
      "outputs": [
        {
          "output_type": "stream",
          "name": "stdout",
          "text": [
            "Peluang Toko-1 memiliki Excellent Weekly Sales adalah 12.25%\n"
          ]
        }
      ]
    },
    {
      "cell_type": "code",
      "source": [
        "# Berapa peluang Toko-1 memiliki perolehan Bad Weekly Sales?\n",
        "bad_sales = (norm.cdf(x=1450000, loc=1530028, scale=103185)) * 100\n",
        "print(f'Peluang Toko-1 memiliki Bad Weekly Sales adalah {bad_sales:.2f}%')"
      ],
      "metadata": {
        "colab": {
          "base_uri": "https://localhost:8080/"
        },
        "id": "1KKyAoxouWzr",
        "outputId": "23544beb-4fda-48c8-8b69-386bf0ede118"
      },
      "id": "1KKyAoxouWzr",
      "execution_count": 39,
      "outputs": [
        {
          "output_type": "stream",
          "name": "stdout",
          "text": [
            "Peluang Toko-1 memiliki Bad Weekly Sales adalah 21.90%\n"
          ]
        }
      ]
    },
    {
      "cell_type": "markdown",
      "source": [
        "**Jadi peluang Toko-1 memiliki peluang BAD weekly sales lebih besar dari peluang EXCELLENT weekly sales.**"
      ],
      "metadata": {
        "id": "EE4t4JnKzKsP"
      },
      "id": "EE4t4JnKzKsP"
    },
    {
      "cell_type": "markdown",
      "source": [
        "### Weekly CPI"
      ],
      "metadata": {
        "id": "4YvZOP6W6cpb"
      },
      "id": "4YvZOP6W6cpb"
    },
    {
      "cell_type": "code",
      "source": [
        "# Histogram CPI di daerah Toko 1\n",
        "sns.histplot(data=store_1_new, x=\"CPI\")\n",
        "plt.title('Distribusi Weekly CPI di daerah sekitar Toko-1')\n",
        "plt.xlabel('CPI')\n",
        "plt.ylabel('Count')"
      ],
      "metadata": {
        "colab": {
          "base_uri": "https://localhost:8080/",
          "height": 494
        },
        "id": "sq-CzsHpx8PB",
        "outputId": "70d42386-c511-4530-f23e-e9a3d4d1320c"
      },
      "id": "sq-CzsHpx8PB",
      "execution_count": 40,
      "outputs": [
        {
          "output_type": "execute_result",
          "data": {
            "text/plain": [
              "Text(0, 0.5, 'Count')"
            ]
          },
          "metadata": {},
          "execution_count": 40
        },
        {
          "output_type": "display_data",
          "data": {
            "text/plain": [
              "<Figure size 640x480 with 1 Axes>"
            ],
            "image/png": "[encoded data removed]"
          },
          "metadata": {}
        }
      ]
    },
    {
      "cell_type": "code",
      "source": [
        "# Statistika Deskriptif\n",
        "store_1_new[\"CPI\"].describe()"
      ],
      "metadata": {
        "colab": {
          "base_uri": "https://localhost:8080/"
        },
        "id": "jDk3cf3qyV-I",
        "outputId": "fa3d6b52-aa01-46e6-a944-491c7731b6f9"
      },
      "id": "jDk3cf3qyV-I",
      "execution_count": 41,
      "outputs": [
        {
          "output_type": "execute_result",
          "data": {
            "text/plain": [
              "count    136.000000\n",
              "mean     215.989384\n",
              "std        4.363793\n",
              "min      210.337426\n",
              "25%      211.558291\n",
              "50%      215.441092\n",
              "75%      220.689688\n",
              "max      223.444251\n",
              "Name: CPI, dtype: float64"
            ]
          },
          "metadata": {},
          "execution_count": 41
        }
      ]
    },
    {
      "cell_type": "markdown",
      "source": [
        "Berdasarkan distribusinya, CPI di daerah Toko-1 diketahui mendekati eksponensial dengan $\\mu = 215.98$"
      ],
      "metadata": {
        "id": "uKox51Tb6ie_"
      },
      "id": "uKox51Tb6ie_"
    },
    {
      "cell_type": "markdown",
      "source": [
        "Mana yang lebih mungkin terjadi, peluang CPI di daerah Toko-1 memiliki nilai kurang dari $\\mu$ atau lebih dari $\\mu$?"
      ],
      "metadata": {
        "id": "ABmf-ofXDkqC"
      },
      "id": "ABmf-ofXDkqC"
    },
    {
      "cell_type": "code",
      "source": [
        "mean = 215.98  # rata-rata distribusi CPI\n",
        "lambd = 1/mean\n",
        "var = 1/(lambd**2)\n",
        "var"
      ],
      "metadata": {
        "colab": {
          "base_uri": "https://localhost:8080/"
        },
        "id": "2LRTq-Ec-V8Q",
        "outputId": "5222dabc-ea4f-4eaa-fb52-564315277648"
      },
      "id": "2LRTq-Ec-V8Q",
      "execution_count": 42,
      "outputs": [
        {
          "output_type": "execute_result",
          "data": {
            "text/plain": [
              "46647.3604"
            ]
          },
          "metadata": {},
          "execution_count": 42
        }
      ]
    },
    {
      "cell_type": "code",
      "source": [
        "lambd"
      ],
      "metadata": {
        "colab": {
          "base_uri": "https://localhost:8080/"
        },
        "id": "lJYVwqrL_GC9",
        "outputId": "3de664c0-3260-41b2-b00f-79e622def52d"
      },
      "id": "lJYVwqrL_GC9",
      "execution_count": 43,
      "outputs": [
        {
          "output_type": "execute_result",
          "data": {
            "text/plain": [
              "0.004630058338735068"
            ]
          },
          "metadata": {},
          "execution_count": 43
        }
      ]
    },
    {
      "cell_type": "markdown",
      "source": [
        "![image.png](data:image/png;base64,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)"
      ],
      "metadata": {
        "id": "x2SSqYTbD8mE"
      },
      "id": "x2SSqYTbD8mE"
    },
    {
      "cell_type": "code",
      "source": [
        "mean = 215.98  # rata-rata distribusi CPI\n",
        "x = mean  # nilai x yang akan dihitung peluangnya\n",
        "\n",
        "# Peluang CPI di daerah Toko-1 memiliki nilai kurang dari rata-rata (μ)\n",
        "below_mean = expon.cdf(x=x, scale=mean)\n",
        "print(f'Peluang CPI di daerah Toko-1 memiliki nilai kurang dari rata-rata (μ) adalah {below_mean:.2%}')"
      ],
      "metadata": {
        "colab": {
          "base_uri": "https://localhost:8080/"
        },
        "id": "pU6KULSYKlFA",
        "outputId": "ae708aea-ab69-40ae-80a5-d26fc7034e35"
      },
      "id": "pU6KULSYKlFA",
      "execution_count": 44,
      "outputs": [
        {
          "output_type": "stream",
          "name": "stdout",
          "text": [
            "Peluang CPI di daerah Toko-1 memiliki nilai kurang dari rata-rata (μ) adalah 63.21%\n"
          ]
        }
      ]
    },
    {
      "cell_type": "markdown",
      "source": [
        "![image.png](data:image/png;base64,iVBORw0KGgoAAAANSUhEUgAAApEAAAF+CAIAAABVs9ZWAAAgAElEQVR4nOydd3gVRffHZ29PBRJIoYTeQqihhl5FQFBKEJD6QsAXBBQISlFB+SmEji9FRHqvotKC9F5DexFeglJCCymk3X7398cx43jn7mZTKEnO5+HhudmdPXPmu2XOlJ0VzGYzIYQQIgiC0/8UURT5P9n/WQtSB7J72d/yFqRsyufOlsLhcNCU7HZ2i5Qn8L/dbnfplUutcuCtVO78b9RKKnf+N2ollTv/G7WSyp3/jVpJ5c7/Rq2kcocfOdNK47QbVJDylbXL6yKVUslefosS9Xmym1JJ+tyXEbVCreRtyvsstRe1Qq3kbcr7LLUXtXoFWomiKJ8L6yGbi0bGDyW+yjiUpTc5S6/cBzaN8pS58U3qKNRKuTXUSrk11Eq5NdRKuTXUSrm1vNJKKo7h0ahUKta0w+EQM1GSPVgHI2wyeTWleg+kfGWdlFeBTQl9Bkp85j3ht2S3jEryRa2kQK1QK34LasWDWsn7zHvCb3nFWrHd4/SHKIr0T6ffTgdqWLuiKLJ1thKP2eiAJW/Pa87iGvnzmt3oL7tlVJ4vaqU8X9RKeb6olfJ8USvl+aJWyvNVohUd2Gb/ZKttJzS0eoba2m63i/9Eia9S8IfLp1eei5IrRknUxqaUP5Y9K9k9o7xvPKiVlG88qJWUbzyolZRvPKiVlG88qJWUbzwyWgn/hPYluKy2wY6G/gHVNgX+zNJ7PK/KQa2Ug1opB7VSDmqlHNRKOTnTSsjsUYfaGtyG/2UMamhVbbfb4f+nT5+mpqZKdT4gCIIgCJJXqFQqb2/vwMBA+BOa0NDUZqvwv+IPi8VCa2u73f7kyROHw+Hr66tWq19jGRAEQRCkMGC32xMTE1UqVcmSJaHmddnshjpb5XA4aGc6ISQ1NRUrbARBEAR5NajVah8fn5SUFGg/w0baS0/7wuG3im6l+7DCRhAEQZBXhlqtVvjS1j+Gu7M78I4gCIIgSJ5Aq22ZNK7XQUOQAgntbmLnbeZh+pdtR94s3Zi3ufAZ5aFlhKC8CINTRcy/8aWSSY0UDNgREfs/YYdJXrebL53Bgwf7+flVqlTJZrPZbDYouML0VquVT88Ly+pJE2c335wVJ0tv8yqjPLTsBKunUy78LnY4T+YCzuXFz48m5nmpX96JQ/Ij7PQyJ/4xnv3KHUNeEd27d/fz8/Pz8/P39/f39w/4J1OnTrVYLC/1Qfx6YZ/sXl5exYoVK1q0qMlkMpvN8qWm20VRzMjIMJlMTs9TJ2HLli0bGho6cODAHTt2GI1Gajy7+fKeu0wpiiJr1mQy0baaS29fmW45huoZEBDw4MEDq9UK1aooisePH6dST5o0yWq12my2Hj16wEaj0ShV2Nxc/BaLpUqVKnB4RESExWJ5GRVqlpeZzIEylweS35E5rSp4CQxPfIEky9NqtVozMjLMZjNd/+7VOPZqeOedd/z8/J49ewbP5Tlz5ly+fDk6OtpoNJpMJpvNJl9eWgumpqampaWBSuwuFrPZHBcXt2/fvg8//PC999578OAB1AeiKM6ZMycmJkZ5vrznLk/N3LlzWbPgm0tvs0sudcsBTk3qXbt2sZfl3r176V6LxZKWlmY0Gun0WqPRaDQa4Z1VJzvymcpf/NHR0UlJSfB7//79z549kwkOcoPMZSaFkssDyY/In0pof2ukdiMFA3oF7Ny5U8xcEogOm3l6emZkZIiiCK8DuuyWEbnhUpK5qD1s4Qfh6GOIbmHT0L1Okx+ztJMtIzdv3jxz5gwhxGw2G41GjUZDw1OnNorLXFgyMjI0Go1Op9Pr9TRHJ2FNJlNsbOzmzZuvX79+6dKlIUOGbN682cPDQ6vVusxXRiInz7VarUajgRPEis9bA9LT07VarVar1el09LTK6OakXo51y/FZZvd6enqmpaXt3bu3a9eunp6ecDXu2bOH7jKbzS9evHBzc6N1dkpKil6v9/DwUKvVtLCsTZLVxa9Wq9VqtdOBmzdvJoTUrFnz5s2bJpNpx44dPXv2hOLAOXVSQOqOkE8jc5k5FUH+8nDyHynAqOhNCGM2r9sfJC9hn6ceHh6enp5FihTx9fUtXrx4iRIlSpQo4eHhIYrivn37ypYtGxgY+J///AfGLFNSUurUqePn59eiRYv09HSbzdarVy8/P79mzZrFxcUNGzasSpUqZcuW7dWr182bN9luzGfPnk2aNKlhw4alSpWqUKFChw4dli1bBo0zSAB23n777ZSUlHHjxlWrVq1y5cp9+/a9e/cua+f3338fNmxYjRo1SpYsWa9evSlTpiQmJtJWTpZGOnfu3KJFCyh4aGho5cqV09PTIyIiypcv36BBA3jGqVSqo0ePhoeHh4SEBAUFNW3a9Ntvv33x4gW4yjanwCbbjOOF9ff3b9my5XfffRcWFkYIuXHjxrZt29LT0y0Wy7Bhw8qVK8fmu3Pnzm7dugUHBwcFBTVo0CAyMvL+/fsynoeHhwcEBHTq1On27dvt27evUKHCo0ePhg4dSs3SxRpVKtXz588///zzsLCwKlWq9OrV67///S8VtlmzZn5+fh07dqQj07t374bu3+joaJvN1rlz55YtW2apW3x8/OTJk3N/lvkLtUaNGoIgxMTEPHr0KCMjw2q1xsTExMXFBQQE+Pn5kcx2ttlspodkZGRAC9ipearw4ndKCSQlJR08eJAQ0rZt2zp16hBCfvnll/T0dL6M8ndElmnYi4puuXXrVkREhMuL3+XlwfcxIPkUl8G905l1/c0ypOABXZpardZgMLi7u3t4eLi7u7u7uxsMhi5durz//vuEkKioKGhVTJs27dGjRwaDYf78+Xa73WQyGQwGQkhycvL7779/5MgRlUplMpmOHTvWq1evp0+fwjDnvXv32rZtu3z58j///NPf31+r1V65cuXzzz8fPHgwPFlsNhvYSUlJ+fDDD9euXZuUlPTixYvffvvtgw8+SE1NhY7BS5cuvfXWW7t27dJqta1atUpPT1++fHmfPn3AiNVqlTdiMpmqVatWsmRJKHhwcHCtWrXS09PpMx0ecL/++mu/fv2OHDni4eFRp06du3fvzps3b8iQIbSjlUonH85CSp1O5+bm5u3t/cknn8D26Ojo9PR0o9FIbzl41s+bN2/kyJFnz54tXrx4zZo1k5OTV69e3a1bt8ePH5vNZpee6/V6QsiLFy/GjRt39erVtLS01NRUp+LAb7Va/dlnn50+fRpO0IkTJ3r27AmWrVYrdYMdOoWNFoslIyOjatWqdAFFKd3u37/foUOH3J9l/mEEMlatWtVutx89etRsNlssFmhkN2nSxGg0gg8QcLBVnc1mkx/ckbn4tVot30jdsWMHyNWsWbOmTZsSQq5evfrw4UOQEc6jm5sbkb0j6IUqf9c4XWbXrl3r2rXrTz/9xF/8UpcHG0lIXaVIgQHr7MJCp06d3nrrrRYtWjRs2LBevXp16tQJDQ3V6XQ6nU6j0Xz55ZcVK1Y0mUyRkZGHDx9et24dIWTixIn+/v7wsICH2rNnzypUqLB///4DBw6Eh4cTQuLj41evXg1Nn8jIyCdPnqhUquXLl+/evXvfvn3vvfceIeTQoUObN2+GsUNoEd69ezchIWHv3r2HDh2qV68eISQ2NvbYsWPwAPrss88yMjJKlSq1a9euWbNmrVmzxs3NLSYmZsOGDVArZGlk6tSpPXr0gIJ/+eWX3377LR0BFUURxmUXLVrkcDgCAgJ27ty5ePHiQYMGEUJOnDhx9erVjIwMi8Wi/AmoVqsNBoOHh4eXl1dISIivry8h5N69ezA7jI40Q77Q6Tpo0KDNmzcvXbp0586dAQEBhJAjR44YjcYvvvjCyfOMjAz48/79+0+ePJk9e/bSpUs1Gg087kVRBGGhdElJSaVKldq+fftPP/3Ut29fQkhCQsKaNWvYtqndbk9NTQUl2VHh1NTUTz/9tHv37vK6TZ48+enTp7k8y9RhJ+x2e/369QkhJ0+etFqtVqt13759hJCmTZuy60Oxx/KTzHlkLn5aZ7N9+Fu2bCGEVKtWzd/fPywsDPq0Dxw4AC5BfABllL8jlNw1Tp7PmDFD5uL//PPP+Qsb6n6ssAs8KrqiKVI4EUURwnNCiJub2/z587Va7aVLl0aNGiWKYps2bd5++21+3s3gwYNh1g9UcoSQ8+fPp6WlPX78+MiRI4SQZs2a1axZMz093Wq1RkREwGNr//79aWlpJpMJsrPb7aNHjzYYDBqNBpr4hJA7d+6kp6fHxcVdvnyZENKyZUu73Z6enl6sWLG6desSpuWapRG2SuBfvoKqdPPmzRcvXoQWVXp6etmyZWHvH3/8Aa4qfAgKgqBWq6ENB804b29vQgjMHmfrfpPJZDQaodG8d+/etWvX3rhxQ6PRbN++fdu2bc2bN4fGmVO7nHpuNpvHjRtXt27d4OBgdmSUnTdOCBkyZIgoina7vX///uwJgrFbMAsysu1sGBxla3GXuj19+vT48eO5P8sy1Qy0ay9fvpyenh4bG/u///3PYDA0aNCAqi31Jky2oBc/70NsbCxcgW3atLHb7SVKlKhZsyYh5ODBg/A6ltOBUncEO1FOSRpCSEJCwvXr1wkhLVq0kL/4ibL1N5CCx9/fz8bTX7BZtWoVIQTaFtCwUKlU0HMLVU5ISMhHH300d+5co9Ho4+Pz8ccfwxQkeObCU9LDw8PHx8dut+t0Oj8/Py8vr9TU1Pj4eJPJ9Oeff8L1U7ZsWZPJRAjR6/V+fn7FihVLTEyMi4szGo0qlQqeOFqttlSpUjabTaPRlCpVCjyEDts///wT/tywYcOGDRvYIty7d89oNMIifzJGzGazVqulF7NKpYKpPTRCtVqtgiDcu3dvxYoV586de/r0KdsTbrFYTCYTayFLQEy1Wq3RaAghiYmJhBBfX18x84P0NF9CSERExJQpU6DFTAjx9PRs1KhRv379QkJCqDWXnqtUqipVqtjtdjorDZLZbDY6Pc3Dw6N48eKCIGg0mhIlSsAJev78uclkUqvVdPgWRGMrHvrKslTu4P+9e/fy5Czr9Xq9Xg/XlVMFXLFixVKlSsXFxZ05cwZmboeFhYGwJLOpkd06W+bi12g0TicaOkIIIS1atHA4HGq1um3btlevXr1///6NGzdCQ0OhKx7SyNwRoLDCNMDjx4/hx8aNGzdu3Mh6Bd029ESzJwi6ynAOWgGAbUiz8yXZNDhvvLDg6+srCAJ7h7PzkOE5CDE+ISQ5Ofn27du1atXS6/XQf8hePSqVSqfTGQwGOFylUsEoIxwLi1dAAhjzA6xWK23G6fV6yBSGgSGBIAjsyHGFChXKlSsnZH5ZVhRFd3d3yAjylTdCL3SoSnU6Hdv5mZyc3L9//+Tk5KJFiw4cOLBo0aJ3797dtWsXyRwxzdmkHkEQrl69+uLFC0JI+fLlaR1JlXE4HB07dqxaterWrVvPnz8Pbfrffvvt2LFjc+bMadWqFVshOXnu7u4OU8BAW3pvs33FVC7QhJ5fu91OW/DsyiRQ77JG5HVjG3m5Ocv8NDTW/+bNm2/atOnChQtPnz4lhLRs2ZJeXZAgu+dF5uJ3wuFwbNu2DX7TvgHKvn37QkJCLBYLDelk7ggquJI0Tkhd/GxwSU8QdO/nIJRB8iMa4Z+8bn+QlwU0BKHzFlpp9HkK84HXr19/4MABlUpVo0aNa9euzZo16/vvv/f29mYn6aSlpSUlJfn5+Wm12rS0tLS0NEJIiRIlRFEMDAyEDts//vgDRvt0Oh2kJ4QEBQXBk5r6A13K8BilW0RR9Pf3hz9r1Kjx4YcfqlQqaJBBm9XpEpUywnYawVPPaZ7RqVOnkpOTCSFjx45966237Hb71q1bYRf4mbM+J4vFMm3aNPjdrl07l7eVSqWqVq3axIkTMzIyUlNTL126NGfOnISEhI0bNzZr1oxtdfGe0/KydTYLe4LgfV+SeYIcDgdMiXr27BkkFkXx2rVr9Df5Z0TvUreSJUvmyVmWmdYnCELLli2hzk5KStJqtfXr12eDkhw8puQvflbJU6dOPXz4UMrO4cOH//3vf7u7u8MAB5G9I6jPStIAMLOBSF/8Lk8QVNjZ1QR5Y5G/yPFMFxYSExNh+u6LFy9SGKC38O7du59//jkhZODAgdOnT/fy8nr69OmiRYv4EZNVq1bBlsWLF8OW0NBQQoi3tze85nTmzJmrV68SQhwOx7fffguJ27dv7+QP7U+m35GDy7RYsWLQS3z06NH4+HhBEFJTU8PDw3v06LFt2za9Xk8b/TJGoMMftsTFxRHpFTaSk5PNZvO9e/fWrl0LW2DOl/JZuM+fP3/27NmDBw9+++23nj17njx5khDSvHnz0NBQ6L1kEz958mTAgAFhYWE3b950c3MrWrRoixYtypcvDznCfCJaOt5z2gMv8z4uPUFLliyBLTD/ixACHdSJiYk///yz1Wo9ceLEjh07YBc90fK6eXt7N2nShOT6LDv1QDgdEhwcHBgYGB8fb7PZ6tWrB41a2lp1eqKB/o8fP46Li3uYiVM7Xv7iZ3OnHePffffdtm3btmzZsmPHjt27d8M49IsXL06fPu007UDqjnB5UmTSEEKKFStWo0YNInvx0ytK/sJGCio4ClJYoDOSWLy8vK5evWo2m0eOHJmRkVGuXLmhQ4daLJbhw4fPnj374MGDzZo16969Ox3z8/LyunbtWs+ePdVqNTTXSpUq9dZbb0FzatKkSQMGDEhISBg3blxQUFBycjL0Enfr1i0sLAzGDtncXTZDBUGYOHHiv/71r5SUlOHDh5ctW/bRo0epqamBgYFdunThh+6kuogqVqwIPyIjI4sXL75ixQr26Va7dm29Xm82mxcuXLh9+/bHjx936dLl1KlTz549W7FiRXx8/LBhwxQK+8EHHzhtadKkyWeffSaKIqxtwraBAgIC3N3dX7x4MWDAgOrVq7u5uT169Ojhw4cqlapr164wxalChQoynkNh+XYVtG69vb2vX7/OnqDAwMCOHTvCCerevfuBAwcIIfPnz1+4cKEoisOGDfv+++9J5ntcoihWqlRJPveJEycOGTIkl2dZBihd69atYTYDzBhny+tkitefEBIbG8u6IXPxg3GICYxG46+//koIqVatWnBwMEyAh2qyW7dua9eutdvtBw8ebN26Na2zZe4I6rOSNLRo48aNGzFihNTFr9VqK1euDInhBP34448eHh5QCnyYFxjoXcPHZNjOLtSIomg0GmfNmhUTEyMIwhdffAEdbl27dm3YsCEhJCoq6s8//6QjlKIofvPNN1WrVk1LS3N3d2/VqtWCBQug+06v15cvX3779u2wAEhcXJzVaq1du/aXX34ZGRkpCAJdmQuy5icTCZnD6nXr1l2/fn2rVq30en1sbKyHh0f37t1/+OEHHx8fOJAeImOkXbt2PXv29PT0tNvt8PimV78gCIGBgbNmzapatapWqzWZTP379//kk08++eSTMmXKwHxdtpWm5A0LlUpVokSJJk2azJgxY+bMmW5ubtAZy3Zig50FCxZ89NFHFStWvHfvXkxMjN1ub9u27eLFi6H9SgiR91z1z3XNqFkYmS5atOg333xTpUoVOEEtW7ZcuHAhzCLU6XQtW7b8+uuvy5Urp9PpypQpM23atNatW4MRk8kEz4h27dr16tVLKne1Wl2mTJktW7b06tUrl2eZcLUvPUStVkOTXa1Wh4WFQXcF287O8nTATDf5NqiY+fYazJAQRXHPnj2pqamEkHfffZcQotPpPDw8vL29ixQpUr58+ebNmxNCzpw5k5qaSidVyNwRVAclaahWtWvXXrt2rczF37FjR/YEiaIIU9lxEnEhQYD3Rx0OB8T4d+/epQ0UJL/jcDjgRabk5OS0tDS73Q5TxOlDU8VMPXU4HCaTyWKxCIIAjxJ4G1WtVru7u48bN+7AgQOenp7bt28XRREWoyCZ7TODweDp6Qnza4xGI7wCRDLrV2gEwBvMWq3WYrHAe9gajcbb29vd3R1W+UhNTXU4HG5ubh4eHoQQk8kEK2HRp7xardbr9TAkCethSRmBFTOg5ZSWlma1WiGqUKvV8JYRVKiQC3RHw7gm3AiEEL1ebzAYBEGAlT20Wm2RIkU8PT1BGSlhaVwsCAIsqOnu7g4VKiz2olarPT09NRoNzNWij1oIEbRarbu7O0zXysjIcOk5eOLh4QGlS0lJAbO0vPA6EMxCgCnihBD2BKWnp6elpcFr7tDHDtPutFotKCmTu0aj8fT0hJMIZydnZxneiHNzc4PKmOqZmpoKasPZgeIIggDrn4iimJGRYbfb4ezAS2uw6gt7YUO5YPqk3W5PS0vj09CLHxyGsEYURbiuUlJSzGazRqPx8PAAJ0nmsjMw29zNze3TTz+Njo6WuSM8PDzGjRu3f/9++btGp9PZbDZ4V5teHvDqncuLHwoFWlmtVq1W6+np6eXlxb7fgeRHYmNjK1SoQDvn4N4UmdV/4QfOGy/IwA0PDyZaG/HtHtrogXoLHtNQZ8OaD3w7iS7RDGOrbm5ubm5uMM8ImgvsC7jQwejm5gZmCSF2ux2MwIAiTSCKInQAqjKhS5LRgtDaCJqwLo3AyB/0eUJ9AE1AKDu8wAPTiDQajVarhfoGHnnwPAWzII5Go4FkbANRSlhwm76urdPpxMwVuKi3dN4TOAMKw4QjNzc3eKxLec56Ag5AjnSCN9znbHoIUOAE0dYYvMIOukFecN4h8oA5Yi5zhzRwFnJ8liEOEP45LwFUggF7mHMOZSSEgJJwauBtN7by4y9sOoIAYYTLNOzFzwLXBsSyUByozumEc2jgOjnP3xFUB5k0UNGqVCromKFZQwL+4qezxGEOudVqBbO5eUog+Yu/389+3Z4gLwV4mkM4z38vCOJ3OkUInoPwyKD9nPDeFNuDB08WeMrAn/QhTjIfT/QJSzKf5vSNFHhuwhONTgKChzVUb/AUgx/0tSuaEZ33m6URKB0YgWpYyJxVDvYFQYCFNqGMbAJCCPwJ9Rybi4yw4BVkCkVmqwTwFqpAEJm2s9mjoAggL+85rQLBN5L5ShU9ZXRKM8ns1mZPEMQ6UItDvgBELbQuhM4Ml7mDtlDf5+YsszEQ1ZNkttehOFBRwTUJB0L1qcqc3AeBjtOFTSMq0B8uV6mLn51zADmCz1RqNsCCBDBOlOUdwQYlUmk0mUu4U63oaXJ58VPR6OVBMuNOFU4dLyiwNTIbVsJGbGcXZGjzBR6IfHBGH9mqzIE3wkzNhWcBrVTgENoQhxahioFtg0LjlXUDIITAQ5CtF0nm45L8c/BYpVLRl4LYlhMhhD7a5I3A8469AWjZwWGtVguPRSqFU2L6p5p5BdalsHSXU3ldFpm278V/jpqrmJ5bKc/Vme/2sGapLOzrQ3SX0wmC2oiWmmR+gEuJbuA/xHm5PMtOTVV6CL0g2QoSTg3U2dRtqAidLmx6CuhlzKdhk9EzS4MzcJKWiOYFBYduiSzvCDYvmbtG6mJWq9UuL35WZzFzIEaN72cXGnA8u+AjMu/V8B0q7HOTPgLYP+F/+NhwSkoKfP7P29sbxjXZmsBljmwubC0ocp+DZDc6pcyxEdaCkDk4JJPApSknr2SEdUrmFCBL5cuXjjfr0hOXIkidYifLTj7LnPosc3eZkfKzLOO5Elxe2DJiukwmJbuTk9m6IyBNenp6lncNf3nwPstfHryYSL6DjmdD8KrOXAbf6aRjO7vgo/yWdkrDPsFVmSNqKmaEUi3xlrB8jjJ7pRzIsRGXlahMgrwqSJYpszw2S8/lN2bpjEt/cp+7kr3yh2SXHFzYWabMslBK7giog5XcNXkrL1KwwSEQRBHQZ+ju7u7l5eXp6QlziF63U8hr4Oeff37w4AH/gQrxnzgdAguVF6TPWii5I/CuQfIQaHNjnY1kjcBMk6ZfHS6c42dQ5cBAIwwqOZjvX8EueL+ILsVVMKooYPPmzStXrvT392dLd/HixUqVKrVt23b37t0uP2UdFBTUs2fPuLi4AqOJkjsC7xrkZYB1NqII+gByeuupUPHJJ5/4+fn5+fn5+/v7+/sHBAS0b98eVrRgdwUEBFSqVIlWUa/b6zzj4sWLs2bN+u6775w+o1KvXr2ff/751q1bERERd+/ehRfA2Ol1NWvWHDVqVN++fZOTk+n3pwtMtS1zR+Bdg+QYaFWzdwq2s5Hs8dcVwy34XHiYM2fOw4cPv/32W/hz5syZGzduhK9/fv311x06dChSpMjEiROjo6OvXbvm7e0N79cqX7r8TSY5OXnQoEGRkZFFihSh35CmeytXrty+fXuHw7F161ZYg8zpOyt9+/b18vKaMWOGxWKh1fbrKEdeouSOwLsGyVuwzkYQRUDAKwhC9+7dS5QoQQg5ffo0fDvLbDZfunTp999/37JlS9++fX18fMxmM3xJgn8tOJ+ydu1atVrdsWNHunybUwJY73P37t1QZ1utVhqsQHU1YsSIzZs33717FywUjFAGQfIQvv/Jad64KIpYZyOIImiDSa/Xh4eHE0L27duXkJBgsVhu3rw5ZsyYJUuWwHLlJPN9XHVB+UiizWZbsWJF//79RVGECpu+K0wnMLdt27ZYsWJ//PHHjRs3oDHNNsQFQWjXrl3JkiWXLVsGa+IWjKY2grxicHwFQbIBVMb9+vVTq9Umk2nfvn1//PHHqFGjZs+eDR9coktnwEqTdNW2l+oVOzNOajq301w5doK3y+2sqT179sTFxTVu3BhqYhWzDCfJHLXV6/WdO3eGxLRWpkuCgG5NmjQ5fPgw7MWmNoJkCdvOhhu8IDQCEOTVAPePWq0uU6ZMmzZtCCHbt28fP3785MmTa9SoYbfbBUHgK2x5m7mcjfXgwYOpU6e2bdu2Xr16Xbt2PXr0KNSFUB1u3ry5Q4cO9erVi4iISEhI2L59e9u2bevUqbNgwQKoU9PT08PDw0NDQ0ePHm00GtFd12oAACAASURBVHft2tWxY8fq1au/++67165dg4lmDofj0KFDBoOhcuXKsFgmrbDZWEStVvfo0YMQEh0dTWtltnQqlaphw4YJCQm3bt2iNTrW2QiSLbDORpBsQJuM8EnmR48ede3atXbt2mazGb4cBZ+cggqbr9goJpPpwIEDv/76q8lkgtfD+Mo7IyPj+fPnMpX6999/HxYWZrFYfvjhhxMnTgwbNiwiIiIxMRHmvkVFRZ04cWLr1q2HDx+OiYnp2LHj8uXL165dW6dOnRkzZjx48MBsNkdFRbVu3Xru3LmbNm3q2LHj1q1bFy9efPz4ca1W26NHjydPnsDY84ULF6pVqyaKIsQlTiuPksxopkGDBmXLlk1MTDx79qxTBzgkqF27NiHk4sWLTjPPEQQh/2xVS4F1NoJkD6i0ateuDd+0oMO3oijSLzLJ94efOHGiVq1agwYNioiIqFev3ooVK1z2FR89evTw4cNO/diU1atXT548+Z133pkyZUrRokVNJlOlSpUsFovFYjGbzRcvXty+ffs333wD38nw9/e/f//+uHHj7ty5s2fPnuLFixsMhpSUlJ9//rl3795Pnz4lhBQrVmzmzJmenp6EkGbNmr148WL79u1Go9Fisdy9e7do0aL0exUuZ0HDn2XKlCGE7Nu3D9ZCZmtlQRB8fX0JIc+fP4fFkgvGu9oI8ir5u87GmwdBFGI0GiMiIjp16kQIOXXqVHx8PP36WZYV9rNnz4YOHTpjxoxbt25du3Zt2rRpS5YsGTNmDHyvml115Pjx41WqVIGvLjq9552cnPzFF1+oVKrRo0fD97DPnDkzaNCg8ePHw/eY4+LivvnmG0EQ7Ha7xWK5fv160aJFK1euXKpUqTlz5mzatMlutz979qxv375qtfrUqVOEkK5du1osFpPJZLPZMjIyCCH37983mUzwUrWXlxd0jNM3l5zKZbfbx4wZA9X/sWPH4OvOToFI0aJFCSFJSUns6HsenhcEydcIDFJ7sZ2NINnDbDYPHjy4V69eM2bM8Pb2ttls+/btY7+/JH/4ypUrp0yZ0rlzZ5vNZrPZWrRosWXLlkePHvXp0+fhw4e02o6Jibl8+XLVqlVdNsF37tyZnp6u1WqHDh3au3fvAQMG/PLLL3PmzHn//fdhHYZ27do1atQIDrl582Z6enrDhg3hz5YtW/r6+qrVan9//yFDhoiiePbsWZVKFRoaSlvS169fJ4SULl3aarUmJSURQjw9PWkvN18oi8USERFx6dKlTZs2Va9e3WQyHT582OlVbEEQ4KtWYBDrbATJAf/4cjvOIUcQeex2+4cffhgWFtarVy+TydSlS5cNGzb88ssvAwYMUDJAK4rizZs3R40aBdWwIAgajaZYsWLLly+fOXNmhw4d+vTpExISEhsbu2nTptmzZ0OXO/1QIzXyxx9/EEJ69eoFprRaLSyNSWfJ0dfMBEE4d+4cIQSqcCHzs+jQxa3RaOLj42NjY6tXr+7l5eVwOKBv//z584SQatWq2e12GAIwm83syDRbKAhiLl68uGPHDg8Pj86dO9+8efPAgQOdO3emIQgcBV3i8BlQ7BhHECfYlydhC/vVV/iB7WwEUYooip988klgYOCIESNgUjS8qP3s2bNTp05BgzjLajs4OBg+FEEnrLm5ubm7u0+dOjUqKury5cvTp08/d+7cwoUL6btVRKJ1W7p0aVr30555qJJFUTx69KjRaFSr1cePHyeENGjQgBCi0WgSExO3b99uMBj0er1Wq4UavWHDhnR6XUxMTHJycnBwMMw7c3d31+v1qampLouTkZHRt2/fY8eOLV++PDAw0Gq1duzYUa1WX7p0KT4+3mnFtNTUVFEUvby8CDMYh9U2gigH62wEUYTD4Zg8ebLRaJw8eTJMzBYEoVq1avXq1SOE7Nixw2q10jXCZOqhTz75hGS+563LRK/X6/X6tm3brlmz5ujRo8uXL69Ro4bFYoHajp/zBROwExISCCFgR6/Xp6enjxs3Lj4+Xq1Wjxgxon///j/99FN8fPy5c+e8vb1Lly5NCFGr1StWrPDw8KBD7ydPniSEVKhQgc4vW7JkiU6nmzJlCskcvS5WrFhKSgofN6SlpfXu3fvEiRPz5s2jDvv5+YWFhTkcjoMHD8JMNNoH/uLFC0KIj49P3p4aBCk8YJ2NIHKIohgXF3fw4MF33nln+fLl77//PjtL3Gq11qpVixBy4cKF8+fPv3jxAr6QIVNt0+YsfNyefkAC6l34xDLtH4N2M7+eWqdOnUJCQqKjo41Go0ajEUXxt99+gzetS5UqJYri77//Xq1ataZNm3777bclS5Y0Go3Pnj1zOBxbtmyJi4vr2rUrHU4+ceIEIWTbtm0mk0kUxfnz558/f37u3Lk1atSgHemVK1eOi4sDr2i57HZ77969z5w5M3ny5NatW8PbbvAZq549exJC9u7dC+900fH4+/fvE0Jq1qxJXHUDIgiSJRrsmEIQGb788svFixfTP/v06fPTTz+VK1dOr9ebTKa6devCbGpCyJgxYyD9wIEDoRVLXFVIUPvSpjOtujQaDa3OoYMdRrtdLmCi1WrXr18/ffr0/v37e3t7FytWrEaNGps2bSpRooTNZhMEYcqUKXPnzu3du3fHjh23bds2e/bsYcOGubm5NW3adP78+aIo2mw2tVp9//79Bw8e1KlTp2HDhuHh4QaDITg4eNu2beXLl7dYLLQnoEWLFsePH09MTISXtWij+e7dux999NEHH3wAb5lrtVrob+/UqdPGjRvPnDlz+fLlJk2awJC2SqW6cOGCIAg1a9Z0+ZI3giCEEJjtQSNaeo/8NaGEfjgPerHu3r1bsWLF1+kvgrxJwEIiVqsVPvsB3b9arRa+iKxSqSwWS1paWmpqqtls1mg0Hh4eHh4eMEGatpidDML/fCuTLhrKzkJ3+TI0uGQ0GmllCZ96hL1wiM1mY7/VAU8BqIMhDtBqtZs3b46MjPzwww8HDhxosVh0Op2bmxs03B0OB4y463S6W7dutW/ffs6cOa1bt3Z3d3d3d4dZbDabzWw2Z2RkWK1WtVpNx8gdDofJZEpPTwdNPD09wWzfvn3tdvt//vMfyMvd3d3Nzc2lSghS2IiNja1UqRLcyBD0O733BY8ObGcjiBxQe9kzgUFfOjGbztPW6XT0BmMnRfO1kUyHMGwE4y4rdQo0x/V6PSEEGvp05Jve7YQQrVZL/jnJS5UJ+A/T0+rXrw/tYDrVXKVSaTPRaDTBwcGhoaH79+9v06aN06rm0BlA/aFfidbpdHa7HX7D/8+fPz958uTSpUshemBXLEcQxCXszftXhxzB8SQEkYb2V0NtTV/QopUTjOCq1Wr4ohcdgc7Zy5NO73XIe0Ubu3Bj0/pYYFZ3gWobDoE4gO5NSUk5fvy4SqWqWLGi3W6Hnm1a76ozAU8iIyP79u376NGjsmXL0jllYB8sq9Vq6MknmRU5tK0JIWDwxx9/LF26dFhYmNlspolzphKCFGxkbgqV1MqICIIAtBHp5ubm4eEBveK0CwvqbHd3d09PT09PT3gzSsnXQXIJnaGmz0Sn09F5bXReOnywhP5PU3799dfBwcHJyckOh6NVq1YLFiyA9NC/DWnADhAWFtauXbvvv/8eBgvYLgeYPcdGKtQ3g8EAWiUkJKxfv37mzJl/9e9lOokVNoJQoIvOaQu7+q8gCILRaKRdfzabLTY2FsezEYSFfY1Yahya/s/ufQUVktMrzmy+LqNw6r/FYhFF0Wq1pqenp6enOxwOg8FAB56dBtFhzlpSUlJ4eHj//v3fffddqNqhVU1xKi91wGazhYeHd+vWrXv37rA2CwQHtK8ibzVBkPwIjGfTaafsrQE//pq+SjL72ehoFoIgLLQ/mXY4O836pruc9r5i35zyFVxB00B9SWenQwOd9qvzValKpSpSpMiKFSs2bNjw5MkT2tRmM3LpmyAI8+fPr1u3bu/evdmRhSwXZkeQwgb7kGFvWzaNYDQaCSHQ1LbZbHfu3AkKCnIKnxEEKWDQ+fCwDgzJXJtFZro7TQ/vYUNiJfUuPF7gvXaaEbzbhnU2ghBC7Hb7/fv3K1euTIeNCNdxBRs1MH+EZLa2vby8EhMTfXx8sNpGkIINzCBTq9XsnHOpzjYhcy4eIQRm22UXGOQGIzj7DEEodrs9MTHR29ubXT0JfvAjXILJZCKZ39iBcPjJkyepqalOI+EIghQ8nCafZlmPsi96KR9QE5kvb77isQMEefNRqVTe3t4BAQHsrE9+VspfjW+z2QxvsMB9BeursN/IY2NqdpYNCz8fRx5+pgx9dYSmeZVBA/8OHPub/UiDlIewnd2CWqFWqJVyUCvloFbKeZO1UmUuiahiljGg49lgkNdKw2bGHgyTUyAuznNf8bzy+UqBWvH5SoFa8flKgVrx+UqBWvH5SoFa8flKQaeY0RqaIneUxWKh+sI0E6e3R/j3WHLjJX8Ue6xya1JnImfwuUt5Ir8dtUKt5HNHreStoVZKQK2U8+ZrBe1kkXmJlP1Uget2tsAskAQ1N2Ts5KuY1UKMyqOn3Mdir+u8Snmo/LyiVqgVnxdqhVopB7VSzhuoFT2cHsXW2byTzodbrVbWJ8hPKlLgjTo1yl8BbL7ZRUpx9qqSj5jYvfLnBrVCrVArHtRKOaiVcvK7VgorbELHsxUeo9zuyyP3+cqXTt6+cgVQK9SK3Y5aKbGAWim3gFopt5BftFJiTUOy6tMXMl/gdoKNLJT3P8j7Kp9SSSTBzimQIrvRkJJISirKY/eiVqxN1Aq1Ug5qpRzUSjmvUSuXBpVopZHZx1t/edGHkvTKW/85i32kjlVu7dVEaqiVclAr5aBWykGtlINa5S3O7Wz58X/5+p8/Vj5q4EcaeE9gO7sijPJIij9Kyh8+2mK3SMVKqBVqhVrJg1qhVqhV3mqFHwVBEARBkPyBYLFYJPfJRgdSsHGBVBQjlTI3Yx7KYx+plLmxj1opt49aKbePWim3j1opt49aKbf/pmmF7WwEQRAEyR9oRFcrpQBSIwE8/OpuAN9TL/Xem5JxCDYvKW+lbGY3XuOjHnkFUCvUSgrUircmBWrFW5MCteKtSVGQtMJ2NoIgCILkDwSz2SwVNbDw8YVUxCG1XSoXPgLit/PwERkftfFjCUpW4JOKieQjLN4CaoVa8XZQK9SKTY9a8aBW8lopej8bQXLM7du3z507B59pLzwYDIaGDRtWqVLldTuCIEiBQq7Olo+G5McY5K1JzZFTHotJxTvKRyaktvMRnBJQKynOnTvXrFkzHx8fmTQFj8TExBMnTlStWpXgdeXKZ7wHUSt5a6iVlDUcz0ZeLiaTqbBV2IQQHx+fwta1gCDIK0CjMOiQj1Ckxgak5sjx4xPsdjiKXemG3cujZA6efBQmFe/wKZWAWmU3ki2o4HWF9yAPaoVasaXIrlbYzkYQBEGQ/IHzeLZ837pUGvkefOUo79OXilDkLUtFW/KRjhSoFZ8eYcHrik+P96Byy6iVcsuFRytsZxdqZs2aVa5cudGjR9tsttftC4IgCJIFf6+DJt9TL/XOHI+UBT664W2yIwF8/JLdlpxUrMSuVqNkjp/UTL8CoFVkZOSLFy9mz57dpEmTvn37vgytCjNSihX468rJE7wHlYBaKacwa4Xt7MLO8OHDCSGbNm163Y4gCIIgWeA8ns3PbcurXns+7pCyyUciymMWqd/y0VzOYr2CoVXZsmWbNGkSHR2dkJDg6+vrMqW8HUSKwnxd8b/xHkStUKvca4XtbIT06dPHZrNt3br1VWb6v//9r1OnTuXKlWvYsGF0dLTCBDJHmUymevXqjRs3jv45ZsyYKlWq1KhRY968ebDxt99+a9WqVcWKFUNDQ1euXJndjMqWLVuSITY2lhBy9OjRdu3a5bE6CIIgrvi7zhYZYIsgCE5BgcjxlxWVSqVS8enl9zoYeJu8BRb5UrF5wW8lR0mVmqeAadWzZ0+NRrNx48aXoZVLRFEcNGhQp06d7ty5ExUVFRER8eTJkywTyB+1YMECNjqePn16QkLCtWvXDh48uG7duqtXrz569GjQoEFTpkyJjY1dsWLF1KlTL1++rDwjh8ORkZFx+fLlR5lUrFgxNTW1f//+X3/9dZ5oVcCuK7wHUSvUyqmkudcK1xtHSIkSJdq1a7d///4///yzXLlyLtNcvHhx7NixWZoaOXJk7969s0wWExOTlJQ0cuRIQRBatmzZpEmTn376CUbWZRI0bNhQ6qh79+7t2LEjPDw8ISGBEGI2m9euXbtv3z69Xh8YGHjx4kVCyOPHjxctWgRt4jp16lSqVOnOnTuEEIUZwRw9Dw8PtiAPHz602WyNGzfOssgIgiC5x3kdNPZPl1U9yWpcQeR65PkgSMoya5P9Xz4lj6hghEPKDnss/C+1Fk9B0srPz08Uxc2bN0+cONFl7qGhocePH8/SByVf1yGEXL9+vXr16tSlkJCQ69evZ5nA3d1d6qjJkydPmDDh3r179HC9Xl+jRg3WZmBg4LvvvksIMZvN+/fvf/r0afPmzaOjoxVmlJqaKgiCu7s7a7Ny5crlypVbvXr1wIEDpZQBCud1hfeglCe8fdRKyhPefmHWCsezERIZGalSqby9vTds2PBqckxKSipSpAj9s0iRIomJiVkmkDrqt99+e/r0aY8ePeiup0+f+vr6fv7556GhobVq1YqKiqK7tm/fXrp06QkTJixevDggIEB5RmlpaWq1ul+/fpUrV65Tp86iRYsIIRqNZu7cudOmTcsTWRAEQeTRqFQqPi6QR0mUxEY0yi3zucjv5WOu7OYlFbX9I65RqZzSFyStPv7442vXru3fv9/hcKxZs+bGjRtOzVOXfkrlzmuVJ0WQSiAIgsVimTRp0oIFC9gENpvtjz/+qFmz5vTp0x8+fNixY8dq1aq98847hJAePXq88847x44di4iIcPmGm1RG7u7uH3zwQa9evRo2bHj16tUePXoEBQU1a9ZswIABq1atykExC/Z1pRy8B5WDWimnoGqF49mFF1EUx4wZs2/fvtOnT2u12t69e69Zs2bDhg0zZszgE1+4cOGjjz7K0uaYMWP69u2bZTIfH5+kpCT6Z1JSErxmJp/A5calS5fWrFnTaUS5aNGi7u7uvXr1IoSULl26W7duR48ehTqbEKLT6dq1a9elS5dNmzbVrl1bYUalS5eePXs2bKldu3avXr0OHjxoNBpLlizZokWLLIuMIAiSe7L3/Ww+XuBjFjZakR8JkLLPjjRIxTLsdqm8WAu8t7wnvE2po3jynVaiKI4cOXLz5s3Hjx/39fV1OBytW7cuUaLEpk2bvvrqK0EQnOzUr1//9OnTxJVWfF5ZUqtWra+++srhcIAOV65cefvtt7NM4HLj+fPnT548Wb16dUJIRkaG3W6/devW6tWrTSZTeno6TBmz2Ww6ne7q1as3btzo06cPZOFwODQajfKMkpKSnj17Bp/EJoSYzWY3NzeNRiMzhF8IryunNHgP8ilRK9RKyg67XUorHM8upIwePfrHH39cu3ZtcHAwbNFoND179rx3797Jkydfdu41a9YMDAycO3eu1Wrds2dPTEwMzA6TT+By45IlS25mMnr06N69e//yyy++vr4dOnSYPn26zWa7e/furl272rdvTwiJjIw8duyYKIpXrlz5+eef27VrpzyjW7duvfXWWzAF/cKFCzt37uzcuXNYWNi9e/eOHTv2shVDEAQhhKgUdrLzDS/lQKtOyiaPkmPlrUlZUO4Jm55FuSdKUvK8Gq3sdvvPP/88Z86czp07s9tHjRpVvHjxpUuXZssTNneFWgmCsHLlysOHD1eoUOHrr79etWqVj48PIaRVq1Y//PCDVAKpo1wyb968uLi4qlWr9uzZc9y4ca1bt65Vq9aCBQs+++yzcuXKDRkyZPLkyW3btlWeUePGjb/66qsRI0ZUqFDho48++uabb1q2bFmyZMnVq1dLzUErbNcV3oOolZSHqFVeaSVYrVa6lc+Dtcvn5HK7KNEnoKSobBr2WPlX5uU9l8pdKo3A9ckoORa1ktJq+fLl4eHhMi4VVLZs2TJ06FCC15V07ngPSm1BrZR4LpV7wdbq7+96sdqxQ3SsT/L5SfknrxFrWWpoUMn4h5QufPmlQioppXjLqJVyrRC8rvAe5C2gVqw/qJVyrXA8G0EQBEHyB3/PG1fYoS8DHxOx26VQnq9UtKU8wpKPd3LmSc4oPFoheF3hPYhayYNaKc8X29kIgiAIkj/QiKLIRiV8nz6P8tH17I5DSPXy8zahZ1/ePjs2wJdRyhPegt1ud0qDWinXqjAjNRqH1xXeg6gVapUzrbCdjSAIgiD5A+fvesm3jfgZd1J99MrtSG1h2yjKRyaym1JJ+tyXEbUqnEiNbLF7efC6krcp77PUXtQKtZK3Ke+z1N5XrxW2s5GXi8FgcPpmV2EgMTHRYDC8bi8QBCloaGiXPdufrvAryBSprzlJ/VbSGuPTS8Ug/BapUrAW+LEKdp1Y+fSolXKtGjVqdOLECZPJlGUpChIGg6FRo0bwG68rKZt4D6JWqJU8fHr8rhfycqlSpUqVKlX4mRry8HNAWAvKe7rke6741fylYFNK3clK5q0gCILkBsFmsyl5GkoeLxspKImecpaLkqe2kqcwm1L+WDbKQ61QKylQK9QKtcpNLqiVfC7YJkAQBEGQ/IFgtVqlIgvlcY2inLj30sCmkvVdpcY/pGIoft4gXwopO/KlRq1QK9QKtQJQK94aaiVP7rXCdjaCIAiC5A8Ei8UiFUco76PnYyKplFKzAfmUL4Pcj52gVvIpUSv5HFEr1Eo5qJVyCo9WOG8cebncvn379OmzFkvhetdLpzM0btywSpUqr9uRN5rbt2+fPX3aZLG8bkdeKXqdrlHjxnhtIDlDQ1z1sCuHjyz492fkRylePfw4Co+SGA21AuS1On3mbNGK7XQexV+Ge28slvTnZ84c5J/LeF0BkPvZ06cbFylSTKt9jZ68epKs1tNnziivs/F5pZzCoBWOZyMvF4vZVNgqbEKIzqN4YetayAEmi6WwVdiEkGJarbmQdS0geYhc3zi/doTUOi9Sc/lYlO+VmtGnJCpRHmfJzyeUmoUoBWql3GbhQWpNGACvKwSfV2/+8+pN0wrHsxHkTUHIhG5Rq9Uy6eX3vmk4HI7sLgaJIIgTGkEQ+Egnb6NgKcvKc1Eyc48fjZCKU+SPlfcBtcqriBgBqFaCIKhUqpiYmKioqEOHDhWkFdoNBkObNm0mTJhQp04duvAiQsHnlRT4bOctYDsbQd4IoMJ+++23C1JtDZhMpj179hw6dGjv3r21atWy2+2v2yMEya9oaCXP1/byvfP8vDh+dhxrGbbz31fhc8/Nu3G8//wYBp9G/qsPSmI61Arb1jzZ0koQhKioKJPJ1K9fv2nTpvn6+r4KF18JCQkJX3zxxfr166OiotavX2+z2V63R68ffF69mc+rN18rnDeOIG8Khw4dIoQUsAqbEOLr6ztt2jSSWUAEQXKMXN84HzUoSZPdOEUJEJXwEZNym1IjFnkFaoXkHugVL2AVNgCFot3+eF0pmT+MzyslFDatsJ2NvB7+G3Nq/OAWfdoGRnQPOfTrOrr9+qXj77cO+HXLUrolvJVfj2bF6L+4+/9zMnXvzo1PI9r1aRs46v3Q/8acgo1Xzh36ZGCzf4fXHRleb+/25a+gRC+DokWL6nQ6g8FgMBhKliw5bNiwFy9e0L1nzpwJDg6+fPmyh4fH2bNn6fYpU6aEhobmftj4o48+mjBhQi6N5IA7Dx92/fTTyn36NP33vw9euMAnOHzpUruPP67Wr1/j4cNX79sHG00WyyfffRfcv3+dwYMXbNtGCNl75kzZXr3ov9Ldu09evpwQcuzKlY7jxzcfNarFqFH0cJcbEeRNQ8OHAy6RijLk+9/Z99jYNOz/kIYde5CKRKTiF35EQd5n9iiA/46KlDUl5COtvv/++23btiUlJQ0ZMqRx48aTJk2y2+0jRozo0aMHfxSQJ1qlp76Y/nH3iAlzWr/d99a1s1P+3alS9dCgCtXPHP35163LSpf7e4ko0eEwG9NX/RpbrHiAS1NWi3n6J927f/DxN0sP/PbL2hnje/2w+3dRFGdM6P3lgp+C64QlxD8a9X5o+co1q9VqLO/VSyXHWu3evbtjx46EkPv37/fr12/s2LErV64khFgsln79+q1du7Zu3bpTpkwZNmzYpUuXNBrNrVu35s+ff+LEidy/CTZr1qyQkJD33nsvLCwsl6ZYshzI/NfMmb3btNkxY8ap69eHzpx57LvvAnx8aILHCQn/mjlzeWRk29DQK3fuvDtpUu2KFetUrjxjzZrElJTLK1YkpaZ2mzSpTd26bzdufG/rVjjKIYodPv64c5MmqRkZg7/5ZuMXXzSsXv1JQkKr0aODy5WrFhTEb2xQrVoeltqlCPi84kvBgs92F6VT6CtS8Fi4cOGTJ08OHDiwatWqMWPGDBw4cN26dYSQ6dOnu0z/73//u2nTps0ZmjVr1qxZM3ZLp06dlDTvbDbLkLHftunUTxCEarUal6tS8/b1c4SQ+3f/O2X2Fjd3L5rSaEwTRdHg7iFl6vdrZ2w2a6dewwWVql3XgUV9A84f3xv/5KHNZg2uE0YI8S1RsmSZSvf/+D27+rxpBAUFTZgwYc+ePfDnmjVrypcvD7XphAkTNBpNVFQUIeTDDz8cPXp0nTp12GO3bds2dOjQmzdvZitHNze3jz/++KuvvlJ+yJdffpmcnMxuSU5OhsFshVy5cyc5Le3Dd9/VqNUtatduHBz888mTbAKBkPmjR7cNDSWE1K5UqWLJkrGPHpktlvXR0ZF9++p1ugBf37PLltWsWJE9avNvv5UqUSIsJCTu+XOrzdawenVCSICvb/mSJW8/eOByo3KfEeSVKvTG9gAAIABJREFUoVHYvc7HDjkbP+DTK3n3jvWB90R+oQYlMZTUm3M5K2m+0CoxMXHDhg0nT54khGg0GkJI3759NRrN5cuXhw8f7tLs4sWLSVYRpcKItUixEh26DaJG4h/fLxFQhhASPniiU8qM9FRBEAwGyTo7If5xcb9SVJmgCtX/jL3RtF33wFIV9u1Y0aZz39jfY57E/VGrfksljuUteXtdEULsdrtOp4Pfa9euHTToLw01Gs2PP/7YokULs9kcFxf3+eefOx3YrVu3jIyM3r17BwUFjR8/vlWrVk4Jli9fvmjRoosXL2q12pUrV86aNevy5csGg6Fv375jx459/vx58eJZL0D75ZdfTps27aeffjp8+HDRokUJIcnJya1bt46JiVHelLnx55/VgoKoLMHly9/44w82QYCvb9emTQkhZosl+sKFZ8nJTWvWvPHnnzqtNrhcOZc2LVZr1MaN66ZOJYRUKlWqXEDA2v37e7VufS029t6TJ81q1SpVvDi/UaHDOUP+zpWnED6vsvRciVcFQytsZxdSdDrdpk2boPsUau7WrVsXKVLk6dOnX3/99av0ZOe6+b4lStaq71yLAMaMVJVK/dW4nv3alfpX16o71s51SlDM1//5szh6fSclPElPSVKrNSMnfbfqu8nD3g2eMrJT32FTAkqVf7nFeMmIohgbGztz5syePXsSQiwWy5kzZ5o3b04T1KlTZ8SIEdOmTVu4cKHBYHA6XKvVDhgw4MqVKyNGjJg6dWr9+vW3bNnCJhg2bFiZMmXmzJnz/PnzSZMmrV27Foz4+PjUqFHj2LFjNOWWLVuK/pPSpUvDrrFjx9auXTsmJqZ169bJycm0wq5du/bYsWMVljQpNdXb4+8QrYiHR1JqKp9sx7Fj5Xv3/nTp0kVjxwb4+DxLSvL19p62cmXj4cPr/etfczdvZhPvOn48uFw5qNE1avXskSO/Xr260fDhPT//fPz775f193e5UaHDCPIq+XsdNBZ2hltu3seVtywfayiJoaTss3vlZ/qxnsjnqGQ2YD7SysPDw9PTE36fPHnSw8Ojbt26xNXQC8k7rXj27vjh503/+WbZAcFVvoQQg8GjQ7dBrd7uU61W49hbMZ+P7OxfslzTtt1pguq1mxBR3Ldzxdvdh545+vOd/14qX6VWSnLCjAnhn83cWLtB6+dPH0YObVO6XJXaDdtk6U/ekidavffee2q1WhAEf3//7t27Qz/z06dPLRZLmTJlaDJRFM+ePevn5xcdHf3WW29J5dWlS5cuXbrMnTt36NCh4eHh7N4ffvihYcOGx44dGz58eP369en2MmXK3L9/n/4ZHh7udCClaNGiR44cadWqFVTbhBCosI8cOQLN7pzh8hbu3qLFO2Fhx69eHTF79vrPP7fZ7X8+fhxSocIXgwfHxcd3mTixalBQ5yZNIPHKvXs/6v7XNZOYkjLo//7vh08/bV6r1qPnz9/59NNKpUuHlC/Pb2xRu3aOfc4S/umEzysl9tm9hVMrXAet8CKKIlwcR48ebdiwoVarJYSYTKbExMSSJUvy6YcPHx4TEyNv08vLa+/evdDZniW7Niz8dcvSb76PlmkElwgo8+GnC+F3pWp1W73d58LJ/WydrdMZJkVt/u7/Rm5Y9lWNuk0bNH/bt3jghZN7S/iXrt2gNSGkuH/pxi3fOR697dXX2XnCzp07YQ4aS0pKil6v1+v1dMvixYtTUlJOnjxZr169fv36QQTmhCiKe/bsmTlzZmpq6tKlS532BgYGdu3a9fvvv1+1ahW7vUiRIuxkdXnYapsQkoMK28fbOzktjf6ZnJbm4+3tMqVWo2lTr17nJk22HDrUOSzM3WDo0bIlIaRUiRLvNG167MoVqLPj4uP/++efbUJD4aiDFy6ULF68ea1ahJCSxYu/3ajR7hMnniQk8Btfap2NIDnDed44W8NLvTPHxx1ScQ3f+8/DppRPI+WnFHwsw5eI91MqX3kf8p1W586d6969+7ffftugQYP79+8PGDBAEARBEObMmVO+fPkPPviALxE85XMWI/Mcj972y+Yl334fXdy/tEyy1JSk5IQnZcpXhz+tVrPe4OaUpmpIw0UbzsPvMf0adeoZkRD/2O74eyqc3W5Tq19DeCoVm+dsziqLt7e32Ww2m81Qbd+/f3/y5MnR0dGVKlX67LPPhg0bdvbsWXbeuM1m27hxY1RUVOnSpb/44ou2bdvyNq9du7Z79+6hQ4d+/PHH69evp9tfvHhRpEgR+ueWLVsiIiLYAz09PR8+fEj/pNU2ISQHLeya5cvPWLPGIYoqQSCEXLlzp2OjRv/wMzb2v/fu9W7zVwTmEEWNWh1crpzJYkk3mTwMBkKIzW7XZQaOx69erV2pkiFzHoBGrWbPi81uV6vVLjdmy+3sItW6wucVPtvl0+B4diHlwIEDRqOxatWq8+bN8/LygivvypUrhw4d6t2798vO3ZiRunzO+HHTf5SvsAkhD+7eHD+41e3r5wkht66fO35gW5NWXZ1M9Wtf+r8xp0SHY9+OFaIohtRtHlKv+dNH966cP0wISYx/fOboz/Wbvf3yivPq8fPz0+l0DzLnNkdERAwaNKhBgwaEkPHjx2dkZCxcuJBNv2vXriNHjmzatGnPnj0uK2yr1dq/f/+oqKh58+adP39+27ZtdNeDBw/YTvjw8PDkf8JW2ABU2znrEg+pUCHQx2fB1q1Wu33f2bNX7tzp1qyZU5rPli07fvWqKIpXY2N/PXWqbWior7d3u/r1Z6xZY7Pb7z56tPvEiXaZ3fu/379fuVQpemyTkJD7T58ev3qVEPIkMXHf2bPt6td3uTG7niPIK+DvdrZ8H7rUXuXjClJIWZOf76fc5+zmzltQrob83jdKqz59+hw+fHj8+PHdunU7ePDg2LFjT548WbJkyU2bNkEnuZLcWZSPYRNCLp2OTk58NmVkJ7rl7R7Dhoz5pleL4oQQm816/dLxHxd+1uHdwcPHz/3XxzPnfDHkRVK8T/HAiPGzoYt7TL9GHboN7hw+ws3da8SEefOnDUtNSaxQpfbk2VsElaq4X6lJMzeuXjQlLTVZrdH2HDi+weurs3OplUv0en2DBg2OHz9eqVKlVatW3bhxY2vmi8harXbJkiVdunTp0aNHUFAQbOzZsydMXpPiyy+/DAoKev/99wkhy5cv79WrV7NmzQICAhITE2/cuNGiRYvsepjjAWxBEJZPnDhm4cJF27eXLlFixaefFvPyIoS0Gzu2b/v2Qzp3rlmx4pxRo6YsXx4XH1+8SJFPP/igdb16hJA5I0d+8t13IQMGeHt4jA0Pb5n5tlt8cjL7enegr++KTz/9evXqF2lpGo1mVI8e7evXJ4S43PgqwecVPtv59C5G8c1mM+uN/NOEP573hu8TkB9vV7JqnXJ/+L1SvRx8SbN7XlEr3gK/fcWKFaXrD3LpUsHm4YVVQ4cOJYq10ul0xYoVI4QkJSUpsb906dJt27YdPHgwb9yVYNGiRb/++uu+vFgXjJbOarXClh9++OE9VzMnCjw7Hz2Ca4MFn1fy/kiViM+rYGulEjKhW6mjKpXKaRaxyEDt0mMFBpdFlSq/U3rWvhTgGxwrlV6qXFJbpDwXOHgLqBW7PWelK6go1IoQAq9XJSQkKDE7ePDgu3fvnj59Om+9ZTEajfPmzZs6dWruTUGh+JfQEAo+r1jfXu/z6k3WCsezEeRNoU2bNoSQL774Qkm1rdfr169fP3To0PT09JfkT2RkZPfu3Zs2bZpLO/AtTpJZQARBcozrybRshS8oHntj+wHkbWaX7B7LplfiOV9G5TmiVtiYliJbWjkcjgkTJhw6dGj9+vXstO0soUuavCRWrFiRJ3YMBsOECRPkV7YqnODzKmfpC6dW2M5GkDcCh8NRp06dvXv3durUqYD1IRsMhk6dOu3du7dOnTpYZyNIbnBuZ/NRjKBgzFw+ppCPVvhj2TRSuSuJYlgLfHp2r5QFeVArbGErJ0utRFG02Wy1atXKViM7HyGKot1uV9JSKTzg8+rNfF69yVrhOmgI8qYAtZqSGaRAdp8X7P9seqkclT9b5fselfcrIggij+t2tnz9LxUR8EjdpUoiIyXjFkp8k0I+6mGfU8pXmkWtsOeTBa8rRB58Xr2Zz6s3WSscz0ZeLjqdwZL+/HV78aqxpD/X6QrUmPTLQK/TJWW+q114SLJa9ZkLqSJIdnH+rpeS34BUTCE/xpDdWAnSQzQk1bMn3yuYszEGvi+Rzwu1UqJV48YNz5w5aLGYFJalYKDTG5o0+WuVbLyupPY2btLkzOnTJotFoT8FA71O16hxY/nxSx58XinxhN1bYLWyWq1SY1G591VqLgCPlJq5P69SSJ2zv/ofVCq6V2rUELVCraT2olbyHrJ7USt5D9m9qJW8h+zeAquVU52dM+R9kiq/FPLnVSp3qRxzT3b9lwe1Ug5qpRzUSjmolXJQK+W8Gq1wPBtBEARB8gd/zxvPbi+EVE89exTfR8Gm5PsBpOD7TKR8y24UJtUfIp87aoVayYNaKQe1Ug5qpZyCqhW2sxEEQRAkfyDYbDbl79TmbEYAjPmzMQV/LN/Xz0cryscApJC3yY8f8JZRK94T1Aq1Uu4JaqXcE9RKuSeFRytsZyMIgiBI/iB7a5fyUYAS5FNmd5RCHuWjDmxcI792Y+49Qa2Ue4JaKfcEtVLuCWql3BPUSrknr14rbGcjCIIgSP5A41T5szGI1Hw2dju7hYdNoyQ9GxNJpVc+lsCWRT62gpEGFl4BqWgOtUKtUCs+PV8W1EoqL74sqJVUXnxZCptW2M5GEARBkPyBczubn6XGb+dRMqNPKpaRP4pNmbPZegA/qsHHd9mN/lArqb1KPJRPr8Rb1Eq5t6iVcm9RK+XeolbKvc0rrbCdjSAIgiD5A+d2NvBXfa7gfTJAvsefHxVgLUjZ523K+8BHK5AeojAp+1LI7+V9QK2UgFqhVvxeKVArfq8UqBW/V4r8rhW2sxEEQRAkf6Ah2emvZ1GSkp/dx8J/hU3JDECp1Wr4KEZJpCbvOZ8StZLynE+JWkl5zqdEraQ851OiVlKe8ylRKynP+ZT5RiuFniEIgiAI8npxXgeNjwKk4CMUqThCPmrg85VPL783u2MVStLIe6IE1Aq1Up4XaqU8L9RKeV6olfK83mStsJ2NIAiCIPkDjSAI7Eoxyt91kxpRUPJ1FL7XHo7i16xRbpP3JGdjElIRFmxHrVAr1EqJZd5zeVAr1EqJZd5zeQqeVtjORhAEQZD8gdx3vaQiCxY2UlAeMeUeJdFTdpGKmJTYR62U20etlNtHrZTbR62U20etlNt/07TCdjaCIAiC5A8Eq9WqvBdealab8tGF3KNk9p0UUlESbIdRBPlRE9QKteJBrZSDWikHtVJO4dEK29kIgiAIkj/QkKzeh5Pq8WcjCz5lduf4KYmw5Gf9AeyaMlJkNxpSEkmhVrxvqJVy31Ar5b6hVsp9Q62U+5ZftMJ2NoIgCILkD5zb2fJz9uTrf/5Y+aiBH2mQmqEn/2UVKfijpPzhoy12i1SshFqhVqiVPKgVaoVa5a1W2M5GEARBkPyBYLFYJPflaBYfGxfI9+bzKXMz5qE89pFKmRv7qJVy+6iVcvuolXL7qJVy+6iVcvtvmlbYzkYQBEGQ/IFGFEUlMQjf+88i9fVTvqde/gup8rmzeUl5K2Uzu/EaH/XIK4BaoVZSoFa8NSlQK96aFKgVb02KgqQVtrMRBEEQJH8gmM1mqaiBhY8vpCIOqe1SufAREL+dh4/I+KiNH0tQshKsVEwkH2HxFlAr1Iq3g1qhVmx61IoHtZLXCtvZCIIgCJI/UPpdLx75MQZ5a1Jz5JTHYlLxjvKRCantfASnBNRKOaiVclAr5aBWykGtlPOmaYXtbARBEATJH2gUBh3yEYrU2AC7nYUfn2C3w1HsSjfsXifOnz+/ZMkSs9kcFBQ0YcKEIkWKsOkvXLiwbNkyk8kUFBQUGRkJey9cuLB06VJ6SLFixaxWa7du3Xx8fODA+vXrf/zxxy7LqIQ3ViuX9vn08hGrVGzIp1QCaoVaoVZ8etQKQK14rfJ3OzstLS0qKmrixIlr164NCQlZsmQJuzc9PX327NkTJ05ct25dzZo1Fy9ezG5kD0lLS/P29l6/fv369evXrVs3duzY11MeBEEQBJHGuc4WBMEpiFCyRRRF+U58hYgM8vZhy8WLF6tWrVq5cmVCyLvvvnvu3Dmr1UrTXLp0yWmvzWbjN1qt1rS0NA8PDzYXJSXKX1o5HA4lUytpet5zqXxRK9RKuWXUSrll1Eq55cKjldwctDefuLi4wMBA+O3m5ubu7h4fH1+yZEmpvc+ePXv06BG/MS0tLSMjY9y4cQkJCb6+vqNHjy5btuyrLw6CIAiCyPD3OmjyPfVS78zxSFkQuVl/vE12JIC1zx8LmM1mnU5H/9TpdEajkf5psVj0ej21o9PpTCaT2WzW6/UqlQrygkN8fHx69+7dpk0bLy+vn376acaMGcuWLXPpiZNWjRo1OnPmjJNXb6ZW8vDjPexoCpuXFFlq5fIo1Iq1gFpJ+YxaoVa8J4VTq/w9nm0wGNhvnGRkZLi5udE/9Xq92Wxm9xoMBr1ezx/i5+fXrVs3Ly8vQkjXrl2fPHmSkJDwSkqAIAiCIEpx7hvnhxD4iCZnXfZ83CFlk49EpGKWUqVKXb9+HX4nJydbrVZ/f3+auEyZMjdu3IA/k5KSrFZrQEAAbGQP8fPzE0URGuWEELvdbrfbtVptliXio7k3WSv5lOxv+cg3Z3Fx/rquUCvUCrVSDmqlnNxrlb/b2XXr1o2Njf3f//5HCNm1a1fTpk01mr+jkHr16t25c8dpL2y8ffs2u/HEiRNjx45NT0+HjVWqVPH29n5NZUIQBEEQ1zivN87W7VIRgdQoAruXtyDVOy/pmbIe/8uXLy9evNhoNFaqVGn8+PHQv92vX7/JkyeHhIRcunTpP//5T0ZGRqVKlSIjI2EvuxEOcTgc69atO3LkCCGkdOnSo0aN8vPzc+mnU4nCwsJOnz6dX7Ry6af8+A1rgfWEPUrKz3x9Xbn0E7XiS4pa8V6hVqjVy9Mq39fZLv18ZecV62wZP/G6Qq1QK7akqBXvFWqVXa2c10HjrctbUeKN8rl2rE0l50Zqr9T5lspd/mxJvSaIWqFW8rmjVqiVlCe8fdRKyhPefmHWKn+PZyMIgiBI4UGjUqn4uEAeJVESG9Eot8znIr+Xj7mym5d8DwzAxkeoFWqlBNRKOaiVclAr5RRUrbCdnSsSEhLu3bv3ur1AEARBCgWCzWaTii/kxwakogzWWs7GHvg4S0kso3zUQWq8QSovmbEKPz+/2rVrR0dHo1a8BbyuUCspn1Er1Aq1krcvpRW2s3NFmTJlYmJidu/e/bodQRAEQQo+GoWd7PLRkDxKxhWktshHKFLHSsVZ8vEaH91kKY5Opxs9evS4ceOaN29etGhRqVIopwBrlaUn2QW1Ug5qpRzUSjmolXLySitsZ+eWqVOniqK4aNGi1+0IgiAIUsARLBYL3yPPv9Wem7EHdotUTAH/y38wVd4HJWMe8hEWO4dQ/r09arNRo0anT58+evRo+/btb9++Xa5cuSz9lPekAGtF8LpCrVArV7nwR8l7CKBWhVMrbGfnAS1btnznnXeGDRv2uh1BEARBCjJ/f1EjZ/37LFLjCkqiEiVIxSm5mVsoNVKi3BNgzpw5DRo02L17d9euXZVYKMxaZRfUSjmolXJQK+WgVsp52VphOztvKFu27NSpU4cOHZqcnPy6fUEQBEEKJoLZbP7rV4766+X76KX2SkVAymfQyefOjw3wYxLysRib0m63u/RKEITGjRufPXuWbq9Xr16rVq3mzp2bLW/ldSgwWrn0MLveSuXO/0atpHLnf6NWUrnzv1Erqdz536iVVO78b+VaYTs7L1m5cuXChQuPHj36uh1BEARBCiDO3/WS71Vn9/KxTM7sSG1REjERQi5cuLBs2TKTyVS2bNkJEyYUK1aMTXnhwoUlS5aYzeYyZcrQvRcuXFi6dKnJZAoKCoqMjKSHiKJ4+fLlyZMnL1u2LCgoyMkTqVKw/tSqVeujjz7617/+df78+SJFijilfO1auTxKeUol6XNfRtQKtZK3Ke+z1F7UCrWStynvs9TeV69V/m5np6enz5kzJzIycu3atSEhIUuWLHHaGxUVNXHiRHYv3bhu3bqQkJDFixfT9BaL5ccff/z/9s48Lupq///nwzLsq4CArDpACQKiuAuKotYtFb9aqd+ym3W73TK//dzuN1NLu9/qqjdvi0tlt1yyxVzL1NxXFGVHEZBVEFlkn2FmYD6/P05+Os2Z8/EMKDD6fv7BYzjr+7zmfObzPsvnfDw8PDpj0vLly0VR/OijjzpTCAAAAADQWEkPrpGjRvnnw2jot6PIf5ZfJ2Clp32QtLS0sLCw0NBQhNDUqVNnzZrV1tZmbW2NU166dCksLEypVIqiOHXq1NmzZ2u12suXL+NAQRCmTZv2zDPP6HQ6a2trhND27dvHjRt36NAhyTyyRtYbYAy0cnZ2/uKLLxITE5988smoqCi6Xd2lFWuNhPWNs9pOhrBs5tTqroBW/IBW/IBW/IBW/HSNVuY9zi4vL/fx8cGf7ezs7O3tq6qqpNiKigpvb28ytrq6uqKiwmiWwsLCjIyMqVOndt6quLi41157DR7XBgAAAO4tv3kfBphaip5AvgRBEIw6F6xwDFkmmVKj0SgUCimZQqFQq9VSSo1GY2NjI9xBoVC0trbSWVpbW/V6/UcfffS3v/0NO0oGlpA1cgq1bNmyurq6VatW0VHdpRVPShpTy5fRyoz6FU9K0Io/JWjFnxK04k/5cGpl3uNsW1tbrVYr/atSqWxtbWVi7ezsjGbZt2+fUql85JFH7pVhrq6umzdvfvfddzMyMu5VmQAAAMBDjpXkDtBOAXnDZ7kM/M4IWZpArEywToIVqOft6HL8/Pyys7NxSH19vU6n8/LyEkURh/j7++fk5ODycWzv3r39/PxycnIMspSWlubk5Lz88ssIoYqKirfffvvVV1+NiYkh6yVV4tFKmiE/fPgwfuVX92olMnZp4hB6BYi2lm47q15TtaIBrVhW0YBWLKtoQCuWVTSgFcsqmq7UyrzH2QMHDrx+/Xp+fj5CaPfu3SNHjrSy+v001piYmIKCgry8PBw7atQoKysrHGiQ5bXXXtuwYcPGjRs3btzo6+v79ttvx8TEdN48mRlyAAAAADAVK2lUKu/10JPstJ/Cmogn/ReWjyOfi1Wvvb39okWL3n//fbVarVQqFy5ciMNnzpy5dOnS8PBwOhZn+eCDD1QqFQ6UCpQ+4NUIozXSWpEhBlq5u7vv2rVr8ODBU6ZMiY+P716t5EN4vEuWZ8ryQ823X8mHgFaglXwuVr3yIaAVaCWf6zcbpHdxstrAwlRbWWXyzDzcK+QVZ6Vk2S+K4vDhw8+fP2+0ZImVK1d+/PHHeXl55Az5Q6iVTMmsWkAr0IpOA1rJpwSt5Gs0d60ErVZLrw3wwPJ3yCfhWH4Ey3Ppmu+V9HFMrdFAq6FDh5LnjbOIiYkJDg7+4YcfjJb2kGjFCfQrfkArfkArfkArfrpeK/NezzYXdu3adeLECTgcDQAAAOgMVjJx9CkwrHNe6DVdGv5Y1hqGfAlkOfJ+Cr2uIL8WwlOmvFYBAQFr165duHBhfHx8dHT0XdvyMGsF/YoEtOIvE7TiLxO04i+zp2kF4+wu4rnnnnvyySfhBdsAAABAh7EQBEEURYNbOh3SGQQCuhYS+RJYsXReVnq6Lv6W4jI7o9XatWtFUZQ2t8vUAlrx1wJa8dcCWvHXAlrx1wJa8dfSea1gnN114MPR9uzZs2XLlu62BQAAADA/rEivxCBOkJ2dp/fFicQqAlkaGU6/X4Wunfws44LJ5CLzkrbR4DSs97fQbWHVy6lVdHT02rVrFyxYEBkZGRUV9bBpRaaEfgVakWlAK9CKJxeZ9+HUCsbZXQ0sbAMAAAAdQyBfmCGXjuFl0J4FKy8ZK+8f0f4F9kpMfZupvKfTsRIMkM5UoXPRSK2ur69PTEyMjo7+4osvjOZ9ILWSyUXzkPcrmVw0oBUrFw1oxcpFA1qxctF0pVYwzu4GXF1df/zxx71798IT2wAAAAA/VpyOBsuDkJ9/Z719hfxLvrIae1vyfgptsPyJM/LrEBj6PSqs0mhYaxLyWgUEBHzxxRczZsyIiorCR5E/DFrRQL8CrTCgFWgFWvFoBePsbmPy5MlvvfXWjBkzSkpKutsWAAAAwAyw4lwAoH0HU9cPyLysEPk1Bto/kt8ZSFvOY5WpLZX3ueRLWL58eUlJyfTp03/99Vd3d/e7lmzuWsnXCP1KHtAKtKJtAK34rXowtIJxdjeDD1p58cUXu9sQAAAAoKdjJQgCfT8nd7iZ+nwbiXzJ8r4Gjw/FKp+Mld/pR1oiXyMrTSe1wvvRBg8e/MYbb/zrX/9ilQxa0fawSgataHtYJYNWtD2skkEr2h5WyaAVbQ+rZFO1kntHiFlw6dKlTZs2tba2BgQELFq0yM3NjY7VaDQ4Fr/B+tKlSxs3bsSBixcvxll++eWXnTt36nQ6Ly+v+fPn9+nTp8uaEBgYeOTIkfHjx0dHRz/33HNdVi8AAABgXlgY3MYFQZBu8nq93sC5EAhEUZTykp/JEkQClgU4FtfFSkmH41pUKtXatWuXLFmybdu2AQMGbNy4kUyDY//+97/j2A0bNiCEWlpa1qxZg7NERESsX79eFMX8/Pxt27a9//77X331VXR09CeffELXa9QG6XMntYqKilq7du3cuXNPnDhxn7SiYaWxsLAw+ipZ+drvqpUZ9SvQCrQCrUCrnqmVea9np6amhoWFhYSEIISmTp168eJFnU5nNDYpKQnHGg2LV5YpAAAgAElEQVT09vb+4IMPevXqhRAaNGjQzZs3u74tzz333Jo1a2bMmJGRkdH1tQMAAAA9HyvSL5BC6Zs8K1bkXldgwSqNVSMZXlFR4ePjg0Ps7Ozs7e2rq6t9fX1lYsvLy318fHACHFhVVeXr6+vg4CCKYlNT0759+0aOHElawq+GfOxdtZo3b15GRkZiYmJ+fj6exr+HWvHYbOo3RZfQZVp1wFrQit9a0IrfWtCK31rQit9allbmPc7WaDQ2NjbSvwqFQq1Wy8dqNBqFQmE0y5YtW5599tlbt25Nnz79/ttunM2bN48ePXr8+PFwGjkAAABggIXBagE5k06vE9Dz8mRe1tqDPHR6+Xl/0jZbW1utViulV6lUdnZ2UhocK5WJY6VAnIvMMmfOnD179iQkJCxZssTA+zNAKtPAHroVHdBq8+bNoigavW13Riucl5We1QdYIaxvWUYrM+pXoBVoxQK0km+pvIWgFQt+rcx7nO3n51deXo4/19fX413f8rFGA2/evFlYWIgQEgRh0qRJFRUV3TjMdXV1PXr0qCiKc+fO7S4bAAAAgB6I8Xs27TXwlIX9AnqXnanlsPLS/ktMTExBQUF+fj5CaM+ePSNHjrSyspLS49i8vDxRFHfv3o1jBw4ceP36dYMsZWVl//jHPxoaGhBCZ8+edXFxcXNz47T2fmjl5uZ27Nix9PT0Dty2WVrx2M/jBdNl8rfaXPqVfHrSKv70ploLWoFWPOlNtRa0MnetzPv5bHt7+8WLF3/wwQdqtVqpVC5cuBCHz5o1a+nSpREREThWpVIplcpFixbhLIsWLTLIMnTo0OLi4jfeeEOv17u6ui5durTDst4rXF1dd+3alZCQgBDavHlz9xoDAAAA9AQM359N36tYdy/SiWA5OwKx8438i9PfuHGjqKhIEAQ/P78+ffpYWlqSuUTG3jm6RvIzy36chs5FW8WPIAjDhg1LTk6WqR3TYa3S09MTEhKmTp2Kb9u042ZGWt01BNP5fkWXQ+YCrUAr0IoVggGterJW3TPO/uGHH/7xj3/cuHEjICCgtbW1oqLC0dFxxowZCxYskJ7UAhBC0dHRx44dg9E2AAAAgOh7Nn3/p30HOoTlg7D8jm+++Wbjxo1DhgwR7px2npaW9u233w4fPvzdd9/F53eSZbLK4bGNBVk+3WrSr5E/adZUe0zVKjIy8ujRo+PGjUMIff755+iPnhddZk/W6n73K1aZoBVPOGgFWoFWrFw9R6vuGWfv2rULIVRTU+Ph4YFDoqOjo6OjX3nllZdfflmn08GWaZKoqCh82xZF8YsvvuhucwAAAIDuwfC9XjyfMSyfgrV+QK86jBw58rvvvouKipJCXFxc9u/fP2fOnLlz55LlYG+ItRIgv4rAs8ZAp6fXHui6ulKryMhI/B4RdGe0zSoHtJIHtAKteCwErfgtBK34Ley8Vt35fPamTZuefvrpH374ASFUWlq6YMGCRx55RKFQbNu2rRut6rFERUUdOXJk7969L730UnfbAgAAAHQDgk6n47/ns6Bn4f9QB3v1oqqqavbs2Xq9/vr16y+88MJf/vIXb29v2ucifTFW7awaO4+M/cOHDz9//rxJpXVYK0xGRsb48eOnTJmCJ8nNSKsO0EmtjKYHrUAr0Iof0IqfrtGqO5/PzsnJ2bhxY15eXlBQUEJCwuLFi21tbbvRHrMAj7bxJDmsbQMAADxU/D43LjJg5aTT0CECAxz7pz/9KTAwMDMz8+TJk2FhYWPGjCkuLjbqpOBcPLaR5fPA01K6TDJL12hFpoyOjr58+XJ6enpsbCzrTPIeqNVd7WHV0hmt6FjaWtCKTsmyFrSiU7KsBa3olCxrQSs6Jcva7lnPXrp0KUIoLy9vwYIFLi4uCKG///3vb7/99oQJE7rFHrMjMDAQn0kObwADAAB4ePh93ziPC8NyN1h5yZJFYr+cXq9/5ZVX1qxZo1AohDuz9o8//nhISIhkD/nknLxtZKx8StJ+OqVkiUFKuhU8Nd4rrWjb8F98Jvm0adNiY2N/+OEHaft9T9aKpy6WtXR6fq3IXObSr3jqYllLpwetWNbS6UErlrV0etCKZS2d/l5p1T3j7Pfee8/T0zM6Ovqrr77Cb+bAhISEVFVVLVmypFusMjvwG8Di4uISExMzMjK62xwAAADg/mLaPVt+tp0FvR5w5syZlStXbt269fvvvw8MDBwxYsT06dNnz549YsSIyMhIJycnk6xiWci1NkC9G5WM7bAZ6N5pdVerNm/ePG/evNjY2C1btnTYwodEqw4DWvEDWvEDWvEDWmG6Z9/4yy+/nJ2d/fHHHx84cKC6ujo9Pb28vLytre2FF14YMWIE7B43lWXLlgUGBr744oslJSXLly/vbnMAAACA+4KVwZ1foObcBcY8Ox1CQ6YhPz/66KNRUVFNTU0bN26MjIwcMmSIm5sbujN3L18+/1oC2RbyMw3tjtEK0HlZmtxbrVjpDdY55syZEx0dPW7cuJKSkjVr1ri6unLWRYbcb63ud7/i1MpoetAKA1rRn0EreftBK377O69V96xnf/fdd+vXrxdF8dy5c/PmzfPz8wsKCnriiSfefPPNbrHnwSAqKgo/A5aYmFhSUtLd5gAAAAD3GMNxNmv3ncxEPDLmB9FlkiVYWlqOGjVqy5Yt8fHxgiC0tbXl5+dnZ2dnZ2fLWGLUhkuXLm3atEmj0QQEBCxatMjd3Z2MTUlJ2bBhQ2trK47Fo89Lly5t3LhRyuLm5iaK4okTJ3bs2KHRaDw9PefPn+/n53fXtneNVvy5EEIBAQFHjx6dO3cu3kweFxdnUjkY+l03rJ2WrFgZC2Xy0txXrdDdPHTQCrQyNReZErSSz0WmBK3kc5Epu/O88fj4ePzBysrq0UcfnTFjxooVK0wqoaWlZe3atUuWLNm6dWtERMSGDRvI2Obm5tWrVy9ZsmT79u1SbEtLy5o1a5YsWbJt2zYpsKKiYv369StWrPj6669jY2M//fTTe9TEbsDV1fXHH3+cN29eYmLiu+++293mAAAAAPcMw3E25rf7uYUF4vMO5Gf86VUBsgRW+XSZdJq0tLSwsLCQkBCEUFJS0syZM3U6nbW1NY69fPlyaGioUqnU6/VTpkyZPXu2Vqu9fPlyWFgYGajRaFxcXP75z3/6+vqKojh48OCffvpJ3p+i6WlaLVu2LC4ubvr06RkZGZ9//rmrqytrTYUsgdxPQMey4NfKXPoVaMUqE7QCrchw0KrrterOcXbnKS8v9/HxwZ/t7Ozs7e2rqqrIWF9fXzK2urq6oqLC29vbINDe3j4wMBAHpqWl9e/fvwsbcb+Ij49PSUkpLi4eMmQIPL0NAADwAGCFTJmvJ+FJSe/uI6HfnMqzA5BcvdBoNAqFQrJHoVCoVCq9Xo/LIWMFQVAoFK2trRqNxsbGRrhz2ppCoVCr1VKBmZmZ+/fvX716NUsT89IqKCjo0qVLCxYsGDJkyNq1a+fNm0faw/IKWV6tvOV0SvPSil4VI+0BrTCgFWhFlgxadYNWnJb1TGxtbbVarfSvSqWys7OTj5XJcu7cuXXr1r3zzjuenp733/auY+3atTt37ly5cmViYiIcTg4AAGC+GN6zBUGgHQGjiARkCJ2Sp0wyjXx6MtbPz6+8vBx/rq+v1+l0np6eklV9+vQxiPXy8pKyCILQ0NCg0+l69+4tCEJqaup//vOf9957T5ok57FEvlES3a7V5MmT8/PzRVEMDQ3dt28fbRXLHrIcElMtN69+JW8VaAVagVb8ZYJW/GXyaGXe4+yBAwdev349Pz8fIbRnz56RI0daWf1+sltMTExBQYFBrNEsKpVq3bp1y5Yt6927d3e15X7j6up65MiRt956a/r06S+++CIMuAEAAMwOQavVkifFkCsK9BqDyJiRJ0Nk3B+D9AK1X45liQxpaWmffvqpWq1WKpULFy7EZ5XPmjVr6dKl4eHhRmPpwCNHjnz00Uf4raCYDRs2ODo6YgvJ9QYDC4cPH37+/Hlz0QqTkZExd+7choaGL774Qnrcjh+RsQJ0V62kz2akVScBrfgBrfgBrfh58LQy+3v2PaHD36s53rMxq1atWrVq1euvv/7WW2/ho2Y4efCugfsHaMUPaMUPaMXPg6eV3Nw4PUdPz7CTawbyawz3Fp5VDVNhrSXwrEOYnVbLli1LSUn59eiJQYNipRVufh4qrToJaMUPaMUPaMXPg6SVea9nA50hKipq294LIcNmTp8+/b+m/RccUQ4AANDDsZLxMkRqVoFMLBAjelPnOkRiHoCEp5y7ukV3rZdVAt1G+fR0yaxyeqxWoojGzvjfgWNm7/30LzExg99+e7nBM9ygFX+9oBV/vaAVf72gFX+9D4NWMM4GkKtnwJy3DyY++97by1fEDhp08uTJ7rYIAAAAMMJvJ6kaXT+Qn5cXKchYcn6fxw6elKw0pq4lyFsuX+8DphVCv1sycMzsQ5u2DwkKSkxMfPGFF/BUOWgF/YonDWjFnwa04k8DWtHAOBv4HScHx5Vz5x758MP8jIzYwYPfffddeIwbAACg52CF/jifTn6mb/jybgudVyDm+lnp8b52OqVIrDfIv1mFBZ2LZQ8ZTqckdaAtpNPQKVltJ2vvXq1IwoODd61adfDCheWffbblq6+WrVjx7LPPGljbMa3IEujWsehpWnVNvyJLoFvHArSiW8cCtKJbxwK0olvH4n5rBeNswDiThg69uGnT3AkT/t/8+aEhIadOnepuiwAAAB52DN+fTfoU8t4BKxftMfF4GfJl0m8+oVOS3op8ySwbeMbTdL08nhSdi1VyF2slCHfZ6PjSk08+nZDw2f79/5WUFB0dvWzFiri4OKOtYLWIttBMtbprySwbQCseQCvQCrSSLxNrBeNs4C44OzgsfOaZlE2bvBWKxMTExHHjYMwNAADQLVjIuA/kHjZRFGVSWlhYkE6QBM6Fy2GlYZVP106WRkKmp8Pp0uRtIC3BuehwGnPVCnHtZkQIOTs4/Pv11y9+9hm+c49PSDh58uTDpRX0K9DqjynlawetWOWDVvJ2ytcO42zABPy9vMg7N4y5AQAAuhIrmTj501hEYp1APiVrxUKg5vfJWFb4b3P6lKsiMtYP6DLlnTIyDW2hfBt5yuxRWum5l4VI8J174TPPfL5//38lJbm5uy9fsWLOnDnogdbKIBf0K9AKtAKtul4rGGcDHcTfy2vl3LkpmzZNHzHijddf7xccvHLlSnieGwAA4P4haDQalm9C+yA8XgxPStLXoN96hpH3WaQSUlJSNm7c2NraGhAQsGjRIvwObCn20qVLUuzixYvxSydxFo1Gg7O4uroKglBUVLR169bz589/++23zs7OtCVG/TjpXZxmoZVBelEUs0rbf0nTSeFTrS95CE0yRcnw3bFja7/7rlGtnjJ16ltvvRUYGGjW/cogPe2h074wq11kOGe/MiiZLpMFaEWXyQK0ostkAVrRZbK431qZ9zi7ubl59erVS5Ys2b59e0RExIYNG8jYlpYWKXbAgAHr16/HgWvWrFmyZMnWrVvJLN99993jjz8uszsAkOfphISLmzZ9uXhxVV5eaGho4rhxW7du7W6jAAAAHijk3utFQvs1dCzLG6I9BZZPROYlT7ohY0lSU1PDwsKUSqVer586deqsWbN0Op21tTWOvXz5clhYWEhIiCiKSUlJzzzzjFarlQIRQjhLW1ubQqH43//9X6ktRpvJKRTqqVph7vfb5kdERIyIiCirqvp8//435s9fuWLFc3/+83PPPRcYGGg0vTlqRfvRLE+cZ+Xswe5XoBUNaAVaka0wVSvzHlaWl5f7+vriz3Z2dvb29tXV1WSsj4+PQSwdWFVV1cVmP/Dgpe5r27a9MW3a0b17Q0JCxickwLAbAACgkxjes+lRJk+IKIo8G/DuikggXz4OaW1tlUbVCCGFQqFWq6V/NRqNQqGQ0isUitbWVq1WKwXiLK2trXSlPC2iva2erJVer7/fg2yapxMSfly58uJnn4W5ub0xf76nh8eLL76YkZGBHhStcHrW3AxdL2e/MqNrELQCrXgArfiR18q8x9m2trZarVb6V6VS2dnZycTa2tra2NjQgV1j7UOLNOxe9+qrVXl5Q4YMCVUqFy5ciF/3CQAAAHBihT0UdLeZetYzczSsEkRqbx5dJrkSIP5x1Gu0ZD8/v+zsbPy5vr5ep9N5eXmRsTk5OTgvju3duzcOtLCw0Ov1UhaDukiPzMASWivaqp6pVU9g0tChk4YObWxp+eXChc9/+umjjz6KGjBgzp//PHny5KCgIJym52tFr42RK09kXSx4+hWNOfYr0Iof0Iqfh1kr8x5nDxw48Pr16/n5+QihPXv2jBw50srq91NiYmJiCgoKDGJxYF5entEsQBfg7ODwdELCkX/96+Jnn/3XkCGbP/lEqVQOGjjwo48+Ki4u7m7rAAAAei6/P59Ney6/paD8BZ4pe7JM1rIEWXLHPC9RFNPS0tavX69Wq5VK5cKFC52cnBBCs2bNWrp06YABA1JTUz/99FOVSoVj8dPbBoFOTk5NTU1/+9vfEEK1tbXu7u6CIHzyySc4MWL7YqIoSs9n0y2i87LoMq3olJkl7b+k/b5S0JnnsztDWVXVwQsXvjt+PKewMDAgYMrUqc8++2xUVBSdshu1kqDf3ct6nlK+HJl+JdMiOi8L0IrOywK0ovOyAK3ovCzuh1Zmf8+WSdkF3yvcs+8tZVVV57KzD6akHDx/3sXZecrUqVOmTBk9ejQ+DAc9NP1KpkV0XhagFZ2XBWhF52UBWtF5WdwPrawMUpDpWFayVhHoWAwrln8bM2vGnwVpufz6BCtvx9ZCeNL0NK16FP5eXk8nJDydkNDY0nIuO/uXCxf+59VXyyor40aPjh8zZvLkydHR0VLiB7tfwTUIWvEAWj1sWsFSLtATcXZwwBvWEEI5RUXnsrMP7t27atUqF2fn+Pj4MWPHktvWAAAAHhIE8sGnjuSnxv70iJ72L+Q9HbJMlg/F45uwDiI11QaZugzmxuXpgVr1tLlxefDg+1x29rkrV3KuXw/09x+TkBAXFxcfHx8QEIAeoH5lEj2wXxnUSwNa0YBWGNCKLpMsB8bZgNlADr6l+/eH7703d+5cPP6OHzNm9OjRRjevAQAAPABYWVhY8NzzSXhWEUgvg79kuhb5WNqXMbUu1jo/7R+R6R9OrXoURu/fX65fv2DBAoRQ3KhR8WPHRkVFRUZGGhx1Dv2KH9CKH9CKH9CKH7p8GGcDZg95/0YI4ft3yq+//vtf/2psaXFxcYmPi4uKjo6Pj4+MjHR3d+9eawEAADqM3D2b9gtof6Fj8/Usv4NeFWD5MmQ4qy6yBNpa2hK6TFYuGnPX6kECv1sMfy6rqsopKsouKjq6d++/P/ywsbnZxcUlOjISj8KDgoIMJtKhX8E1SANagVbybexKrWCcDTzI+Ht5+Xt5SUNw6Rb+6+7d//nss7LKSoRQ3KhRwf36BQYGjhkzJiAgALajAwDQY7HiHHLx+CMseNYVWCGsvPIWko3iWVEgvZjOj0fNSKtOWGqWGNzCG1tasouKcoqKyqqqjqSnr1y5EodLd/H4+HgXFxdpLA79it9C0IrfQtCK30LQCsbZwMOLs4MDOZGOECqrqsJnsTXevn0kPX3d2rWNLS0IociICDd397j4eFdX16ioKPJGDgAA0GX8/l4v1tlvtJ/CgvZfaL9GfvWC9bQcz/oHa3WB9tHkPTIyJf2Z1orVFnPRCiDBA3HyLo4QOpedje/lKYcPN2o0eGs6QijQ3z8oKCiob9/AP2JQZsf6FVyDoBVoBVqR4HAYZwPAXTC4hWPOZWfjqfXG27ePpKU1qlTZBQU4KtDfPzAgwLVXLzwWHzt2LEIoMjJSOjUdAACgYxieN94ZWGM4Hq+EB5a3xe9hyfs7HbOkY/QQrWC83WHwjVxaGsfguzhC6Fx2NkLoyK5dgrU1fuQMJ3BxcYkMD7ewtsYT7HimHSEUFBQUGBj4wPQrmdrhGgSt5FOCVvLAOBsA7hl4gRxJQ/NnnpGiDG7nZdnZKdXVgqXlO8uXS3d0hFBkRISrs7Nw56aOEIqKisIDdHxf79L2AADQw7ASRZH0SuTXazGkL8Pyj8iUdCzLk+LfQUee6coqn1wboNvIsoQuob293SDNg6QV0DUY3s4p8L1curU3FhWlFBYK1ta7d+yQZt0xri4ukeHhCCHB2ppcQZfu7oiYiodrsOdfg6AVmR60ktfK7MfZly5d2rRpU2tra2Bg4KJFiwyWDFNSUjZs2KDRaPz9/RctWuTm5oazbNy4sbW1NSAggAzEKclAAOgypHu5wXw7Cb6vozv72xFCSKs9smuXYGmJLCyO7t9/Lj2dzhXo7x/g748QsrC0RBYWcXFx6M6vAJ6cJ39TyBs/AAA9DePv9WKNw+gddzwp5ctklcb6TO6pa25ufvHFF1euXBkSEvLtt98WFxe/+eabUmxLS8sLL7ywatWqkJCQb775Bse2tLTMnTv33XfflQKXLl3a3NwspdyxY4dUjvwuPoTQ8OHDk5OT76pAT9DKqKeZWdJ2INVs3usFmIR0g0cI5RQVNRAz8OeyspCFhWBpiRBqbG42GMcbEDdiBP6APQOEkDRv/4dkcXH0WAc/FEePIXh6LM9OWroEErO4Bo2WDFqBVnR6/Nm8x9mpqalhYWEhISEIoalTp86aNUun01lbW+PYy5cvk7GzZ8/W6XRklqSkpJkzZxoE0uUAgDlCTsIbTsgTC+00Bjd49MfbP0IIVVVdy84uu3ULISRYWSFBQAgd3b+/rLISHy3HQ6C/f6C/PxkiFYUQCgwMJA+kM7pDR1rgv+svpouLS2RkJKdhANCTsZKm7EmfxdS3itJvR5H/zLOeSqenr9uKigofHx8ca2dnZ29vX11d3adPH5yyvLzc29sbf8axVVVV5eXlPj4+oihaWFjY29tLgb6+vrgVUqBUDquN5qWV0TUSAcHCNmBIeHCwQQhrDZ6T32fy+aO02pa8vMaWluzCQilMGugbkJ2f3/hHJ+NeIS0r8GBxNy+fnp9grbnS8O9BYY38RFGMj4/n359Mr+myVnDl7ZQfidKnc0sYnHZA/rLRv7qs32q6Fvn0Pf+33bzH2RqNRqFQSP8qFIrW1lYy1sbGhoxVq9VGs8iXI8+IOzOHDwB7utsAADDE1vauSUIeeYS/PJVKRe48uiu3amqkz01NnVo5ysvLowObm5s7U6ZJrFu3jidZW1ubWq2+38bcFR8fn5KSku62osdhhfi8J3n4/RGWZ8Ezy0+mxCG2trZ1dXVSlEqlsrGxkRLjWKlklUplb29PZ7G1tbWxsZECBUHAgUZtM9Dq3LlzHI02uY086flr4fGI5b932n+Uz0t+Rx3rV6AVP6AVP6AVPz1NK1NHqGQucg2bVY653Afl9rL3fPz8/MrLy/Hn+vp6nU7Xu3dvmVgvLy+jWfz8/CoqKljlAAAAAEBPwEL8I2ScQMDKL8pCl0Z/tiCg07PCMQMHDrx+/XpBQYEgCHv27Bk5cqSlpaVU76BBg3CshYXF3r17R40aZW1tHRMTgwMRQrt378ZZBg4cWFBQkJeXJ4ri7t27cUqDVvO0ridrRYeQ9VpQ0HlZNtOtBq1AK9AKtAKt7odWgk6nExmzAaSJdKypkKUJxBwFaSJrRz5ZOxkiimJaWtr69etVKpVSqVy0aJGjoyNCaPbs2UuXLo2IiEhNTf30009x7OLFi3FsamoqmcXJycmgnMWLFzs5ORlttVlrZdROMi8JTznyrQatQCvQCrTCgFZ0aR3TStBqtSybZNwKg5S0vqyUdJp7q4g88t80KyXLftCKTglaydcIWoFW/IBW/Dw8Wpn3ejYAAAAAPDxYIWOjdX5oz8KCet5Ofsaj66HnZGju6qOlpKRIB6AuXryY56zTLtbqxIkTO3bs0Gg0np6er7/+ur+/P7pzbqt0RCs+pdJoINneTmrVgVbg1YqlS5du2rQJW3758mXyxFlXV1dBEIweQ9tdVFdXr169uqKiwsnJaf78+WFhYYhb8O69Bk+cOPHjjz9aWlra2Ni8+uqrHesqJtGxflVUVLRt27bz589///33zs7OBq0wekmSgZLBuC/hVuCU9/X3SjL722+/xWaT3PU6lSw0OF+ZFP8+XYMGlhvtV9J16ufnh/6oLetk6Pt3OG43/l6hrvpth3F2R2hubl69evWSJUu2b98+YMCA9evXd7dFhlRUVKxfv37FihVfffVVbGwstrClpWXNmjVLlizZunVrRETEhg0bWIHdjlar/fLLLz08PPC/LS0tWPBt27YZWL548eIeYvnq1asfe+yxbdu2zZw589dff0VmInhNTc2nn366cuXKdevWjR8//t///nePtfz7779//PHHDTbpYIxekmQgqxVdcPHKmC1/neLeLgXitnSl+DKWY+jr1Gi36XrLH2Dk7tl6CjJWFEXJYREEQTC2D5BEIDA1lqxLHlYJdGkY0nJy/6F8mfis09DQUIRQUlLSxYsXNRpNj9LK1dV19erVvr6+CKHBgwfjx9sMjmi9ePFiW1sbHajT6e6hVjQ8/Wrbtm0JCQkODg64xrS0NAPBpRNnQ0NDBUFISkpKSUkhLefXSt5aznZVVlbW1NSMHTtWFMXRo0fPmzcPD0HCwsLCwsIsLCwMzA4JCcFmGwjeAa1ICzvQryorK93d3d3c3ARBCA0NraioEASB7hVardbgMGCW5ffvGlyyZMmgQYOMFogNViqVer1+ypQp+JIkr1PJYCnQwsJi2rRp8q24J79XMma7ubmtWbNG5jrFPUQSH/d2bHZ7e/t9vQax5YMHD0Z3djXT5UjXKboz5qZ7CHmdsn5h5K3lb1d3/V6Rpd3v33YYZ3cEfNYp/iydmdq9Jhlgb28vHfuXlpbWv39/hBhrD/gAACAASURBVBA+txUHGhzmSgZ2e1sKCwszMjKmTJkihRgVvEdZXlRU5OXl9c9//vOVV155/fXXCwsLzcJshFBISIhGo0lPT9doNMeOHRsyZAgy1lWqq6vxUcEGgd1m9x8xajCn/lWMc1W7gM5cp91oNsbodWrU8h7+a2leWAmCQM+tczo+nLBK5q9F3hWi7RcYqxqskLu6WgZlkmediqKIT0W9awk83HOtMjMz9+/fv3r1anTHbOyBojtHtGq1WvqEV6M1dkwrU/uVKIqffPLJ3/72N9JXpQ+XVavV2HKpLhnL5e2UsQRx96umpqYrV678+9//DgoKOnHixPvvv79p0yajZhs9KLcbr0GFQjF79uz/+7//c3V11Wq1K1euRIxTgY02hyyza65BuhBRFDmlxoEGHd7goOJu+b3KyMgwuE6llGRbpLx3PV+5M9cgD/g6ffXVVy0tLaUqZCyXMhr8Wva03/aefx+EcXZHsLW1Jd9hqlKp7OzsutEeFufOnVu3bt0777zj6emJELK1tdVoNFKsdG6rQWD3tmXfvn1KpRJv4JIwKniPstzR0VF6FVV8fHxlZWVjY6NRs+lAW44jte8f165d27Fjx5dffvnZZ58tXLjwrbfeam9v57S853R7GxsbToONXgVdaisFfZ32/G5jptfpA4CVdJOn7/b4rs7yU+h9caSfQvsRv/kI1PtV6NrJzzxemLz9pG00OA3rnFiWT9enT5+srCycSzrrVGZppFu0unz58n/+85/33nsPn8MqimKfPn2ys7PxZ/Iw1+zsbJy3rq5Op9N5enoalatjWpnar8rKynJycl555RWEUEVFxdtvv/3qq69iy/FyjoHlOFdjY6P0LXRAKxmbOftV7969GxsbpUBRFK2srOh+gs3OycnB81tSIKuXdsE1ePXq1bCwMAcHB1EUw8PD6+rqamtrJcERQg0NDbTgBpabpJXRNCb1K1EUDdJLqgqCgG3z9vY22kNwoEFf6rLfK/r39vLly19++eV7773n7e2NwyUL0R2dPT09pYsXIXT79m0caCDCvboG6X6F13HJ8vF1+te//hUhVFFR8c477+AnDvC3gP7Y4aXmkL8wPfO3veffB2Gc3RHwman5+fkIIXxmqpVVz3pDmkqlWrdu3bJly8iD042a3dPa8vrrr2/atGnjxo0bN2709fVdsWLFwIED8eGyMpbjE2e70fLg4GAHB4czZ84ghH799dd+/frZ29uzBKfb0l1mI4T69u2bm5vb0tKCEMrOznZwcOjVq5dZdBUSUlWpM8TExOAziQ0Ce04rzPc6fe211zbcAV+nMTExWPAebrm5I5BTGXLpGF4G7Vmw8tKz+Sz/iPYvsFdi6ttM5T2djpUgkZaW9umnn6rVaqVSuXDhQnzWKZmLpiu1Onz48EcffUS+rHfDhg2Ojo5GzSbPbZUC76FWd83Fatcrr7zy5ptv4idWacsFQSCPoZXOpu2uflVcXPzhhx82Nzd7eHj8z//8D953wy84Z72sdnWmX/34449Hjhyxtra2srKaO3dueHi4eOc0X8ly3JcuX77M6vYmadWBftXc3IxnX2pra93d3QVB+OSTT1xcXJ599tlFixZFRkaSUuMziRF1UDF5ejGrFff290re7KqqKpOuU3nx7+012NTUJC+4lPevf/3rW2+9JZ2jQPdt0vIFCxbgwB77237XXDRd+dsO92zTSuDPRQNasXLRgFasXDQPuVa7d++OiIjAzxcZ5KLpOVrRZptLvyItf4D7lUwumq7sV1acRrOskZ9/px9To+f9f/MdiLUH+TbTBtMrCvI2k7kw9JnsrNJ4AK1AKwxo1QVaXb16deLEiQZRPV+rq1evPvbYYzw2k7kw3duvrl69OmnSpAe+XxmlR/QrckffXZG3lU7ZMVtpWN8cTyzt15C5MKzvlbacH9CKH9CKH9CKH9CKH9CKn+7VyopzMoH2HeQ9HRZ0ejJEfr6C/ubkW0hbzmNV51sKWoFWtA2gFb9VoBW/VaAVv1UPhlawbxwAAAAAzIPfz0Ejwfd5eU9H3hfAyJcs72vw+FA8syUsD4iM5WkLKw1oRQNagVZkLGglXz4ZC1rJl0/GPpxawTgbAAAAAMwDw33j5B2e9ixYfgfLr6Fn/2nIlPJpWHayoH0ZukWs3Q10vfI2gFagFat2+XpBK9CKtha0kudh1grG2QAAAABgHvw+zpafQ2fF8q8rsGCVxqqRDOex2dTa6RL41ZCPBa1AK7IE0IpVO10CaMWqnS4BtGLVTpdgjlrBOBsAHnx0Ol1QUFBOTg5C6NSpU2FhYTU1Nd1tFAAAJiN3dqmpp8rRs/y0v0D7GqxVB3l/h/XUPCuN/NoGbQ9tgzygFWglT7drtWbNmpKSkuXLl8fFxX3//fdRUVF3bcVDqxWCfvVHQKueoxW8XwUAHgpeeumlqKio3NzcVatWkTdsAADMCOP3bHpdgd+LYaXk92s6n1fej2Ol75gXBlqBVvLpe4hWLi4ugYGBer3+qaee4rSBZY+p6c1OK5Nq73xe0Kpj6R9OrWA9GwAeCt5//32lUllYWFhSUtLdtgAA0EEM17NpL4DlF9DPpRkpnZrBp70V1tNvrL1zdI3yPhRZmvzePB4fii5ZPgQDWoFW/NwPrQ4dOrRixYpTp0598MEHDQ0NH374IWjFKg36FWjVk7WCcTYAPOAUFBTMmzfv22+/tbW1/ctf/rJ169a6urruNgoAgI5gOM4m333Ggt9nYe2Xo30iec+rM5bwrH/QOwNJS3jeItcZC8mUoBUPoBVoReYCrUCrh0crGGcDAAAAgHlg+F4vns8YlhfAWj+Q300nXw72huQ9FH5LyFiyFaz1A5Y3B1qBVqxY0EreEjIWtJK3hIwFreQtIWMfVK1gnA0AAAAA5oGg0+n47/ksSP/FSB0cqw50epYvxqqdVWPnMdV+eUArfkArfkArfkArfkArfrpGKxhnAwAAAIB58Ps5aPJrAzSsmXoyF2v/m6n7CVlrA3QuU70w2mae2kEr0Eoe0Iof0Iof0IqfB1UrGGcDAAAAgHkgtLW18b+xxFQfBEM+68byp+i5ftpb4V8DYCFfJr1+QJcMWtGWgFagFb8loBW/JaAVvyUPj1YwzgYAAAAA88C0d3HSXgAP8ilNXaWQh3/VgfRr5M967bwloBW/JaAVvyWgFb8loBW/JaAVvyVdrxWMswEAAADAPLAyuPmTPghrPxsZTobQkGl40tOnwtLp+dcSyLbI+1Z4pYGEVoDlzYFWoBVoRaen2wJaseqi2wJaseqi2/KwaQXjbAAAAAAwDwzH2fQuNTqchmdHH8uXkc9FpuzYbj0MvapB+3emen+gFSuWx0L59DzWglb81oJW/NaCVvzWglb81t4rrWCcDQAAAADmgeE4G/Pb/ZzjeTKM/Iw/vSpAlsAqny5T3gbaW8HpsRfGKp+FfCxtA2jFA2gFWtGxLEArOpYFaEXHsjB3rWCcDQAAAADmgRUyZb6ehCclvbuPhH5zKs8OQNZpNbQXw+OpyVtOpwStWJbTKUErluV0StCKZTmdErRiWU6nBK1YltMpzUYrTssAAAAAAOheDM9Bo70AFrSHwvIj5L0Gul759PKxpq5V8KSRt4QH0Aq04q8LtOKvC7Tirwu04q+rJ2sF42wAAAAAMA+sBEEgT4rhf9aNtaLA83YUetYe56LPrOEvk7akY2sSLA8Lh4NWoBVoxVMybbk8oBVoxVMybbk8D55WMM5+ELhx40ZLSwtPymvXrt1vY4C7otfrCwoKeFLevHmzsbHxfttjLuj1+uTk5DNnzuzcuVOj0XS3Ob/D/4Wq1erS0tL7bQ/wACN3zxZFUXIu8GdBEAxcFYGATH+/EQnuVZlk61if5e0hP3eZVrdv387OznZwcJC3TRTF9vZ2nU6XkpLS+Ur5tcrPzy8rK2tubi4qKsK/VtCvjh496uzsfNd+1d7e7uHhcejQodbWVtRVWjU1NV25cqWurq6mpiYjI6OtrY2VsuuvwVu3bl27dm3UqFEODg7JyclG7SE/d0CrjjXnyJEjLi4uMglwsXq9XqFQ5Obm3rx509QqaO7H75WeQAp8IK9B+rO8PeTn7v29Mu1dnEC38Ouvv2ZkZOh0OqVSKQhCe3v7jRs3RFFctGgRQmjv3r1PP/20lLihoeHYsWNZWVm2trYTJkyIjo7evXt3RkZGv379Bg4cOGDAgG+++SYkJMTV1bUzJt28eTM1NbW5ubmhoWHChAnBwcE4vL29/eTJkx4eHpGRkTjk1KlTRUVFCKGAgICnnnqKLiolJaWsrMzOzk6hUIwbNw5fDCdPnmxpabG2tnZwcBg+fHhnTL1/XLp0qbKyUqvVIoTc3d1DQ0N9fX2zs7MvXLhQWloaFRVlaWnZ1NRUV1c3duzYiIgInCsvL8/S0tLLy0u6sC9evJiWllZeXh4SEvL000/X1NR8/fXXNjY2gYGBU6ZMGTZs2OHDhydPntwZU0VRPH36dH19fWVlZZ8+fSZOnGhtbY2jKisrDx8+/Oyzz+J/a2pqvvnmG4SQQqFITEy0sjL8iSgpKUlOTnZ1dVWpVBMnTrSzs0MIVVdXnz171snJSaVSjRgxolevXp2xloWPj8+sWbMQQiqVyt/fv8Pl3L59++eff7527Zqfn9+oUaP69++PEEpPT9+3b5+7u/ukSZOUSiV/afgL9fT0lEIKCwuTk5Nzc3N79+49depUT0/Pzz77rKGhQalUxsXFjR07dsuWLX/+859ZU6AmIYrif/7znyeffNLLywshpNfrjx07JoqiVqsdNGiQj4+PFKjX63Fg7969pewFBQWpqakzZsxACP34448ZGRlSlJ+f38svv2zQ0sLCQp1OV1tb+8QTT3h4eODCjx8/LtXo7e3d+UYBMlguX75c4FgnECgsLCykjB3zLOhcPB6W5ONIlphUI2KvauAW4b+0L0ZX12Va9e3bNysrS6lUTp06tX///uHh4TExMfn5+dHR0UVFRc3NzfhHB2Nra/voo4/W1dXV19cnJSVZWFiUlZVNmDAhLi4OX6u2trZpaWmhoaHylcprtW3btoSEhBEjRrS0tOzfv3/w4MEKhSI1NfXChQsZGRlKpdLHxwfnvX79+vTp08eNGzd06FAbGxuDcvLz83/99dcXXnghLCwsPT1drVb7+fllZWVZWFjEx8f37ds3OTnZwcHBJA+ja/rViRMnWltbJ06c+Oijj9rY2Pzyyy+TJk0SBMHLy6uhoUGtVj/33HNhYWGRkZFKpXL79u3BwcFubm6CIOzbt2/ChAkKhUKqyM/PT6lUJicnjx49OiAgoLW1ta2t7b//+7/Dw8MtLCycnZ1Pnz6tVCptbW073K8yMzNv3LiRlJQ0YMCAPXv2tLa29uvXT61W79u3Lzs7u6amRnKMGhoa3Nzc/vSnP02cOJG+LzY2Nm7evPmpp56KjIxUq9UXLlwIDw8XBGHnzp1PP/103759e/Xq9dNPP0VHR8t8O6gT16ClpeX169fVajU2uGPXoK2tbXh4+OnTp8eOHSs5l/b29qIozpo1y93dnWW50X61b9++xMREhUIhhbu5uUVERGRmZvr6+g4fPlyv11dWVs6aNSsmJsbJycnS0rKmpqa1tRXfZWXg0So5OTklJWXYsGGOjo4IoX379vn7+w8fPjwlJaWxsTEkJEQKHDZs2MWLFxsbGyWPRK1Wb9++3cnJKSIiQhCEa9euTZ48OTY2NjY2VqVSPfbYY46OjlKr9Xr9559/PmzYsJEjR167di0rKysmJgYhtH//frLwfv36yWgFv+1GLTdJK1jPNgNaW1tv3ryJx7Iqlaqurs7GxgbfgNPT0/v27UtniY2NbWhoyMvLO3HiREhISEBAgBQVGBiYl5fXGXv0er1Go6moqEAIhYeHa7XawsJChFBMTMy0adPwb4eEhYWFj4+Pvb290aJyc3NdXV3xgMPT0zM9PR0hdPv27atXr+p0OoSQnZ3dPRmO3Fv0ev358+eloXNwcHBoaKhkZ3FxMfmleHh4BAQE4KbV19e3tLQYSIQQcnNzCw0NvXDhQl1d3fnz5x977DFLS0spNjAwMD8/vzMGt7W13bhxA8/NKpVKvK3Bzs5u2rRpgwcPNkjs7Ozs5eVlVPaSkpLW1lY8jPbw8Lh69apWq9Xr9aWlpXg2xdbW9r5+Xzdu3FCpVImJiZzrxywsLS2dnZ0bGhqkkHPnzo0dO9bUchoaGpqbm+kvVBCE2NjYnJychoaGAwcOjB8/nkwTHBycm5vbYeMlqqqq2tvbpX8LCgquXr2Ku2VSUlJCQgIOvHLlihRItvHkyZNhYWHSv5GRkX5+fn369Glubg4NDSWH4wghCwuLoUOHYu+5ubkZz9PgGsPDw+nCgfuEFbrb83AszwXHkn/JlDw+C4lg4rNrrHDyTBkWprpCpG131aq2tvann36aM2cOQigrK6uysjIxMZHMq1Kpzp49a9R+V1dX+gcUIVRcXKzX6wMDAxFCZ8+ejY6OFgQBjzPKyspGjx5NZ/Hz8/P19d2/f/+TTz4pTVzjumxsbCwtLRsbG52cnMjay8vLr1y5YrR1wcHB2H3GWFhYvPHGG/izWq1GCElDE/p712q1P//8s16vb2pqeuKJJ7DnLqW0srKSNli2tLTU1taKohgbG3v27NmPP/44MjLSwcGBdDg61q/a29vPnDlz7tw5tVqNcw0cODApKUlKI7WdLBPn7du3b79+/Qz6FR7w7d+/PzY2NjAw0NnZecqUKTivTqcrKysbMWIEWZRWq8WbBG/cuCFNHhr0q9jY2G3bth06dGjatGnSbQ/H9u7du7CwcNCgQQatO3nypEajoXUQBCEhIYG86w8aNEjKrlar3dzcWFoJgpCTk1NVVVVXVxcaGmpQKZ4q1+v1lpaWLS0tbW1tjY2NHh4eo0aN+vrrrwcNGtTW1vb444+LotjJa/DKlSuHDh26ffs2Tunu7v7GG2/U1dXt2LHDzs7uxIkTBgojhE6dOmWwMU1qUUJCAn1qtKurq3TPzsvLCwsLw/NAOLa9vf3QoUP4c3l5+fPPP69QKI4fP15SUhIWFtbc3FxZWTl79mzyCzUgJibm6NGj27dvnzlzJr7WJKt8fHx++uknQRAM+tXp06fx3gUDBEEYO3asgTOEHcfJkycfOnQIhxQUFNjb2x8/flyj0ahUqieeeEIUxfz8fHt7+6NHj0qBuI25ubkBAQG3bt1qbm7G2fE1rlarL1++PHPmTPq3PSEhQaVSYX96ypQpgiDQNRo1Hj0Qv+0ysV15H4T17HtMXl4eXuFDCGVlZZG3Ooydnd348eNN+l4LCwttbW0PHz7c0NBQXV09YcIEdOc22dLSIlVnQFBQ0Pnz543+oNjZ2bW0tJC/IwihPn369OnTR94SmpMnT0ZHR/v5+bHSBwcHR0VF2djYnD17dufOnc8//zwZGxMTk5WVpdForKysiouL8dqwvb39kCFD8vLyTp48GRUVpdfrOzl027t3r4ODw/z583Nzc8+ePfvaa68ZJJDaTt+zjSIIwjPPPHP48OFdu3bp9fq4uLhx48bhqLKyMsnBwuj1+qqqKuyNNTc3s74vf39/S0tLhUJBLyHj74vOEhcXh9i/F0apqKgoKyubO3cuK4Gjo+PAgQMjIiLa29v/+c9/enh4kG1RKpVubm5lZWVBQUF4cgV/ZYMGDbp+/Xp2dralpWVMTEwn17PT0tLS09NfeOEFjUazYcOGhQsX4i2Wbm5ueA+HUbDzyrqyaNzc3PA9W6vV3rp1C4spsWvXLm9v79GjR+OhpEKhyM/PDwoKKikpaWho6N+/f1ZWliiKMl+onZ2dl5dXa2srvbLD+kIN/G/5a/Ds2bPDhg0jLw28eWLYsGEODg4///zzzz//PG3aNCnQ3t7+wIEDBw4cSEpKUqlUxcXFjz322K1btwyKTU5OfvTRR1mVVlRU1NbW4h2UCKHm5ua6urqhQ4c6ODhIhcvYDHSe33xPo9ArCnQaViwOkV+TIGth1fWblRYW5MiD83aCc9GrF3RKHI5LlvZM3rWNRrUqKirC41q9Xl9cXBwYGNh5rQoLC6OiopKSkp5//nm8De327dv4EaD29nYrKytaqytXrvTu3dvBweHixYt0gVZWVvintpNaJScn29nZJSUlybRxyJAhNjY2oii6u7sXFha2traSJXt7e8+cOfPo0aPnz58PCgpydnYWRfHYsWNOTk6vvPLKjBkzCgoKzp0715l+VVpaWlpampiYaGdnFxQU1NjY2Pl+he/KL7300tKlS+Pi4rCFOLawsLBPnz54xIYNKCoqUqvVkZGRer2+vb3d0tKSrkur1R47diw+Pj4rK0ulUhn0K/L7ovse3XaWVmq1+sCBA3PmzJE8OSmlJJe7uzueR7W0tHRxcbl69SqplUKheOmll65cuXLq1Cm8BcnZ2bmlpeX7779/7rnn5s+fHxwcvGPHDmnCtgP9Ck/MJCUlOTs7e3p62tvbkzPYRhUwuAZlUpKxeJwtimJqaurQoUNJ2yorK69cuTJkyBCEUHV1dVBQEELIz8/P39//xo0bQ4YMCQoKWrhwoaWlJb4AkbHfKzwZcPv2bXoa39LSEi/9kJik1a1btwRB8PLykt5tJYqinZ1dr169sH+DvzspEK/WS4EnT54cM2YMrVV7e3tycrK3tzerX/Xr12/06NEeHh6bN2/W6/V0jWT6B+y3XSYlK1beto5pBePse4koiiUlJXgcXFFRIQiCh4eHSqUiV3PVajVrbtzNzY2e/2xubq6qqkpMTEQIWVhY4PHc2bNnJ02ahBCyt7dvbW2V9gBjCgoKGhoahg8fXlNTk5qaOnbsWIOhW2trK70drLy8PCcnBxnz7g3mxjG5ubnNzc1JSUn19fUqlcrX15fUAX+4devWli1bXn75ZScnJ1EUyesT09bWptVqH3vsMYTQrl27cC1ZWVmvvvoqQigiIkIURdaMPSeFhYWhoaFY5NLSUj8/PzqN1HYSgZgbJ8Nra2tzcnLwkMja2rp///6pqakWFha41devXyd3HYuieObMmdjYWLw6aG9vX1VVZVARnoYdM2aMpaXlqVOn0tPTDbbKG/2+kIlTqW1tbXgY1KtXr5ycHLwGKRkpfd65c6ejoyPuXaIo0oP+qqqq8ePHW1tbp6WleXl5OTo6ZmZmBgcH29jY2NjYPPXUUx9//HFtba3Baig/5eXlrq6uzs7OCKGGhobW1lZyS7YMMmpIc+Mk+J5dWVnp5eVlIG9ubq6fnx8OLCoqCg0NVavVtra2ZWVltra25CyCvb19dXW1UWP69u0bGBiYnJx88eJFg43oGo3G6Bd66tQp6bk+gyYYfKG5ubm1tbW7d+/G9+wjR44MHTq0V69e0sPf4p3lCTqwpaWlurr64MGDCKHy8nKtVvvTTz/hae3KykqVSmV06eTWrVsHDx5MSkpydXV1d3dvbm6ura0lC0cc0zxA5zF8f7ZAzSzxOD5kLpFaG5AvhxVOlkm/+YROicshuzWnyyalpFtBfqZLo7W6efOmWq3Gd+j09HS8dcjOzo6cXbS3t8c3YIN6WbUXFhZaWlpiTx97ysnJyU5OTvjHFM/v4R84zPXr1wsLC3EVgwcPPnPmTE5OjrSPV7gzo9WrVy8DrXx9ffF9l247rVVpaWlWVlZsbGxRUVF+fr60cV3SCn+ws7Pz8PBwdHQUBKG4uDg8PFyhUIiiiGfUXV1dS0pKtm/f/uabb2q12rKyMrwPwNvbu7i4uF+/foIg6HS64OBg7CmjDvUrhUKBfwfb2touXryI1+FwlNSvDNYF6PJJrfLz84uLi0eNGiUIQnt7+4kTJ/AdDiGkVqtv3rwpfb86ne7QoUO2trbYKUF/XEMV76x///LLLyNHjsR7lMLDwy9evDh8+HCyVzQ2Nhq9bxndyoCM9VhRFPfu3atUKpuamvDmRPKeTSa2s7PDG+jwnCreVl1SUlJdXT148GC9Xv/1118///zzwcHB6enpiYmJgiD4+PhcvnwZ3w90Op2jo6OHhwf/rwdpgHBnvwUOOXXq1KRJk/DMhNHSyKuGXCmQB+dyc3PT6XRFRUXDhw836Fe9evXCd+L6+vrCwsKEhISTJ09OnDixsLCwb9++ZGI3N7fMzEwDS06fPu3u7o6v+tjY2D179jQ0NEgz5IIgSF+owTUofaF3vQbj4+NxjSqVKiMjY9y4cV5eXt7e3idPnsTuRU1NTVRUFEIoMjLy5MmTra2ttra2tbW1UVFRjo6OeIlKFMWff/4ZbzTBJeONpeQYoLS0FH/1ePCAL+3q6moPDw88wpYKl2qUsZzUH2Muv+095z5ouWzZMh4LTIX1HXQ+JX+4qXSmfJwmMzOzpqamtra2pqbG0dGxoqJCFMWYmBj5ElgK6PX6vXv3pqWltbe319XVXbt2LScn5/jx41euXJk+fTq+rpqampqamvAzOVlZWb/88suJEyfc3d3xitSxY8du3rxZVlZ2+/ZtvEFUEITa2trS0tLY2FgeTYzS1ta2adOm8vJyvO5YWlo6YcIEa2vrnJyc06dPl5WVVVdXV1RU9OvXz97e3sLCIjMzMzMzUxTFP/3pT1ZWVhqNZs+ePX5+fr169XJyctJqtUVFRdeuXXv88cfxCKZfv35nzpy5cuUK3iw9cuRIcgbMqFYyqvbu3TszM7OkpCQvL2/UqFHkfACZklUCTXZ2tlKpPHz48LVr165evRoZGYknk8+ePXv8+PGGhoa2trb8/PysrKyrV6/269dv3Lhx0s+Nk5PTsWPH8C1Zp9Pt2rXr0KFDFRUV+Je0tLQ0NTW1pqbm5s2b9vb27u7u2Aa8R93o6IdHAYQQ3oJ39epV/JUFBQWFhIS0tbXt378/Nzf39u3blZWVoij27t3b19cXW56ZmTlx4kS8ATA9Pf3q1asxMTEWFhaW6XyuogAAA7ZJREFUlpa3bt3KycmJjIzEvpqDg4ONjc3hw4eLiopyc3PHjRtHOpGm2uzk5FRfX5+Tk1NQUNCnTx/8QFFnfh9Y4CWkyZMnW1lZGfQrV1fXnJyc8vJyvF+krKwsIiLC1dU1Ozu7f//+vXr1klKSXyhC6OjRowcPHszMzAwJCfHx8VGpVMePH799+3ZJSUlbWxu+TgVByM3NdXBwIDeHdgDsBx89erS6urq+vt7BwaF3795eXl74eAY3Nzfc8aytrb28vI4ePZqVleXu7o4DsbUHDx68du1afX19fX09fvizqampsrISrxRgpK/e3d3d0tIyPz//2rVrKpVqxowZtra21tbWnp6eBoUbfCMPxm97Z+q9x/dBjUbDSke+05T2VvhTss5xlS+T9ErIlPzbkVhjRH6PiWUDDbZq27ZtYWFh8r8y91arpqamnTt3vvDCC0btNKrViRMnvLy8yEe6UXdo9dD2qwMHDoSGhoaEhHBqpdVqv/7667lz5z6EWsnYQNNd/erAgQMhISH4nsep1ZYtW5KSkgw2gT4MWpHWQr8iLefXqsc9+Wq+iKJYUlJCPpjUBTg5OQUFBfE/vKtWq6uqqh555JH7ahUgQ3x8fEpKCv/kXnJyssF2IaBHER8ff+nSJf4vtLS0tE+fPgY3bADgRG4PmvybSUjvQD4la8WCnt9nrTrQc/q0R8ZaP6DLlJ9/INPwr2To9fqWlhZXV1dPT0+WD3iftBo7duzBgwd9fX3xOrq8VqdPn37iiScE6lDcLtaKs8wHsl85OjqOGTPmwoUL5Awkixs3bigUCnoDIF3vA6mVUQvl28hT5r3VytHRMT4+Pjk5ediwYWQ4WZqklUajycnJmTRp0sOpFVk+HQ79igwhyyfD5ebGWZaxQuTDWbXw2ErTse+V5/1ov80/WFigP34TPH2CLAG0Aq3ockAr0IpMD1rRgFbyWsmNs+WVZVnJUxrL0+H/Xlna8a8NsMLp3sADaMUPaMUPaMUPaMUPaMVPT9MK1rMBAAAAwDyw4nQ65D0U1jwDGU5Cz3WQ4TgXeT4wGUvDmhWhPReWF8byd+iUPIBWoBVoRacHrTCgFWhFtsJUrWCcDQAAAADmgeF6tvzcOiuN/Aw+P/xz+iwPRb5klrcl7+mwAK3o9CxAKzo9C9CKTs8CtKLTswCt6PQserJWMM4GAAAAAPPASrxzlLz8TD1r/z0NqwTau6HLJFcCaP/F1P1+LF+JPq2GBW0JaMUCtAKtWJaAVjyAVvw8zFr9f4W0UgDlw99IAAAAAElFTkSuQmCC)"
      ],
      "metadata": {
        "id": "Iy41hgQZESlo"
      },
      "id": "Iy41hgQZESlo"
    },
    {
      "cell_type": "code",
      "source": [
        "# Peluang CPI di daerah Toko-1 memiliki nilai lebih dari rata-rata (μ)\n",
        "above_mean = 1 - expon.cdf(x=x, scale=mean)\n",
        "print(f'Peluang CPI di daerah Toko-1 memiliki nilai lebih dari rata-rata (μ) adalah {above_mean:.2%}')"
      ],
      "metadata": {
        "colab": {
          "base_uri": "https://localhost:8080/"
        },
        "id": "LExqlIETgVrO",
        "outputId": "237de214-43fb-455d-8183-a5646eaf871e"
      },
      "id": "LExqlIETgVrO",
      "execution_count": 45,
      "outputs": [
        {
          "output_type": "stream",
          "name": "stdout",
          "text": [
            "Peluang CPI di daerah Toko-1 memiliki nilai lebih dari rata-rata (μ) adalah 36.79%\n"
          ]
        }
      ]
    },
    {
      "cell_type": "markdown",
      "source": [
        "[Source](https://homepage.divms.uiowa.edu/~mbognar/applets/exp-like.html)"
      ],
      "metadata": {
        "id": "_zNurCceDH9d"
      },
      "id": "_zNurCceDH9d"
    },
    {
      "cell_type": "markdown",
      "source": [
        "Diketahui peluang CPI di daerah Toko-1 kurang dari rataannya adalah 63.21% dan peluang CPI di daerah Toko-1 lebih dari rataannya adalah 36.78%. Jadi peluang CPI di daerah Toko-1 lebih mungkin terjadi ketika nilai CPI kurang dari rataannya. Ini adalah hal yang baik, karena semakin rendah nilai CPI maka daya beli masyarakat semakin tinggi."
      ],
      "metadata": {
        "id": "uoRyPxSeEVi-"
      },
      "id": "uoRyPxSeEVi-"
    },
    {
      "cell_type": "markdown",
      "source": [
        "## Bayes Rule"
      ],
      "metadata": {
        "id": "UuLo6bNCW6hO"
      },
      "id": "UuLo6bNCW6hO"
    },
    {
      "cell_type": "markdown",
      "source": [
        "\n",
        "$$\n",
        "P(\\text{A|B}) = \\cfrac{P(\\text{A}) P(\\text{B} \\ | \\ \\text{A})}{P(\\text{B})}\n",
        "$$\n"
      ],
      "metadata": {
        "id": "h6SldMTJcoHK"
      },
      "id": "h6SldMTJcoHK"
    },
    {
      "cell_type": "markdown",
      "source": [
        "Misal:\n",
        "\n",
        "    - A = {weekly sales lebih tinggi dari rata-rata}\n",
        "    - B = {CPI lebih rendah dari rata-rata}\n",
        "\n",
        "\n",
        "    Maka yang akan dicari adalah:\n",
        "\n",
        "$$\n",
        "P(\\text{high_sales|low_cpi}) = \\cfrac{P(\\text{high_sales}) P(\\text{low_cpi} \\ | \\ \\text{high_sales})}{P(\\text{low_cpi})}\n",
        "$$\n",
        "\n",
        "Dimana:\n",
        "\n",
        "     P(high_sales) = prior\n",
        "     P(low_cpi|high_sales) = likelihood\n",
        "     P(low_cpi) = evidence = marginal likelihood\n",
        "     P(high_sales|low_cpi) = posterior\n",
        "\n",
        "\n"
      ],
      "metadata": {
        "id": "00IxSA1wcvz6"
      },
      "id": "00IxSA1wcvz6"
    },
    {
      "cell_type": "markdown",
      "source": [
        "### Peluang Toko-1 memiliki Weekly Sales lebih dari rata-rata Weekly Sales ketika diketahui CPI lebih rendah dari rata-rata CPI."
      ],
      "metadata": {
        "id": "5AHGVDNXMTqs"
      },
      "id": "5AHGVDNXMTqs"
    },
    {
      "cell_type": "code",
      "source": [
        "# Mencari rata-rata CPI dan Weekly Sales\n",
        "sales_mean = store_1_new['Weekly_Sales'].mean()\n",
        "cpi_mean = store_1_new['CPI'].mean()\n",
        "\n",
        "# Filter toko-toko dengan CPI dibawah rata-rata\n",
        "low_cpi_stores = store_1_new[store_1_new['CPI'] < cpi_mean]\n",
        "\n",
        "# Menghitung prior probability\n",
        "prior_prob = len(store_1_new[store_1_new['Weekly_Sales'] > sales_mean]) / len(store_1_new)\n",
        "\n",
        "# Menghitung likelihood\n",
        "likelihood = len(low_cpi_stores[low_cpi_stores['Weekly_Sales'] > sales_mean]) / len(low_cpi_stores)\n",
        "\n",
        "# Menghitung evidence\n",
        "evidence = len(store_1_new[store_1_new['CPI'] < cpi_mean]) / len(store_1_new)\n",
        "\n",
        "# Menghitung posterior probability menggunakan Teorema Bayes\n",
        "posterior_prob = (likelihood * prior_prob) / evidence\n",
        "\n",
        "print(\"Prior probability: \", prior_prob)\n",
        "print(\"Likelihood: \", likelihood)\n",
        "print(\"Evidence: \", evidence)\n",
        "print(\"Peluang Toko Memiliki Weekly Sales Lebih dari Rata-rata Weekly Sales Ketika CPI Lebih Rendah dari Rata-rata CPI:\", posterior_prob)"
      ],
      "metadata": {
        "colab": {
          "base_uri": "https://localhost:8080/"
        },
        "id": "HxvRKY5HW8a-",
        "outputId": "331a8178-6ed0-4170-ca50-94eb38b6d272"
      },
      "id": "HxvRKY5HW8a-",
      "execution_count": 46,
      "outputs": [
        {
          "output_type": "stream",
          "name": "stdout",
          "text": [
            "Prior probability:  0.49264705882352944\n",
            "Likelihood:  0.43209876543209874\n",
            "Evidence:  0.5955882352941176\n",
            "Peluang Toko Memiliki Weekly Sales Lebih dari Rata-rata Weekly Sales Ketika CPI Lebih Rendah dari Rata-rata CPI: 0.35741502819692117\n"
          ]
        }
      ]
    },
    {
      "cell_type": "code",
      "source": [
        "print(f\"*Rata-rata sales Toko 1 adalah {sales_mean}\")\n",
        "print(f\"**Rata-rata CPI adalah {cpi_mean}\")"
      ],
      "metadata": {
        "colab": {
          "base_uri": "https://localhost:8080/"
        },
        "id": "liUmatXFWpdO",
        "outputId": "12333b02-b7d5-4b9b-cf37-bde62b01a720"
      },
      "id": "liUmatXFWpdO",
      "execution_count": 47,
      "outputs": [
        {
          "output_type": "stream",
          "name": "stdout",
          "text": [
            "*Rata-rata sales Toko 1 adalah 1530028.208897059\n",
            "**Rata-rata CPI adalah 215.98938417279413\n"
          ]
        }
      ]
    },
    {
      "cell_type": "markdown",
      "source": [
        "### Peluang Toko memiliki Weekly Sales lebih dari rata-rata Weekly Sales ketika Fuel Price lebih rendah dari rata-rata Fuel Price."
      ],
      "metadata": {
        "id": "bQqzN7-7MPuh"
      },
      "id": "bQqzN7-7MPuh"
    },
    {
      "cell_type": "code",
      "source": [
        "# Mencari rata-rata Fuel Price dan Weekly Sales\n",
        "sales_mean = store_1_new['Weekly_Sales'].mean()\n",
        "fuel_mean = store_1_new['Fuel_Price'].mean()\n",
        "\n",
        "# Filter toko-toko dengan Fuel_Price dibawah rata-rata\n",
        "low_fuel_stores = store_1_new[store_1_new['Fuel_Price'] < fuel_mean]\n",
        "\n",
        "# Menghitung prior probability dari toko memiliki weekly sales > rata-rata weekly sales\n",
        "prior_prob = len(store_1_new[store_1_new['Weekly_Sales'] > sales_mean]) / len(store_1_new)\n",
        "\n",
        "# Menghitung likelihood dari toko memiliki weekly sales di atas rata-rata weekly sales yang diberikan Fuel_Price lebih rendah dari rata-rata Fuel_Price.\n",
        "likelihood = len(low_fuel_stores[low_fuel_stores['Weekly_Sales'] > sales_mean]) / len(low_fuel_stores)\n",
        "\n",
        "# Menghitung evidence dari toko memiliki weekly sales di atas rata-rata weekly sales yang diberikan Fuel Price lebih rendah dari rata-rata Fuel Price\n",
        "evidence = len(store_1_new[store_1_new['Fuel_Price'] < cpi_mean]) / len(store_1_new)\n",
        "\n",
        "# Menghitung posterior probability menggunakan Teorema Bayes\n",
        "posterior_prob = (likelihood * prior_prob) / evidence\n",
        "\n",
        "print(\"Peluang Toko Memiliki Weekly Sales Lebih dari Rata-rata Weekly Sales Ketika Fuel Price Lebih Rendah dari Rata-rata Fuel Price:\", posterior_prob)"
      ],
      "metadata": {
        "colab": {
          "base_uri": "https://localhost:8080/"
        },
        "id": "gifFCY9VYu8P",
        "outputId": "2cea7927-1b4c-43e4-a895-c3f2ca8f97f2"
      },
      "id": "gifFCY9VYu8P",
      "execution_count": 48,
      "outputs": [
        {
          "output_type": "stream",
          "name": "stdout",
          "text": [
            "Peluang Toko Memiliki Weekly Sales Lebih dari Rata-rata Weekly Sales Ketika Fuel Price Lebih Rendah dari Rata-rata Fuel Price: 0.18150154798761609\n"
          ]
        }
      ]
    },
    {
      "cell_type": "code",
      "source": [
        "print(f\"*Rata-rata sales Toko 1 adalah {sales_mean}\")\n",
        "print(f\"**Rata-rata fuel price adalah {fuel_mean}\")"
      ],
      "metadata": {
        "colab": {
          "base_uri": "https://localhost:8080/"
        },
        "id": "jivZp9yjMzN8",
        "outputId": "cd098fbf-67a6-4612-caa6-43bd98a44fac"
      },
      "id": "jivZp9yjMzN8",
      "execution_count": 49,
      "outputs": [
        {
          "output_type": "stream",
          "name": "stdout",
          "text": [
            "*Rata-rata sales Toko 1 adalah 1530028.208897059\n",
            "**Rata-rata fuel price adalah 3.2244779411764704\n"
          ]
        }
      ]
    },
    {
      "cell_type": "markdown",
      "source": [
        "## Pengujian Hipotesis"
      ],
      "metadata": {
        "id": "Xkmuxohi2C1w"
      },
      "id": "Xkmuxohi2C1w"
    },
    {
      "cell_type": "markdown",
      "source": [
        "### Hypothesis Testing Mean pada Toko-1"
      ],
      "metadata": {
        "id": "fU02U8uT2pHB"
      },
      "id": "fU02U8uT2pHB"
    },
    {
      "cell_type": "markdown",
      "source": [
        "Apakah rata-rata (miu) penjualan mingguan (weekly sales) kurang dari 1,500,000 (1500000)."
      ],
      "metadata": {
        "id": "W4anb3gjp4os"
      },
      "id": "W4anb3gjp4os"
    },
    {
      "cell_type": "code",
      "source": [
        "w_sales_1 = store_1_new['Weekly_Sales']\n",
        "a = np.mean(w_sales_1)\n",
        "b = np.var(w_sales_1)\n",
        "print(a, b)"
      ],
      "metadata": {
        "colab": {
          "base_uri": "https://localhost:8080/"
        },
        "id": "hqkapF6M6hxs",
        "outputId": "a6d47a7a-9022-46c2-e5bc-9389c6c23786"
      },
      "id": "hqkapF6M6hxs",
      "execution_count": 50,
      "outputs": [
        {
          "output_type": "stream",
          "name": "stdout",
          "text": [
            "1530028.208897059 10568802882.567709\n"
          ]
        }
      ]
    },
    {
      "cell_type": "code",
      "source": [
        "# H0: miu >= 1500000\n",
        "# H1: miu <  1500000 # yang ditanyakan\n",
        "\n",
        "w_sales_1 = store_1_new['Weekly_Sales']\n",
        "alpha = 0.05\n",
        "mu0 = 1500000\n",
        "\n",
        "# rata rata sample\n",
        "xbar = np.mean(w_sales_1)\n",
        "std = np.std(w_sales_1)\n",
        "n_sample = len(w_sales_1)\n",
        "\n",
        "# hitung t-statistic secara manual\n",
        "t_hitung = (xbar-mu0)/(std/np.sqrt(n_sample)) # varians populasi tidak diketahui\n",
        "\n",
        "# hasil t_hitung perhitungan manual\n",
        "print(f't_hitung: {round(t_hitung,3)}')\n",
        "\n",
        "# Nilai Critical Value berdasarkan critical t dari t-table dengan nilai alpha 0.05 dan degree of freedom (df = n-1)\n",
        "t_crit = t.ppf(alpha,df=n_sample-1)\n",
        "print('t_table:', t_crit)\n",
        "\n",
        "pvalue_manual = t.cdf(t_hitung, n_sample-1)\n",
        "print('p_value: ',pvalue_manual)"
      ],
      "metadata": {
        "colab": {
          "base_uri": "https://localhost:8080/"
        },
        "id": "FuXnmpSK3_K8",
        "outputId": "d6f9441a-84d0-4a2a-a5a4-a850111d0ebe"
      },
      "id": "FuXnmpSK3_K8",
      "execution_count": 51,
      "outputs": [
        {
          "output_type": "stream",
          "name": "stdout",
          "text": [
            "t_hitung: 3.406\n",
            "t_table: -1.6562191327514424\n",
            "p_value:  0.9995661196004019\n"
          ]
        }
      ]
    },
    {
      "cell_type": "code",
      "source": [
        "print('Pengambilan Keputusan')\n",
        "\n",
        "# jika p-value besar dari alpha maka:\n",
        "if pvalue_manual > alpha:\n",
        "  print('Gagal tolak H0')\n",
        "# jika p-value tidak lebih besar dari alpha maka:\n",
        "else:\n",
        "  print('Tolak H0')"
      ],
      "metadata": {
        "colab": {
          "base_uri": "https://localhost:8080/"
        },
        "id": "cXMd4S3khAgz",
        "outputId": "d615af60-03be-4f48-8550-3ca990479a71"
      },
      "id": "cXMd4S3khAgz",
      "execution_count": 52,
      "outputs": [
        {
          "output_type": "stream",
          "name": "stdout",
          "text": [
            "Pengambilan Keputusan\n",
            "Gagal tolak H0\n"
          ]
        }
      ]
    },
    {
      "cell_type": "markdown",
      "source": [
        "Berdasarkan hasil perhitungan, nilai t_hitung sebesar 3.406 dan nilai t_table sebesar -1.656. Karena nilai t_hitung lebih besar dari nilai t_table dan p-value sebesar 0.999 lebih besar dari alpha (0.05), maka gagal tolak H0.\n",
        "\n"
      ],
      "metadata": {
        "id": "r_eXSPK_jOGP"
      },
      "id": "r_eXSPK_jOGP"
    },
    {
      "cell_type": "markdown",
      "source": [
        "Dalam konteks ini, H0 adalah bahwa rata-rata weekly sales)sama dengan atau lebih dari 1.500.000. Hipotesis alternatif (H1) adalah bahwa rata-rata penjualan mingguan kurang dari 1500000. Karena gagal menolak H0, maka tidak memiliki cukup bukti untuk menyatakan bahwa rata-rata penjualan mingguan kurang dari 1500000."
      ],
      "metadata": {
        "id": "ta1Z_ouGjPf0"
      },
      "id": "ta1Z_ouGjPf0"
    },
    {
      "cell_type": "code",
      "source": [
        "# H0: miu <= 1500000\n",
        "# H1: miu >  1500000 # yang ditanyakan\n",
        "\n",
        "w_sales_1 = store_1_new['Weekly_Sales']\n",
        "\n",
        "alpha = 0.05\n",
        "mu0 = 1500000\n",
        "\n",
        "# rata rata sample\n",
        "xbar = np.mean(w_sales_1)\n",
        "std = np.std(w_sales_1)\n",
        "n_sample = len(w_sales_1)\n",
        "\n",
        "# hitung t-statistic secara manual\n",
        "t_hitung = (xbar-mu0)/(std/np.sqrt(n_sample))\n",
        "\n",
        "# hasil t_hitung perhitungan manual\n",
        "print(f't_hitung: {round(t_hitung,3)}')\n",
        "\n",
        "# Nilai Critical Value berdasarkan critical t dari t-table dengan nilai alpha 0.005 dan degree of freedom (df = n-1)\n",
        "t_crit = t.ppf(1-alpha,df=n_sample-1)\n",
        "print('t_table:', t_crit)\n",
        "\n",
        "pvalue_manual = t.cdf(t_hitung, n_sample-1)\n",
        "print('p_value: ',1-pvalue_manual) # lebih dari, dihitung dari kiri, sehingga 1 -"
      ],
      "metadata": {
        "colab": {
          "base_uri": "https://localhost:8080/"
        },
        "id": "lsD6FDHG9SSS",
        "outputId": "0a5039fc-e388-438e-9d40-857906315992"
      },
      "id": "lsD6FDHG9SSS",
      "execution_count": 53,
      "outputs": [
        {
          "output_type": "stream",
          "name": "stdout",
          "text": [
            "t_hitung: 3.406\n",
            "t_table: 1.6562191327514415\n",
            "p_value:  0.00043388039959812996\n"
          ]
        }
      ]
    },
    {
      "cell_type": "markdown",
      "source": [
        "Berdasarkan hasil perhitungan, nilai p-value sebesar 0.00043388039959812996 lebih kecil dari alpha (0.05), dan nilai t_hitung sebesar 3.406 lebih besar dari nilai t_table sebesar 1.656. Oleh karena itu, kita dapat menolak hipotesis nol (H0) dan menyimpulkan bahwa rata-rata penjualan mingguan (weekly sales) di toko tersebut lebih besar dari 1500000."
      ],
      "metadata": {
        "id": "bpuHWiGN-JCu"
      },
      "id": "bpuHWiGN-JCu"
    },
    {
      "cell_type": "markdown",
      "source": [
        "Dalam konteks ini, hipotesis nol (H0) adalah bahwa rata-rata penjualan mingguan sama dengan atau kurang dari 1500000. Hipotesis alternatif (H1) adalah bahwa rata-rata penjualan mingguan lebih dari 1500000. Karena kita menolak H0, maka kita memiliki cukup bukti untuk menyatakan bahwa penjualan mingguan di toko tersebut lebih dari 1500000."
      ],
      "metadata": {
        "id": "48TRm_Omjw3s"
      },
      "id": "48TRm_Omjw3s"
    },
    {
      "cell_type": "markdown",
      "source": [
        "\n",
        "\n",
        "---\n",
        "\n"
      ],
      "metadata": {
        "id": "-0eqNINz_IIm"
      },
      "id": "-0eqNINz_IIm"
    },
    {
      "cell_type": "markdown",
      "source": [
        "Menghitung statistik uji dan nilai p-value menggunakan library scipy"
      ],
      "metadata": {
        "id": "LZHsEdySs4bz"
      },
      "id": "LZHsEdySs4bz"
    },
    {
      "cell_type": "code",
      "source": [
        "stat, pvalue = ttest_1samp(a=w_sales_1, popmean=mu0, alternative='less')\n",
        "print(stat, pvalue)"
      ],
      "metadata": {
        "colab": {
          "base_uri": "https://localhost:8080/"
        },
        "id": "ARDQs6Gs_NgE",
        "outputId": "f8ac339b-d05a-47ed-ceef-d272452219f1"
      },
      "id": "ARDQs6Gs_NgE",
      "execution_count": 54,
      "outputs": [
        {
          "output_type": "stream",
          "name": "stdout",
          "text": [
            "3.3937778722853937 0.9995474030910875\n"
          ]
        }
      ]
    },
    {
      "cell_type": "markdown",
      "source": [
        "Berdasarkan hasil perhitungan, nilai p-value sebesar 0.999 kurang dari alpha (0.05), dan nilai t_hitung sebesar 3.394 lebih dari nilai t_table sebesar 1.656. Oleh karena itu, gagal tolak H0 dan cukup bukti bahwa rata-rata weekly sales di Toko 1 lebih dari sama dengan 1.500.000."
      ],
      "metadata": {
        "id": "7qPcQhGF_jyV"
      },
      "id": "7qPcQhGF_jyV"
    },
    {
      "cell_type": "markdown",
      "source": [
        "\n",
        "\n",
        "---\n",
        "\n"
      ],
      "metadata": {
        "id": "JK7w0s1lkcxZ"
      },
      "id": "JK7w0s1lkcxZ"
    },
    {
      "cell_type": "markdown",
      "source": [
        "### Hypothesis Testing Proportion"
      ],
      "metadata": {
        "id": "ICzDkfDTGAju"
      },
      "id": "ICzDkfDTGAju"
    },
    {
      "cell_type": "markdown",
      "source": [
        "Dua populasi"
      ],
      "metadata": {
        "id": "jfWLcWbNIH3T"
      },
      "id": "jfWLcWbNIH3T"
    },
    {
      "cell_type": "markdown",
      "source": [
        "Seorang pengamat retail menyatakan bahwa weekly sales toko 7 lebih sering diatas rata-rata nasional daripada weekly sales toko 8. Apakah benar?"
      ],
      "metadata": {
        "id": "8YJcn9ljII8T"
      },
      "id": "8YJcn9ljII8T"
    },
    {
      "cell_type": "code",
      "source": [
        "# H0: Weekly sales toko 7 tidak lebih sering di atas rata-rata nasional daripada weekly sales toko 8.\n",
        "# H1: Weekly sales toko 7 lebih sering di atas rata-rata nasional daripada weekly sales toko 8.\n",
        "\n",
        "# cari rata-rata weekly sales nasional\n",
        "mean_nat_sales = wal_new['Weekly_Sales'].mean()\n",
        "print(mean_nat_sales)\n",
        "\n",
        "# cari rata-rata weekly sales toko-1, hitung berapa yang diatas rata-rata nasional?\n",
        "store_1_sales = wal_new[wal_new['Store'] == 1]['Weekly_Sales']\n",
        "count_sales1 = len(store_1_sales[store_1_sales > mean_nat_sales])\n",
        "\n",
        "print(f\"Jumlah weekly sales dari Store = 1 yang lebih besar dari mean_nat_sales: {count_sales1}\")\n",
        "\n",
        "# cari rata-rata weekly sales toko-2, hitung berapa yang diatas rata-rata nasional?\n",
        "store_2_sales = wal_new[wal_new['Store'] == 2]['Weekly_Sales']\n",
        "count_sales2 = len(store_2_sales[store_2_sales > mean_nat_sales])\n",
        "\n",
        "print(f\"Jumlah weekly sales dari Store = 2 yang lebih besar dari mean_nat_sales: {count_sales2}\")"
      ],
      "metadata": {
        "id": "wQiOn91tIxmB",
        "colab": {
          "base_uri": "https://localhost:8080/"
        },
        "outputId": "506003a5-0da7-4917-c70f-dfbc4bfc0f7a"
      },
      "id": "wQiOn91tIxmB",
      "execution_count": 55,
      "outputs": [
        {
          "output_type": "stream",
          "name": "stdout",
          "text": [
            "1036130.3535369473\n",
            "Jumlah weekly sales dari Store = 1 yang lebih besar dari mean_nat_sales: 143\n",
            "Jumlah weekly sales dari Store = 2 yang lebih besar dari mean_nat_sales: 141\n"
          ]
        }
      ]
    },
    {
      "cell_type": "code",
      "source": [
        "# cari rata-rata weekly sales nasional\n",
        "mean_nat_sales = wal_new['Weekly_Sales'].mean()\n",
        "print(mean_nat_sales)\n",
        "\n",
        "# cari rata-rata weekly sales toko 7, count lebih dari rata-rata nasional?\n",
        "store_7_sales = wal_new[wal_new['Store'] == 7]['Weekly_Sales']\n",
        "count_sales7 = len(store_7_sales[store_7_sales > mean_nat_sales])\n",
        "\n",
        "# cari rata-rata weekly sales toko 8, count lebih dari rata-rata nasional?\n",
        "store_8_sales = wal_new[wal_new['Store'] == 8]['Weekly_Sales']\n",
        "count_sales8 = len(store_8_sales[store_8_sales > mean_nat_sales])"
      ],
      "metadata": {
        "colab": {
          "base_uri": "https://localhost:8080/"
        },
        "id": "aHT5o3xFpZ5m",
        "outputId": "989ef156-0697-40cc-979d-0cb59659f1a0"
      },
      "id": "aHT5o3xFpZ5m",
      "execution_count": 56,
      "outputs": [
        {
          "output_type": "stream",
          "name": "stdout",
          "text": [
            "1036130.3535369473\n"
          ]
        }
      ]
    },
    {
      "cell_type": "code",
      "source": [
        "# H0: Weekly sales toko 7 tidak lebih sering di atas rata-rata nasional daripada weekly sales toko 8.\n",
        "# H1: Weekly sales toko 7 lebih sering di atas rata-rata nasional daripada weekly sales toko 8.\n",
        "\n",
        "# Count weekly sales toko 7 dan 8 lebih dari weekly sales national:\n",
        "print(f\"Jumlah weekly sales dari Store 7 yang lebih besar dari mean_nat_sales: {count_sales7}\")\n",
        "print(f\"Jumlah weekly sales dari Store 8 yang lebih besar dari mean_nat_sales: {count_sales8}\")"
      ],
      "metadata": {
        "colab": {
          "base_uri": "https://localhost:8080/"
        },
        "id": "3uzDb4Rey8Oi",
        "outputId": "60277063-9488-4799-9687-ea155227b7e4"
      },
      "id": "3uzDb4Rey8Oi",
      "execution_count": 57,
      "outputs": [
        {
          "output_type": "stream",
          "name": "stdout",
          "text": [
            "Jumlah weekly sales dari Store 7 yang lebih besar dari mean_nat_sales: 2\n",
            "Jumlah weekly sales dari Store 8 yang lebih besar dari mean_nat_sales: 11\n"
          ]
        }
      ]
    },
    {
      "cell_type": "code",
      "source": [
        "# Count sample sizes:\n",
        "print('Count weekly sales dari Toko 7 adalah', len(store_7_sales))\n",
        "print('Count weekly sales dari Toko 8 adalah', len(store_8_sales))"
      ],
      "metadata": {
        "colab": {
          "base_uri": "https://localhost:8080/"
        },
        "id": "c364WCL8wuPH",
        "outputId": "2658b114-154f-4a4b-979c-c364443d790c"
      },
      "id": "c364WCL8wuPH",
      "execution_count": 58,
      "outputs": [
        {
          "output_type": "stream",
          "name": "stdout",
          "text": [
            "Count weekly sales dari Toko 7 adalah 143\n",
            "Count weekly sales dari Toko 8 adalah 143\n"
          ]
        }
      ]
    },
    {
      "cell_type": "code",
      "source": [
        "great_weekly_sales = np.array([  2,  11])\n",
        "total_sample_sizes = np.array([143, 143])"
      ],
      "metadata": {
        "id": "ELtY7FJsBBaZ"
      },
      "id": "ELtY7FJsBBaZ",
      "execution_count": 59,
      "outputs": []
    },
    {
      "cell_type": "code",
      "source": [
        "stat, pvalue = proportions_ztest(great_weekly_sales, total_sample_sizes, alternative='larger')\n",
        "print(stat, pvalue)"
      ],
      "metadata": {
        "colab": {
          "base_uri": "https://localhost:8080/"
        },
        "id": "j-9FDhoXBUj7",
        "outputId": "f0a56d34-98cb-4319-f1c4-588ae2bbee2e"
      },
      "id": "j-9FDhoXBUj7",
      "execution_count": 60,
      "outputs": [
        {
          "output_type": "stream",
          "name": "stdout",
          "text": [
            "-2.554891881757921 0.9946889606995236\n"
          ]
        }
      ]
    },
    {
      "cell_type": "markdown",
      "source": [
        "Tidak ada cukup bukti statistik untuk menolak H0. Ini berarti bahwa tidak ada cukup bukti untuk menyimpulkan bahwa weekly sales toko 7 lebih sering di atas rata-rata nasional daripada weekly sales toko 8 secara signifikan."
      ],
      "metadata": {
        "id": "Y_GP0WVmOROM"
      },
      "id": "Y_GP0WVmOROM"
    },
    {
      "cell_type": "markdown",
      "source": [
        "Gagal menolak hipotesis nol (H0) dan menyimpulkan bahwa tidak ada cukup bukti untuk menyatakan bahwa weekly sales toko 7 lebih sering di atas rata-rata nasional daripada weekly sales toko 8"
      ],
      "metadata": {
        "id": "ZkYbTYD_LTCP"
      },
      "id": "ZkYbTYD_LTCP"
    },
    {
      "cell_type": "markdown",
      "source": [
        "\n",
        "\n",
        "---\n",
        "\n"
      ],
      "metadata": {
        "id": "9_G-EVe3wUui"
      },
      "id": "9_G-EVe3wUui"
    },
    {
      "cell_type": "markdown",
      "source": [
        "### Hypothesis Testing Variance"
      ],
      "metadata": {
        "id": "B7DuKHpEKU5A"
      },
      "id": "B7DuKHpEKU5A"
    },
    {
      "cell_type": "markdown",
      "source": [
        "Apakah varians weekly sales Toko 7 berbeda dari varians weekly sales Toko 8?"
      ],
      "metadata": {
        "id": "_yZCbN7DElvQ"
      },
      "id": "_yZCbN7DElvQ"
    },
    {
      "cell_type": "code",
      "source": [
        "# H0: Varians weekly sales toko 7 sama dengan varians weekly sales toko 8.\n",
        "# H1: Varians weekly sales toko 7 berbeda dari varians weekly sales toko 8.\n",
        "alpha = 0.05\n",
        "\n",
        "# Hitung varians weekly sales toko 7 dan 8\n",
        "variance_7 = np.var(store_7_sales, ddof=1)  # ddof=1 untuk menghitung varians sample\n",
        "variance_8 = np.var(store_8_sales, ddof=1)\n",
        "\n",
        "# Hitung nilai F-statistic\n",
        "f_statistic = variance_7 / variance_8\n",
        "\n",
        "# Hitung nilai p-value menggunakan distribusi F\n",
        "df1 = len(store_7_sales) - 1  # derajat kebebasan untuk toko 7\n",
        "df2 = len(store_8_sales) - 1  # derajat kebebasan untuk toko 8\n",
        "p_value = 2 * (1 - f.cdf(f_statistic, df1, df2))  # dikalikan 2 karena two-tailed test\n",
        "\n",
        "# Cetak hasil\n",
        "print(\"Varians weekly sales Toko 7:\", variance_7)\n",
        "print(\"Varians weekly sales Toko 8:\", variance_8)\n",
        "print(\"F-statistic:\", f_statistic)\n",
        "print(\"p-value:\", p_value)"
      ],
      "metadata": {
        "id": "jPNjL8pTPiOJ",
        "colab": {
          "base_uri": "https://localhost:8080/"
        },
        "outputId": "f6060911-de1b-4df1-ab1b-f0acf1c77599"
      },
      "id": "jPNjL8pTPiOJ",
      "execution_count": 61,
      "outputs": [
        {
          "output_type": "stream",
          "name": "stdout",
          "text": [
            "Varians weekly sales Toko 7: 12675487879.439724\n",
            "Varians weekly sales Toko 8: 11295614800.17563\n",
            "F-statistic: 1.1221600686350104\n",
            "p-value: 0.49314422376422984\n"
          ]
        }
      ]
    },
    {
      "cell_type": "code",
      "source": [
        "# Tolak H0 jika p-value kurang dari alpha\n",
        "if p_value < alpha:\n",
        "    print(\"Tolak H0\")\n",
        "else:\n",
        "    print(\"Gagal tolak H0\")"
      ],
      "metadata": {
        "colab": {
          "base_uri": "https://localhost:8080/"
        },
        "id": "JNW3CcZ5zwuy",
        "outputId": "35788913-2ef1-481c-ab5e-475643520d86"
      },
      "id": "JNW3CcZ5zwuy",
      "execution_count": 62,
      "outputs": [
        {
          "output_type": "stream",
          "name": "stdout",
          "text": [
            "Gagal tolak H0\n"
          ]
        }
      ]
    },
    {
      "cell_type": "markdown",
      "source": [
        "Gagal menolak H0, tidak ada bukti yang cukup untuk menyimpulkan perbedaan yang signifikan dalam varians weekly sales antara Toko 7 dan Toko 8."
      ],
      "metadata": {
        "id": "55Nq1rv0aXH-"
      },
      "id": "55Nq1rv0aXH-"
    },
    {
      "cell_type": "markdown",
      "source": [
        "\n",
        "\n",
        "---\n",
        "\n"
      ],
      "metadata": {
        "id": "PywJGgUFNw8G"
      },
      "id": "PywJGgUFNw8G"
    }
  ],
  "metadata": {
    "kernelspec": {
      "display_name": "Python 3",
      "language": "python",
      "name": "python3"
    },
    "language_info": {
      "codemirror_mode": {
        "name": "ipython",
        "version": 3
      },
      "file_extension": ".py",
      "mimetype": "text/x-python",
      "name": "python",
      "nbconvert_exporter": "python",
      "pygments_lexer": "ipython3",
      "version": "3.7.12"
    },
    "papermill": {
      "default_parameters": {},
      "duration": 22.064991,
      "end_time": "2022-01-22T20:34:52.348955",
      "environment_variables": {},
      "exception": null,
      "input_path": "__notebook__.ipynb",
      "output_path": "__notebook__.ipynb",
      "parameters": {},
      "start_time": "2022-01-22T20:34:30.283964",
      "version": "2.3.3"
    },
    "colab": {
      "provenance": []
    }
  },
  "nbformat": 4,
  "nbformat_minor": 5
}